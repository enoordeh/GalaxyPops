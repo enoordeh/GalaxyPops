{
 "cells": [
  {
   "cell_type": "code",
   "execution_count": 2,
   "metadata": {
    "collapsed": false
   },
   "outputs": [
    {
     "name": "stdout",
     "output_type": "stream",
     "text": [
      "The autoreload extension is already loaded. To reload it, use:\n",
      "  %reload_ext autoreload\n"
     ]
    }
   ],
   "source": [
    "import sys\n",
    "sys.path.insert(0,'/data/emiln/VIMOS_AGN/analysis/')\n",
    "from redshift_analysis.analysis_modules import plotfit4 as pf\n",
    "\n",
    "import numpy as np\n",
    "import pandas as pd\n",
    "import matplotlib\n",
    "import re\n",
    "import matplotlib.pyplot as plt\n",
    "from scipy import ndimage\n",
    "from astropy.io import fits\n",
    "from astropy.io import ascii\n",
    "from astropy.coordinates import SkyCoord\n",
    "from astropy import units as u\n",
    "from astropy.table import table\n",
    "from astropy import wcs\n",
    "import emcee\n",
    "from __future__ import division\n",
    "from astropy.cosmology import WMAP7\n",
    "import redshift_analysis.analysis_modules.create_catalog as cc\n",
    "%matplotlib inline\n",
    "%load_ext autoreload\n",
    "%autoreload 2\n",
    "\n",
    "# Make plots readable\n",
    "params = {'legend.fontsize': 18,\n",
    "\t  'figure.figsize': (6,5),\n",
    "\t 'axes.labelsize': 22,\n",
    "\t 'axes.titlesize':22,\n",
    "\t 'xtick.labelsize':18,\n",
    "\t 'ytick.labelsize':18}\n",
    "plt.rc('font', **{'family': 'serif', 'serif': ['Computer Modern']})\n",
    "plt.rc('text', usetex=True)\n",
    "plt.rcParams.update(params)"
   ]
  },
  {
   "cell_type": "code",
   "execution_count": 4,
   "metadata": {
    "collapsed": false,
    "scrolled": true
   },
   "outputs": [
    {
     "name": "stdout",
     "output_type": "stream",
     "text": [
      "1207\n",
      "1207\n",
      "32\n"
     ]
    },
    {
     "data": {
      "text/plain": [
       "36     -3.749924\n",
       "54     -3.750172\n",
       "68     -3.749538\n",
       "79     -3.749307\n",
       "148    -3.747747\n",
       "234    -3.745001\n",
       "384    -3.738760\n",
       "396    -3.772856\n",
       "463    -3.770359\n",
       "513    -3.767948\n",
       "516    -3.768007\n",
       "560    -3.766667\n",
       "600    -3.765819\n",
       "622    -3.765614\n",
       "640    -3.764467\n",
       "655    -3.764226\n",
       "661    -3.763513\n",
       "675    -3.763720\n",
       "699    -3.763179\n",
       "736    -3.758796\n",
       "757    -3.762474\n",
       "810    -3.760298\n",
       "813    -3.760700\n",
       "859    -3.757658\n",
       "919    -3.758680\n",
       "933    -3.758259\n",
       "937    -3.758034\n",
       "1013   -3.756092\n",
       "1052   -3.754887\n",
       "1100   -3.753066\n",
       "1124   -3.753143\n",
       "1177   -3.751946\n",
       "Name: Y_WORLD, dtype: float64"
      ]
     },
     "execution_count": 4,
     "metadata": {},
     "output_type": "execute_result"
    }
   ],
   "source": [
    "fitdf = pd.read_csv('/data/emiln/XLSSU122/ID_z_Chi_Dof_ChiDof_FIRST_GUESS_uniq.txt',delimiter=' ',header=None,names=['ID','z','chi2','DOF','chi2DOF'])\n",
    "filename = '/data/emiln/XLSSU122/xlssuj0217-0345-f140w_drz_sci_spec_extract.cat'\n",
    "dat = ascii.read(filename)\n",
    "sdf = pd.DataFrame(dat.as_array())\n",
    "sdf\n",
    "\n",
    "def compute_r_center(row):\n",
    "    c_ra = 34.434125\n",
    "    c_dec = -3.7587388\n",
    "    cr500 = 35 #''\n",
    "    return np.sqrt(np.square(row.X_WORLD-c_ra)+np.square(row.Y_WORLD-c_dec))*3600./cr500 # units of r500\n",
    "\n",
    "sdf['r_center'] = sdf.apply(compute_r_center,axis=1)\n",
    "sdf['r_center']\n",
    "\n",
    "\n",
    "zthresh=0.03\n",
    "mergedf = fitdf.merge(sdf,how='inner',left_on='ID',right_on='NUMBER')\n",
    "print len(fitdf)\n",
    "print len(mergedf)\n",
    "members = mergedf[(abs(mergedf['z']-1.98)<zthresh) & (mergedf['MAG_AUTO']<24)]\n",
    "print len(members)\n",
    "members.columns.values\n",
    "members['X_WORLD']\n",
    "members['Y_WORLD']"
   ]
  },
  {
   "cell_type": "code",
   "execution_count": 5,
   "metadata": {
    "collapsed": false
   },
   "outputs": [
    {
     "name": "stdout",
     "output_type": "stream",
     "text": [
      "4\n"
     ]
    },
    {
     "name": "stderr",
     "output_type": "stream",
     "text": [
      "/home/emiln/.local/lib/python2.7/site-packages/ipykernel/__main__.py:17: SettingWithCopyWarning: \n",
      "A value is trying to be set on a copy of a slice from a DataFrame.\n",
      "Try using .loc[row_indexer,col_indexer] = value instead\n",
      "\n",
      "See the the caveats in the documentation: http://pandas.pydata.org/pandas-docs/stable/indexing.html#indexing-view-versus-copy\n",
      "/home/emiln/.local/lib/python2.7/site-packages/ipykernel/__main__.py:21: SettingWithCopyWarning: \n",
      "A value is trying to be set on a copy of a slice from a DataFrame.\n",
      "Try using .loc[row_indexer,col_indexer] = value instead\n",
      "\n",
      "See the the caveats in the documentation: http://pandas.pydata.org/pandas-docs/stable/indexing.html#indexing-view-versus-copy\n"
     ]
    }
   ],
   "source": [
    "OIII_df = pd.read_csv('/data/emiln/XLSSU122/greped_oiii',delimiter=' ',header=None,names=['ID','LINE','SOMETHING','OIII_LOWER','OIII_MEAN','OIII_UPPER'])\n",
    "OIII_df['ID'] = OIII_df['ID'].str.split('_').str[0]\n",
    "OIII_df\n",
    "Hb_df = pd.read_csv('/data/emiln/XLSSU122/greped_hb',delimiter=' ',header=None,names=['ID','LINE','SOMETHING','Hb_LOWER','Hb_MEAN','Hb_UPPER'])\n",
    "Hb_df['ID'] = Hb_df['ID'].str.split('_').str[0]\n",
    "Hb_df\n",
    "OIII_df['OIII_low_sigma'] = OIII_df['OIII_MEAN'] - OIII_df['OIII_LOWER']\n",
    "Hb_df['Hb_low_sigma'] = Hb_df['Hb_MEAN'] - Hb_df['Hb_LOWER']\n",
    "n=3\n",
    "OIII_df_filtered = OIII_df[(OIII_df['OIII_MEAN']-n*OIII_df['OIII_low_sigma']) > 0]\n",
    "OIII_df_filtered\n",
    "lines_df = OIII_df_filtered.merge(Hb_df,on='ID',how='left')\n",
    "lines_df\n",
    "\n",
    "thresh=1\n",
    "AGN_df = lines_df[(np.log10(lines_df['OIII_MEAN']/lines_df['Hb_MEAN'])>thresh) | (lines_df['Hb_MEAN'].isnull())]\n",
    "AGN_df['OIII/Hb'] = np.log10(lines_df['OIII_MEAN']/lines_df['Hb_MEAN'])\n",
    "# print len(AGN_df)\n",
    "# print AGN_df['ID'].values\n",
    "\n",
    "AGN_df['ID'] = [int(i) for i in AGN_df['ID'].values.tolist()]\n",
    "# print AGN_df['ID'].values\n",
    "AGN_df = AGN_df.merge(sdf,left_on='ID',right_on='NUMBER',how='inner')\n",
    "AGN_df\n",
    "\n",
    "zthresh=0.03\n",
    "# zthresh=2\n",
    "# Filter further to cluster members\n",
    "AGN_df = AGN_df.merge(fitdf,on='ID',how='left')\n",
    "# AGN_df = AGN_df[(abs(AGN_df['z']-2)<0.1) & (AGN_df['MAG_AUTO']<24)]\n",
    "\n",
    "AGN_df = AGN_df[(abs(AGN_df['z']-1.98)<zthresh) & (AGN_df['MAG_AUTO']<24)]\n",
    "print len(AGN_df)\n",
    "AGN_df.columns.values\n",
    "agn_ids = AGN_df.ID.values"
   ]
  },
  {
   "cell_type": "code",
   "execution_count": 19,
   "metadata": {
    "collapsed": false,
    "scrolled": true
   },
   "outputs": [
    {
     "data": {
      "text/plain": [
       "263"
      ]
     },
     "execution_count": 19,
     "metadata": {},
     "output_type": "execute_result"
    }
   ],
   "source": [
    "len(mergedf)\n",
    "len(mergedf[mergedf['MAG_AUTO']<24])"
   ]
  },
  {
   "cell_type": "code",
   "execution_count": 7,
   "metadata": {
    "collapsed": true
   },
   "outputs": [],
   "source": [
    "def compute_Sigma10(row,catalog_df):\n",
    "#     cluster = row['cluster_name']\n",
    "    z = row['z']\n",
    "#     print z\n",
    "    c = SkyCoord(ra=row.X_WORLD*u.degree,dec=row.Y_WORLD*u.degree)\n",
    "    ad = WMAP7.angular_diameter_distance(z)\n",
    "    tdf = catalog_df\n",
    "    catalog = SkyCoord(ra=tdf['X_WORLD']*u.degree,dec=tdf['Y_WORLD']*u.degree)\n",
    "    d2d = c.separation(catalog)\n",
    "    d2d.sort()\n",
    "    a10 = d2d[9] #Angular distance to 10th nearest neighbour\n",
    "    d10 = a10.to(u.radian)*ad # diameter in megaparsec\n",
    "    Sigma10 = 10/(np.pi*(d10/2)**2) #http://iopscience.iop.org/article/10.1086/589936/pdf\n",
    "    return Sigma10.value"
   ]
  },
  {
   "cell_type": "code",
   "execution_count": 13,
   "metadata": {
    "collapsed": true
   },
   "outputs": [],
   "source": [
    "def compute_Sigma5(row,catalog_df):\n",
    "#     cluster = row['cluster_name']\n",
    "    z = row['z']\n",
    "#     print z\n",
    "    c = SkyCoord(ra=row.X_WORLD*u.degree,dec=row.Y_WORLD*u.degree)\n",
    "    ad = WMAP7.angular_diameter_distance(z)\n",
    "    tdf = catalog_df\n",
    "    catalog = SkyCoord(ra=tdf['X_WORLD']*u.degree,dec=tdf['Y_WORLD']*u.degree)\n",
    "    d2d = c.separation(catalog)\n",
    "    d2d.sort()\n",
    "    a10 = d2d[4] #Angular distance to 10th nearest neighbour\n",
    "    d10 = a10.to(u.radian)*ad # diameter in megaparsec\n",
    "    Sigma10 = 5/(np.pi*(d10/2)**2) #http://iopscience.iop.org/article/10.1086/589936/pdf\n",
    "    return Sigma10.value"
   ]
  },
  {
   "cell_type": "code",
   "execution_count": 8,
   "metadata": {
    "collapsed": false
   },
   "outputs": [
    {
     "name": "stderr",
     "output_type": "stream",
     "text": [
      "/home/emiln/.local/lib/python2.7/site-packages/ipykernel/__main__.py:1: SettingWithCopyWarning: \n",
      "A value is trying to be set on a copy of a slice from a DataFrame.\n",
      "Try using .loc[row_indexer,col_indexer] = value instead\n",
      "\n",
      "See the the caveats in the documentation: http://pandas.pydata.org/pandas-docs/stable/indexing.html#indexing-view-versus-copy\n",
      "  if __name__ == '__main__':\n"
     ]
    }
   ],
   "source": [
    "members['Sigma_10_phot'] = members.apply(compute_Sigma10,axis=1,args=(mergedf,))"
   ]
  },
  {
   "cell_type": "code",
   "execution_count": 20,
   "metadata": {
    "collapsed": false
   },
   "outputs": [
    {
     "name": "stderr",
     "output_type": "stream",
     "text": [
      "/home/emiln/.local/lib/python2.7/site-packages/ipykernel/__main__.py:1: SettingWithCopyWarning: \n",
      "A value is trying to be set on a copy of a slice from a DataFrame.\n",
      "Try using .loc[row_indexer,col_indexer] = value instead\n",
      "\n",
      "See the the caveats in the documentation: http://pandas.pydata.org/pandas-docs/stable/indexing.html#indexing-view-versus-copy\n",
      "  if __name__ == '__main__':\n",
      "/home/emiln/.local/lib/python2.7/site-packages/ipykernel/__main__.py:2: SettingWithCopyWarning: \n",
      "A value is trying to be set on a copy of a slice from a DataFrame.\n",
      "Try using .loc[row_indexer,col_indexer] = value instead\n",
      "\n",
      "See the the caveats in the documentation: http://pandas.pydata.org/pandas-docs/stable/indexing.html#indexing-view-versus-copy\n",
      "  from ipykernel import kernelapp as app\n"
     ]
    }
   ],
   "source": [
    "members['Sigma_5_phot'] = members.apply(compute_Sigma5,axis=1,args=(mergedf,))\n",
    "members['Sigma_5_phot_MAG<24'] = members.apply(compute_Sigma5,axis=1,args=(mergedf[mergedf['MAG_AUTO']<24],))"
   ]
  },
  {
   "cell_type": "code",
   "execution_count": 21,
   "metadata": {
    "collapsed": false
   },
   "outputs": [
    {
     "data": {
      "text/plain": [
       "4"
      ]
     },
     "execution_count": 21,
     "metadata": {},
     "output_type": "execute_result"
    }
   ],
   "source": [
    "cagn = members[members['ID'].isin(agn_ids)]\n",
    "len(cagn)"
   ]
  },
  {
   "cell_type": "code",
   "execution_count": 10,
   "metadata": {
    "collapsed": false
   },
   "outputs": [
    {
     "data": {
      "text/plain": [
       "<matplotlib.text.Text at 0x7f23fec61ed0>"
      ]
     },
     "execution_count": 10,
     "metadata": {},
     "output_type": "execute_result"
    },
    {
     "data": {
      "image/png": "[encoded data removed]",
      "text/plain": [
       "<matplotlib.figure.Figure at 0x7f23febfc490>"
      ]
     },
     "metadata": {},
     "output_type": "display_data"
    }
   ],
   "source": [
    "plt.scatter(members['r_center'],np.log10(members['Sigma_10_phot']),color='lightgray',alpha=0.8)\n",
    "plt.scatter(cagn['r_center'],np.log10(cagn['Sigma_10_phot']),s=50, color='blue')\n",
    "plt.xlim([-0.1,2.1])\n",
    "plt.ylim([0.5,6])\n",
    "plt.xlabel(r'$r/r_{500}$')\n",
    "plt.ylabel(r'$\\log (\\Sigma_{10}/~\\mathrm{Mpc^{-2}})$')"
   ]
  },
  {
   "cell_type": "code",
   "execution_count": 17,
   "metadata": {
    "collapsed": false
   },
   "outputs": [
    {
     "data": {
      "text/plain": [
       "<matplotlib.text.Text at 0x7f2421b69c10>"
      ]
     },
     "execution_count": 17,
     "metadata": {},
     "output_type": "execute_result"
    },
    {
     "data": {
      "image/png": "[encoded data removed]",
      "text/plain": [
       "<matplotlib.figure.Figure at 0x7f23fef4fb50>"
      ]
     },
     "metadata": {},
     "output_type": "display_data"
    }
   ],
   "source": [
    "plt.scatter(members['r_center'],np.log10(members['Sigma_5_phot']),color='lightgray',alpha=0.8)\n",
    "plt.scatter(cagn['r_center'],np.log10(cagn['Sigma_5_phot']),s=50, color='blue')\n",
    "plt.xlim([-0.1,2.1])\n",
    "plt.ylim([0.5,6])\n",
    "plt.xlabel(r'$r/r_{500}$')\n",
    "plt.ylabel(r'$\\log (\\Sigma_{5}/~\\mathrm{Mpc^{-2}})$')"
   ]
  },
  {
   "cell_type": "code",
   "execution_count": 22,
   "metadata": {
    "collapsed": false
   },
   "outputs": [
    {
     "data": {
      "text/plain": [
       "<matplotlib.text.Text at 0x7f23ff0bb190>"
      ]
     },
     "execution_count": 22,
     "metadata": {},
     "output_type": "execute_result"
    },
    {
     "data": {
      "image/png": "[encoded data removed]",
      "text/plain": [
       "<matplotlib.figure.Figure at 0x7f23feff6cd0>"
      ]
     },
     "metadata": {},
     "output_type": "display_data"
    }
   ],
   "source": [
    "plt.scatter(members['r_center'],np.log10(members['Sigma_5_phot_MAG<24']),color='lightgray',alpha=0.8)\n",
    "plt.scatter(cagn['r_center'],np.log10(cagn['Sigma_5_phot_MAG<24']),s=50, color='blue')\n",
    "plt.xlim([-0.1,2.1])\n",
    "plt.ylim([0.5,6])\n",
    "plt.xlabel(r'$r/r_{500}$')\n",
    "plt.ylabel(r'$\\log (\\Sigma_{5}/~\\mathrm{Mpc^{-2}}) MAG<24$')"
   ]
  },
  {
   "cell_type": "code",
   "execution_count": 11,
   "metadata": {
    "collapsed": true
   },
   "outputs": [],
   "source": [
    "mergedf['Sigma_10_phot'] = mergedf.apply(compute_Sigma10,axis=1,args=(mergedf,))"
   ]
  },
  {
   "cell_type": "code",
   "execution_count": 12,
   "metadata": {
    "collapsed": false
   },
   "outputs": [
    {
     "data": {
      "text/plain": [
       "<matplotlib.text.Text at 0x7f23fecdbd50>"
      ]
     },
     "execution_count": 12,
     "metadata": {},
     "output_type": "execute_result"
    },
    {
     "data": {
      "image/png": "[encoded data removed]",
      "text/plain": [
       "<matplotlib.figure.Figure at 0x7f23fef56990>"
      ]
     },
     "metadata": {},
     "output_type": "display_data"
    }
   ],
   "source": [
    "plt.scatter(mergedf['r_center'],np.log10(mergedf['Sigma_10_phot']),color='lightgray',alpha=0.8)\n",
    "plt.scatter(cagn['r_center'],np.log10(cagn['Sigma_10_phot']),s=50, color='blue')\n",
    "plt.xlim([-0.1,2.1])\n",
    "plt.ylim([0.5,6])\n",
    "plt.xlabel(r'$r/r_{500}$')\n",
    "plt.ylabel(r'$\\log (\\Sigma_{10}/~\\mathrm{Mpc^{-2}})$')"
   ]
  },
  {
   "cell_type": "code",
   "execution_count": null,
   "metadata": {
    "collapsed": true
   },
   "outputs": [],
   "source": []
  }
 ],
 "metadata": {
  "anaconda-cloud": {},
  "kernelspec": {
   "display_name": "Python [conda root]",
   "language": "python",
   "name": "conda-root-py"
  },
  "language_info": {
   "codemirror_mode": {
    "name": "ipython",
    "version": 2
   },
   "file_extension": ".py",
   "mimetype": "text/x-python",
   "name": "python",
   "nbconvert_exporter": "python",
   "pygments_lexer": "ipython2",
   "version": "2.7.12"
  }
 },
 "nbformat": 4,
 "nbformat_minor": 1
}
