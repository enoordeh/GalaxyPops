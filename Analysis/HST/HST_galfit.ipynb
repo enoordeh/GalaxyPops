{
 "metadata": {
  "language_info": {
   "codemirror_mode": {
    "name": "ipython",
    "version": 3
   },
   "file_extension": ".py",
   "mimetype": "text/x-python",
   "name": "python",
   "nbconvert_exporter": "python",
   "pygments_lexer": "ipython3",
   "version": "2.7.18-final"
  },
  "orig_nbformat": 2,
  "kernelspec": {
   "name": "python2",
   "display_name": "Python 2"
  }
 },
 "nbformat": 4,
 "nbformat_minor": 2,
 "cells": [
  {
   "source": [
    "# Run Galfit on HST galaxies\n",
    "- 11/11/2020: Updated to use galfit_helpers.py module"
   ],
   "cell_type": "markdown",
   "metadata": {}
  },
  {
   "source": [
    "### Load modules"
   ],
   "cell_type": "markdown",
   "metadata": {}
  },
  {
   "cell_type": "code",
   "execution_count": 1,
   "metadata": {},
   "outputs": [
    {
     "output_type": "stream",
     "name": "stderr",
     "text": [
      "/data/emiln/miniconda2/lib/python2.7/site-packages/pyfits/__init__.py:22: PyFITSDeprecationWarning: PyFITS is deprecated, please use astropy.io.fits\n  PyFITSDeprecationWarning)  # noqa\n"
     ]
    }
   ],
   "source": [
    "from __future__ import division\n",
    "import sys\n",
    "sys.path.insert(0,'/data/emiln/XLSSC122_GalPops/Analysis/Modules')\n",
    "from GalfitPyWrap import galfitwrap as gf\n",
    "import os\n",
    "import numpy as np\n",
    "import pandas as pd\n",
    "import matplotlib\n",
    "import matplotlib.pyplot as plt\n",
    "import glob\n",
    "from scipy import ndimage\n",
    "from astropy import units as u\n",
    "from astropy import wcs\n",
    "from astropy.coordinates import SkyCoord\n",
    "from astropy.io import fits, ascii\n",
    "from astropy.table import Table, hstack, join\n",
    "import pickle\n",
    "import fnmatch\n",
    "import multiprocessing as mp\n",
    "%matplotlib inline\n",
    "%load_ext autoreload\n",
    "%autoreload 2"
   ]
  },
  {
   "cell_type": "code",
   "execution_count": 2,
   "metadata": {},
   "outputs": [],
   "source": [
    "import galfit_helpers as gfh"
   ]
  },
  {
   "source": [
    "### Load HST galaxy catalog\n"
   ],
   "cell_type": "markdown",
   "metadata": {}
  },
  {
   "cell_type": "code",
   "execution_count": 12,
   "metadata": {},
   "outputs": [],
   "source": [
    "HST_cat_root = '/data/emiln/XLSSC122_GalPops/Data/HST/Products/catalogs/'\n",
    "HST_cat_filename = HST_cat_root+'xlssc122_F105_F140_redshifts_short_v4_snr_em_member2_by_hand.cat'\n",
    "full_df, member_df = gfh.load_HST_galaxy_catalog(HST_cat_filename)\n",
    "# z2_filtered_df = gfh.load_HST_galaxy_catalog(HST_cat_filename,  mag='F140W', magthresh=24, z=2.00, z_thresh=0.1, overwrite=False, verbose=True, goodfit=True) "
   ]
  },
  {
   "cell_type": "code",
   "execution_count": 14,
   "metadata": {},
   "outputs": [
    {
     "output_type": "execute_result",
     "data": {
      "text/plain": [
       "array(['phot-id', 'ra', 'dec', 'f105_kron', 'f105_ekron', 'f105_0p8',\n",
       "       'f105_e0p8', 'f140_kron', 'f140_ekron', 'f140_0p8', 'f140_e0p8',\n",
       "       'asec_fwhm', 'zz', 'zlo', 'zhi', 'chi', 'spec-id', 'mcode', 'snr',\n",
       "       'em-code', 'member1', 'member2', 'gold_cluster', 'gold_foreground',\n",
       "       'silver_cluster', '(f140)kron', 'color', 'F140W', 'ID', 'r_center',\n",
       "       'X', 'Y'], dtype=object)"
      ]
     },
     "metadata": {},
     "execution_count": 14
    }
   ],
   "source": [
    "member_df.columns.values"
   ]
  },
  {
   "source": [
    "### Set Galfit parameters"
   ],
   "cell_type": "markdown",
   "metadata": {}
  },
  {
   "cell_type": "code",
   "execution_count": 15,
   "metadata": {},
   "outputs": [],
   "source": [
    "# fit_df = filtered_df[0:4]\n",
    "fit_df = member_df[0:4]\n",
    "df_name = 'TEST_modular_galfit'\n",
    "psf_root = '/data/emiln/XLSSC122_GalPops/Data/HST/Products/PSF/'\n",
    "# psf_file = psf_root+'cosmos_3dhst.v4.0.F140W_psf.fits' # Filename causes galfit to seg fault\n",
    "psf_file = psf_root+'3DHST_F140W_PSF.fits'\n",
    "PSFf = 1 \n",
    "convbox='64 64'\n",
    "image_width = 400 # 200 for mag<23 objects, 400 for z2 objects\n",
    "timeout=5*60\n",
    "verbose=True\n",
    "width=10\n",
    "HLRwidth=5 # Cutout width = 2*HLwidth\n",
    "PA_INIT = 45\n",
    "AR_INIT = 0.5\n",
    "ZP = 26.465 # https://iopscience.iop.org/article/10.1088/0067-0049/214/2/24/pdf page 13\n",
    "# ZP = 25\n",
    "# page 20 --> All cataloged fluxes are normalized to AB zero point = 25\n",
    "MAG_INIT = 21\n",
    "fitMagnitude = True\n",
    "neighbourMagThresh=3\n",
    "DYNMAG = True\n",
    "sky='Default'\n",
    "sky_INIT=0.00001\n",
    "sigma_file = '/sigma_rms_meanexp_cps.fits'\n",
    "sigma_file = '/sigma_rms_cps.fits'\n",
    "data_file = '/data_cps.fits'\n",
    "constraint_file = 'galfit_constr.txt' # Matches van der wel 2012 constraints\n",
    "# constr_file = 'none'\n",
    "badmask='none'\n",
    "save_name = None"
   ]
  },
  {
   "cell_type": "code",
   "execution_count": 16,
   "metadata": {},
   "outputs": [],
   "source": [
    "params = {\n",
    "    'survey':'HST',\n",
    "    'fit_df':fit_df, # Dataframe with objects to be fit\n",
    "    'full_df':full_df, # Unfiltered source catalog used for fitting neighbours\n",
    "    'width':width, # Fitting region width in pixels\n",
    "    'HLRwidth':HLRwidth, # Fitting region width in # of HLR\n",
    "    'sigma_file':sigma_file, # Filename of sigma maps for sources\n",
    "    'data_file':data_file, # Filename for data cutouts for each source\n",
    "    'PSF_file':psf_file, # File_name of PSF to be used\n",
    "    'usePSF':True, # Use PSF in fitting?\n",
    "    'timeout':timeout, # Max runtime per object in seconds\n",
    "    'PSFf':PSFf, # Fine sampling factor\n",
    "    'verbose':verbose, # Verbose mode\n",
    "    'PA_INIT':PA_INIT, # Initial position angle\n",
    "    'AR_INIT':AR_INIT, # Initial axis ratio\n",
    "    'MAG_INIT':MAG_INIT, # Initial magnitude\n",
    "    'convbox':convbox, # Region to convolve PSF with in pixels (i.e. '100 100')\n",
    "    'ZP':ZP, # Zeropoint \n",
    "    'constraint_file':constraint_file, # Galfit constraint filename\n",
    "    'image_width':image_width, # Size of data+sigma images being used (200 for COSMOS cutouts)\n",
    "    'useDYNMAG':DYNMAG, # Initialize magnitudes from catalog?\n",
    "    'badmask':badmask, # filename for bad pixel mask\n",
    "    'fitMagnitude':fitMagnitude, # Fit magnitudes?\n",
    "    'sky':sky, # Sky fitting mode for galfit (i.e. 'default')\n",
    "    'sky_INIT':sky_INIT, # Initial sky level\n",
    "    'neighbourMagThresh':neighbourMagThresh, # Additional magnitude threshhold to fit neighbours (i.e. 3 -> only neighbours with mag < source_mag+3 are fit)\n",
    "    'df_name': df_name, # Descriptive name of catalog being fit\n",
    "    'save_name':save_name # Filename to save results to, overrides default\n",
    "}"
   ]
  },
  {
   "cell_type": "code",
   "execution_count": null,
   "metadata": {},
   "outputs": [],
   "source": [
    "new_df, savename = gfh.run_galfit_parallel(params,**params) # Feeds in unwrapped params as well as a copy to be passed as kwargs to sub functions"
   ]
  },
  {
   "source": [
    "### Validate results"
   ],
   "cell_type": "markdown",
   "metadata": {}
  },
  {
   "cell_type": "code",
   "execution_count": 5,
   "metadata": {},
   "outputs": [
    {
     "output_type": "error",
     "ename": "NameError",
     "evalue": "name 'new_df' is not defined",
     "traceback": [
      "\u001b[0;31m\u001b[0m",
      "\u001b[0;31mNameError\u001b[0mTraceback (most recent call last)",
      "\u001b[0;32m<ipython-input-5-3669fb29dbf6>\u001b[0m in \u001b[0;36m<module>\u001b[0;34m()\u001b[0m\n\u001b[0;32m----> 1\u001b[0;31m \u001b[0mnew_df\u001b[0m\u001b[0;34m\u001b[0m\u001b[0m\n\u001b[0m",
      "\u001b[0;31mNameError\u001b[0m: name 'new_df' is not defined"
     ]
    }
   ],
   "source": [
    "new_df"
   ]
  },
  {
   "cell_type": "code",
   "execution_count": 6,
   "metadata": {},
   "outputs": [
    {
     "output_type": "error",
     "ename": "NameError",
     "evalue": "name 'fit_df' is not defined",
     "traceback": [
      "\u001b[0;31m\u001b[0m",
      "\u001b[0;31mNameError\u001b[0mTraceback (most recent call last)",
      "\u001b[0;32m<ipython-input-6-afeaae29739a>\u001b[0m in \u001b[0;36m<module>\u001b[0;34m()\u001b[0m\n\u001b[1;32m      1\u001b[0m \u001b[0;31m# Plot fits by ID\u001b[0m\u001b[0;34m\u001b[0m\u001b[0;34m\u001b[0m\u001b[0m\n\u001b[0;32m----> 2\u001b[0;31m \u001b[0;32mfor\u001b[0m \u001b[0mID\u001b[0m \u001b[0;32min\u001b[0m \u001b[0mfit_df\u001b[0m\u001b[0;34m[\u001b[0m\u001b[0;34m'ID'\u001b[0m\u001b[0;34m]\u001b[0m\u001b[0;34m:\u001b[0m\u001b[0;34m\u001b[0m\u001b[0m\n\u001b[0m\u001b[1;32m      3\u001b[0m     \u001b[0mgfh\u001b[0m\u001b[0;34m.\u001b[0m\u001b[0mplot_by_ID\u001b[0m\u001b[0;34m(\u001b[0m\u001b[0mID\u001b[0m\u001b[0;34m,\u001b[0m\u001b[0msave_name\u001b[0m\u001b[0;34m=\u001b[0m\u001b[0msavename\u001b[0m\u001b[0;34m,\u001b[0m\u001b[0msurvey\u001b[0m\u001b[0;34m=\u001b[0m\u001b[0;34m'3DHST'\u001b[0m\u001b[0;34m)\u001b[0m\u001b[0;34m\u001b[0m\u001b[0m\n",
      "\u001b[0;31mNameError\u001b[0m: name 'fit_df' is not defined"
     ]
    }
   ],
   "source": [
    "# Plot fits by ID\n",
    "for ID in fit_df['ID']:\n",
    "    gfh.plot_by_ID(ID,save_name=savename,survey='3DHST')"
   ]
  },
  {
   "cell_type": "code",
   "execution_count": null,
   "metadata": {},
   "outputs": [],
   "source": []
  }
 ]
}