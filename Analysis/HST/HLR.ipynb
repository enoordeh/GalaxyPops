{
 "metadata": {
  "language_info": {
   "codemirror_mode": {
    "name": "ipython",
    "version": 3
   },
   "file_extension": ".py",
   "mimetype": "text/x-python",
   "name": "python",
   "nbconvert_exporter": "python",
   "pygments_lexer": "ipython3",
   "version": "2.7.18-final"
  },
  "orig_nbformat": 2,
  "kernelspec": {
   "name": "Python 2.7.18 64-bit ('miniconda2': conda)",
   "display_name": "Python 2.7.18 64-bit ('miniconda2': conda)",
   "metadata": {
    "interpreter": {
     "hash": "00c8b6b64f89aae2e3461d8ff462552bdceb069014f9c4541f5a9a6ad206dba4"
    }
   }
  }
 },
 "nbformat": 4,
 "nbformat_minor": 2,
 "cells": [
  {
   "source": [
    "## Test Half-Light Radii in spec-phot catalog\n",
    "- Previous HLR from SExtractor \"flux_radius\" were too large for deblended objects\n",
    "- Sanity + visual check spec-phot \"fwhm\" measure of HLR\n",
    "- Does FWHM of 2D {Gaussian, Sersic} (what profile is assumed in SExtractor?) contain half the light?"
   ],
   "cell_type": "markdown",
   "metadata": {}
  },
  {
   "cell_type": "code",
   "execution_count": 1,
   "metadata": {},
   "outputs": [
    {
     "output_type": "stream",
     "name": "stderr",
     "text": [
      "/data/emiln/miniconda2/lib/python2.7/site-packages/pyfits/__init__.py:22: PyFITSDeprecationWarning: PyFITS is deprecated, please use astropy.io.fits\n  PyFITSDeprecationWarning)  # noqa\n"
     ]
    }
   ],
   "source": [
    "import sys\n",
    "sys.path.insert(0,'/data/emiln/XLSSC122_GalPops/Analysis/Modules/GalfitPyWrap')\n",
    "import galfitwrap as gf\n",
    "import os\n",
    "\n",
    "import numpy as np\n",
    "import pandas as pd\n",
    "import matplotlib\n",
    "import matplotlib.pyplot as plt\n",
    "import glob\n",
    "from scipy import ndimage\n",
    "from astropy import units as u\n",
    "from astropy.coordinates import SkyCoord, Angle\n",
    "from astropy.io import fits\n",
    "from astropy.io import ascii\n",
    "from astropy import wcs\n",
    "from astropy.table import Table, hstack, join\n",
    "from __future__ import division\n",
    "import fnmatch\n",
    "import multiprocessing as mp\n",
    "%matplotlib inline\n",
    "\n",
    "# Make plots readable\n",
    "# Update plot params\n",
    "# Make plots readable\n",
    "params = {'legend.fontsize': 18,\n",
    "\t  'figure.figsize': (6,5),\n",
    "\t 'axes.labelsize': 22,\n",
    "\t 'axes.titlesize':22,\n",
    "\t 'xtick.labelsize':18,\n",
    "\t 'ytick.labelsize':18}\n",
    "plt.rc('font', **{'family': 'serif', 'serif': ['Computer Modern']})\n",
    "plt.rc('text', usetex=True)\n",
    "plt.rcParams.update(params)\n",
    "# plt.rc('font', **{'family': 'serif', 'serif': ['Computer Modern']})\n",
    "# plt.rc('text', usetex=True)\n",
    "# plt.rc('text.latex', preamble=r'\\usepackage{cmbright}')\n",
    "# plt.rcParams.update(params)"
   ]
  },
  {
   "cell_type": "code",
   "execution_count": 2,
   "metadata": {},
   "outputs": [],
   "source": [
    "cat_file = '/data/emiln/XLSSC122_GalPops/Data/Products/HST/catalogs/xlssc122_F105_F140_redshifts_short_v4_snr_em_member2_by_hand.cat'\n",
    "df = pd.read_csv(cat_file,delim_whitespace=True)"
   ]
  },
  {
   "cell_type": "code",
   "execution_count": 3,
   "metadata": {},
   "outputs": [
    {
     "output_type": "execute_result",
     "data": {
      "text/plain": [
       "array(['phot-id', 'ra', 'dec', 'f105_kron', 'f105_ekron', 'f105_0p8',\n",
       "       'f105_e0p8', 'f140_kron', 'f140_ekron', 'f140_0p8', 'f140_e0p8',\n",
       "       'asec_fwhm', 'zz', 'zlo', 'zhi', 'chi', 'spec-id', 'mcode', 'snr',\n",
       "       'em-code', 'member1', 'member2'], dtype=object)"
      ]
     },
     "metadata": {},
     "execution_count": 3
    }
   ],
   "source": [
    "df.columns.values"
   ]
  },
  {
   "cell_type": "code",
   "execution_count": 4,
   "metadata": {},
   "outputs": [
    {
     "output_type": "stream",
     "name": "stdout",
     "text": [
      "4\n33\n13\n"
     ]
    }
   ],
   "source": [
    "df['gold_cluster'] = 0\n",
    "df['gold_foreground'] = 0\n",
    "df['silver_cluster'] = 0\n",
    "df.columns.values\n",
    "df['(f140)kron'] = df['f140_kron']\n",
    "for i,r in df.iterrows():\n",
    "    if (r['member1']>0.5) and (r['(f140)kron']<24 or (r['(f140)kron']<24.5 and r['em-code']==1)):\n",
    "#         print 'cluster mem'\n",
    "        df.at[i,'gold_cluster'] = 1\n",
    "    if (r['member1']<0.5 and r['member1']>0.1) and (r['(f140)kron']<24 or (r['(f140)kron']<24.5 and r['em-code']==1)):\n",
    "#         print 'cluster mem'\n",
    "        df.at[i,'silver_cluster'] = 1\n",
    "    if (r['member2']>0.5) and (r['(f140)kron']<24 or (r['(f140)kron']<24.5 and r['em-code']==1)):\n",
    "        df.at[i,'gold_foreground'] = 1  \n",
    "print df['silver_cluster'].sum()\n",
    "print df['gold_cluster'].sum()\n",
    "print df['gold_foreground'].sum()\n",
    "df['is_member'] = df.apply(lambda x: True if x.gold_cluster or x.silver_cluster else False, axis=1)"
   ]
  },
  {
   "cell_type": "code",
   "execution_count": 5,
   "metadata": {},
   "outputs": [],
   "source": [
    "df = pd.read_csv('/data/emiln/XLSSC122_GalPops/Data/Products/HST/catalogs/spec_phot_v4_processed.cat')"
   ]
  },
  {
   "cell_type": "code",
   "execution_count": 6,
   "metadata": {},
   "outputs": [
    {
     "output_type": "execute_result",
     "data": {
      "text/plain": [
       "<matplotlib.axes._subplots.AxesSubplot at 0x7fc5e16a1610>"
      ]
     },
     "metadata": {},
     "execution_count": 6
    },
    {
     "output_type": "stream",
     "name": "stderr",
     "text": [
      "/data/emiln/miniconda2/lib/python2.7/site-packages/matplotlib/font_manager.py:1331: UserWarning: findfont: Font family [u'serif'] not found. Falling back to DejaVu Sans\n  (prop.get_family(), self.defaultFamily[fontext]))\n"
     ]
    },
    {
     "output_type": "display_data",
     "data": {
      "image/png": "[encoded data removed]",
      "text/plain": "<Figure size 432x288 with 1 Axes>",
      "image/svg+xml": "<?xml version=\"1.0\" encoding=\"utf-8\" standalone=\"no\"?>\n<!DOCTYPE svg PUBLIC \"-//W3C//DTD SVG 1.1//EN\"\n  \"http://www.w3.org/Graphics/SVG/1.1/DTD/svg11.dtd\">\n<!-- Created with matplotlib (http://matplotlib.org/) -->\n<svg height=\"258.281364pt\" version=\"1.1\" viewBox=\"0 0 384.372858 258.281364\" width=\"384.372858pt\" xmlns=\"http://www.w3.org/2000/svg\" xmlns:xlink=\"http://www.w3.org/1999/xlink\">\n <defs>\n  <style type=\"text/css\">\n*{stroke-linecap:butt;stroke-linejoin:round;}\n  </style>\n </defs>\n <g id=\"figure_1\">\n  <g id=\"patch_1\">\n   <path d=\"M 0 258.281364 \nL 384.372858 258.281364 \nL 384.372858 0 \nL 0 0 \nz\n\" style=\"fill:none;\"/>\n  </g>\n  <g id=\"axes_1\">\n   <g id=\"patch_2\">\n    <path d=\"M 38.872858 228.14 \nL 373.672858 228.14 \nL 373.672858 10.7 \nL 38.872858 10.7 \nz\n\" style=\"fill:#ffffff;\"/>\n   </g>\n   <g id=\"patch_3\">\n    <path clip-path=\"url(#pb0aa9fa768)\" d=\"M 54.091039 228.14 \nL 84.527403 228.14 \nL 84.527403 227.900871 \nL 54.091039 227.900871 \nz\n\" style=\"fill:#1f77b4;\"/>\n   </g>\n   <g id=\"patch_4\">\n    <path clip-path=\"url(#pb0aa9fa768)\" d=\"M 84.527403 228.14 \nL 114.963767 228.14 \nL 114.963767 228.14 \nL 84.527403 228.14 \nz\n\" style=\"fill:#1f77b4;\"/>\n   </g>\n   <g id=\"patch_5\">\n    <path clip-path=\"url(#pb0aa9fa768)\" d=\"M 114.963767 228.14 \nL 145.40013 228.14 \nL 145.40013 216.18355 \nL 114.963767 216.18355 \nz\n\" style=\"fill:#1f77b4;\"/>\n   </g>\n   <g id=\"patch_6\">\n    <path clip-path=\"url(#pb0aa9fa768)\" d=\"M 145.40013 228.14 \nL 175.836494 228.14 \nL 175.836494 21.054286 \nL 145.40013 21.054286 \nz\n\" style=\"fill:#1f77b4;\"/>\n   </g>\n   <g id=\"patch_7\">\n    <path clip-path=\"url(#pb0aa9fa768)\" d=\"M 175.836494 228.14 \nL 206.272858 228.14 \nL 206.272858 148.031785 \nL 175.836494 148.031785 \nz\n\" style=\"fill:#1f77b4;\"/>\n   </g>\n   <g id=\"patch_8\">\n    <path clip-path=\"url(#pb0aa9fa768)\" d=\"M 206.272858 228.14 \nL 236.709221 228.14 \nL 236.709221 218.57484 \nL 206.272858 218.57484 \nz\n\" style=\"fill:#1f77b4;\"/>\n   </g>\n   <g id=\"patch_9\">\n    <path clip-path=\"url(#pb0aa9fa768)\" d=\"M 236.709221 228.14 \nL 267.145585 228.14 \nL 267.145585 226.944355 \nL 236.709221 226.944355 \nz\n\" style=\"fill:#1f77b4;\"/>\n   </g>\n   <g id=\"patch_10\">\n    <path clip-path=\"url(#pb0aa9fa768)\" d=\"M 267.145585 228.14 \nL 297.581949 228.14 \nL 297.581949 227.422613 \nL 267.145585 227.422613 \nz\n\" style=\"fill:#1f77b4;\"/>\n   </g>\n   <g id=\"patch_11\">\n    <path clip-path=\"url(#pb0aa9fa768)\" d=\"M 297.581949 228.14 \nL 328.018312 228.14 \nL 328.018312 228.14 \nL 297.581949 228.14 \nz\n\" style=\"fill:#1f77b4;\"/>\n   </g>\n   <g id=\"patch_12\">\n    <path clip-path=\"url(#pb0aa9fa768)\" d=\"M 328.018312 228.14 \nL 358.454676 228.14 \nL 358.454676 227.900871 \nL 328.018312 227.900871 \nz\n\" style=\"fill:#1f77b4;\"/>\n   </g>\n   <g id=\"matplotlib.axis_1\">\n    <g id=\"xtick_1\">\n     <g id=\"line2d_1\">\n      <path clip-path=\"url(#pb0aa9fa768)\" d=\"M 144.540276 228.14 \nL 144.540276 10.7 \n\" style=\"fill:none;stroke:#b0b0b0;stroke-linecap:square;stroke-width:0.8;\"/>\n     </g>\n     <g id=\"line2d_2\">\n      <defs>\n       <path d=\"M 0 0 \nL 0 3.5 \n\" id=\"m5843499e16\" style=\"stroke:#000000;stroke-width:0.8;\"/>\n      </defs>\n      <g>\n       <use style=\"stroke:#000000;stroke-width:0.8;\" x=\"144.540276\" xlink:href=\"#m5843499e16\" y=\"228.14\"/>\n      </g>\n     </g>\n     <g id=\"text_1\">\n      <!-- $0$ -->\n      <defs>\n       <path d=\"M 42 31.84375 \nC 42 37.96875 41.90625 48.421875 37.703125 56.453125 \nC 34 63.484375 28.09375 66 22.90625 66 \nC 18.09375 66 12 63.78125 8.203125 56.5625 \nC 4.203125 49.015625 3.796875 39.671875 3.796875 31.84375 \nC 3.796875 26.109375 3.90625 17.375 7 9.734375 \nC 11.296875 -0.609375 19 -2 22.90625 -2 \nC 27.5 -2 34.5 -0.109375 38.59375 9.4375 \nC 41.59375 16.375 42 24.5 42 31.84375 \nz\nM 22.90625 -0.40625 \nC 16.5 -0.40625 12.703125 5.125 11.296875 12.75 \nC 10.203125 18.6875 10.203125 27.328125 10.203125 32.953125 \nC 10.203125 40.6875 10.203125 47.109375 11.5 53.234375 \nC 13.40625 61.78125 19 64.390625 22.90625 64.390625 \nC 27 64.390625 32.296875 61.671875 34.203125 53.4375 \nC 35.5 47.71875 35.59375 40.984375 35.59375 32.953125 \nC 35.59375 26.421875 35.59375 18.375 34.40625 12.453125 \nC 32.296875 1.5 26.40625 -0.40625 22.90625 -0.40625 \nz\n\" id=\"CMR17-48\"/>\n      </defs>\n      <g transform=\"translate(140.428133 247.5933)scale(0.18 -0.18)\">\n       <use transform=\"scale(0.996264)\" xlink:href=\"#CMR17-48\"/>\n      </g>\n     </g>\n    </g>\n    <g id=\"xtick_2\">\n     <g id=\"line2d_3\">\n      <path clip-path=\"url(#pb0aa9fa768)\" d=\"M 255.510722 228.14 \nL 255.510722 10.7 \n\" style=\"fill:none;stroke:#b0b0b0;stroke-linecap:square;stroke-width:0.8;\"/>\n     </g>\n     <g id=\"line2d_4\">\n      <g>\n       <use style=\"stroke:#000000;stroke-width:0.8;\" x=\"255.510722\" xlink:href=\"#m5843499e16\" y=\"228.14\"/>\n      </g>\n     </g>\n     <g id=\"text_2\">\n      <!-- $2$ -->\n      <defs>\n       <path d=\"M 41.703125 15.46875 \nL 39.90625 15.46875 \nC 38.90625 8.390625 38.09375 7.1875 37.703125 6.59375 \nC 37.203125 5.796875 30 5.796875 28.59375 5.796875 \nL 9.40625 5.796875 \nC 13 9.6875 20 16.765625 28.5 24.9375 \nC 34.59375 30.71875 41.703125 37.5 41.703125 47.390625 \nC 41.703125 59.1875 32.296875 66 21.796875 66 \nC 10.796875 66 4.09375 56.296875 4.09375 47.296875 \nC 4.09375 43.390625 7 42.890625 8.203125 42.890625 \nC 9.203125 42.890625 12.203125 43.484375 12.203125 46.984375 \nC 12.203125 50.09375 9.59375 51 8.203125 51 \nC 7.59375 51 7 50.890625 6.59375 50.6875 \nC 8.5 59.1875 14.296875 63.390625 20.40625 63.390625 \nC 29.09375 63.390625 34.796875 56.5 34.796875 47.390625 \nC 34.796875 38.703125 29.703125 31.21875 24 24.734375 \nL 4.09375 2.296875 \nL 4.09375 0 \nL 39.296875 0 \nz\n\" id=\"CMR17-50\"/>\n      </defs>\n      <g transform=\"translate(251.398579 247.5933)scale(0.18 -0.18)\">\n       <use transform=\"scale(0.996264)\" xlink:href=\"#CMR17-50\"/>\n      </g>\n     </g>\n    </g>\n    <g id=\"xtick_3\">\n     <g id=\"line2d_5\">\n      <path clip-path=\"url(#pb0aa9fa768)\" d=\"M 366.481168 228.14 \nL 366.481168 10.7 \n\" style=\"fill:none;stroke:#b0b0b0;stroke-linecap:square;stroke-width:0.8;\"/>\n     </g>\n     <g id=\"line2d_6\">\n      <g>\n       <use style=\"stroke:#000000;stroke-width:0.8;\" x=\"366.481168\" xlink:href=\"#m5843499e16\" y=\"228.14\"/>\n      </g>\n     </g>\n     <g id=\"text_3\">\n      <!-- $4$ -->\n      <defs>\n       <path d=\"M 33.59375 64.796875 \nC 33.59375 66.890625 33.5 67 31.703125 67 \nL 2 19.59375 \nL 2 17 \nL 27.796875 17 \nL 27.796875 7.1875 \nC 27.796875 3.59375 27.59375 2.59375 20.59375 2.59375 \nL 18.703125 2.59375 \nL 18.703125 0 \nC 21.90625 0.1875 27.296875 0.1875 30.703125 0.1875 \nC 34.09375 0.1875 39.5 0.1875 42.703125 0 \nL 42.703125 2.59375 \nL 40.796875 2.59375 \nC 33.796875 2.59375 33.59375 3.59375 33.59375 7.1875 \nL 33.59375 17 \nL 43.796875 17 \nL 43.796875 19.59375 \nL 33.59375 19.59375 \nz\nM 28.09375 58.171875 \nL 28.09375 19.59375 \nL 4 19.59375 \nz\n\" id=\"CMR17-52\"/>\n      </defs>\n      <g transform=\"translate(362.369025 247.5933)scale(0.18 -0.18)\">\n       <use transform=\"scale(0.996264)\" xlink:href=\"#CMR17-52\"/>\n      </g>\n     </g>\n    </g>\n   </g>\n   <g id=\"matplotlib.axis_2\">\n    <g id=\"ytick_1\">\n     <g id=\"line2d_7\">\n      <path clip-path=\"url(#pb0aa9fa768)\" d=\"M 38.872858 228.14 \nL 373.672858 228.14 \n\" style=\"fill:none;stroke:#b0b0b0;stroke-linecap:square;stroke-width:0.8;\"/>\n     </g>\n     <g id=\"line2d_8\">\n      <defs>\n       <path d=\"M 0 0 \nL -3.5 0 \n\" id=\"m2b6200f95b\" style=\"stroke:#000000;stroke-width:0.8;\"/>\n      </defs>\n      <g>\n       <use style=\"stroke:#000000;stroke-width:0.8;\" x=\"38.872858\" xlink:href=\"#m2b6200f95b\" y=\"228.14\"/>\n      </g>\n     </g>\n     <g id=\"text_4\">\n      <!-- $0$ -->\n      <g transform=\"translate(23.648572 234.36665)scale(0.18 -0.18)\">\n       <use transform=\"scale(0.996264)\" xlink:href=\"#CMR17-48\"/>\n      </g>\n     </g>\n    </g>\n    <g id=\"ytick_2\">\n     <g id=\"line2d_9\">\n      <path clip-path=\"url(#pb0aa9fa768)\" d=\"M 38.872858 180.3142 \nL 373.672858 180.3142 \n\" style=\"fill:none;stroke:#b0b0b0;stroke-linecap:square;stroke-width:0.8;\"/>\n     </g>\n     <g id=\"line2d_10\">\n      <g>\n       <use style=\"stroke:#000000;stroke-width:0.8;\" x=\"38.872858\" xlink:href=\"#m2b6200f95b\" y=\"180.3142\"/>\n      </g>\n     </g>\n     <g id=\"text_5\">\n      <!-- $200$ -->\n      <g transform=\"translate(7.2 186.54085)scale(0.18 -0.18)\">\n       <use transform=\"scale(0.996264)\" xlink:href=\"#CMR17-50\"/>\n       <use transform=\"translate(45.690477 0)scale(0.996264)\" xlink:href=\"#CMR17-48\"/>\n       <use transform=\"translate(91.380954 0)scale(0.996264)\" xlink:href=\"#CMR17-48\"/>\n      </g>\n     </g>\n    </g>\n    <g id=\"ytick_3\">\n     <g id=\"line2d_11\">\n      <path clip-path=\"url(#pb0aa9fa768)\" d=\"M 38.872858 132.4884 \nL 373.672858 132.4884 \n\" style=\"fill:none;stroke:#b0b0b0;stroke-linecap:square;stroke-width:0.8;\"/>\n     </g>\n     <g id=\"line2d_12\">\n      <g>\n       <use style=\"stroke:#000000;stroke-width:0.8;\" x=\"38.872858\" xlink:href=\"#m2b6200f95b\" y=\"132.4884\"/>\n      </g>\n     </g>\n     <g id=\"text_6\">\n      <!-- $400$ -->\n      <g transform=\"translate(7.2 138.71505)scale(0.18 -0.18)\">\n       <use transform=\"scale(0.996264)\" xlink:href=\"#CMR17-52\"/>\n       <use transform=\"translate(45.690477 0)scale(0.996264)\" xlink:href=\"#CMR17-48\"/>\n       <use transform=\"translate(91.380954 0)scale(0.996264)\" xlink:href=\"#CMR17-48\"/>\n      </g>\n     </g>\n    </g>\n    <g id=\"ytick_4\">\n     <g id=\"line2d_13\">\n      <path clip-path=\"url(#pb0aa9fa768)\" d=\"M 38.872858 84.6626 \nL 373.672858 84.6626 \n\" style=\"fill:none;stroke:#b0b0b0;stroke-linecap:square;stroke-width:0.8;\"/>\n     </g>\n     <g id=\"line2d_14\">\n      <g>\n       <use style=\"stroke:#000000;stroke-width:0.8;\" x=\"38.872858\" xlink:href=\"#m2b6200f95b\" y=\"84.6626\"/>\n      </g>\n     </g>\n     <g id=\"text_7\">\n      <!-- $600$ -->\n      <defs>\n       <path d=\"M 10.59375 34.34375 \nC 10.59375 58 21.796875 63.6875 28.296875 63.6875 \nC 30.40625 63.6875 35.5 63.265625 37.5 59.09375 \nC 35.90625 59.09375 32.90625 59.09375 32.90625 55.59375 \nC 32.90625 52.890625 35.09375 52 36.5 52 \nC 37.40625 52 40.09375 52.390625 40.09375 55.796875 \nC 40.09375 62.296875 35.09375 66 28.203125 66 \nC 16.296875 66 3.796875 53.296875 3.796875 31.421875 \nC 3.796875 4.015625 15.09375 -2 23.09375 -2 \nC 32.796875 -2 42 6.734375 42 20.234375 \nC 42 32.828125 33.90625 42 23.703125 42 \nC 17.59375 42 13.09375 37.96875 10.59375 30.921875 \nz\nM 23.09375 0.390625 \nC 10.796875 0.390625 10.796875 18.9375 10.796875 22.65625 \nC 10.796875 29.90625 14.203125 40.390625 23.5 40.390625 \nC 25.203125 40.390625 30.09375 40.390625 33.40625 33.4375 \nC 35.203125 29.515625 35.203125 25.375 35.203125 20.34375 \nC 35.203125 14.90625 35.203125 10.875 33.09375 6.84375 \nC 30.90625 2.703125 27.703125 0.390625 23.09375 0.390625 \nz\n\" id=\"CMR17-54\"/>\n      </defs>\n      <g transform=\"translate(7.2 90.88925)scale(0.18 -0.18)\">\n       <use transform=\"scale(0.996264)\" xlink:href=\"#CMR17-54\"/>\n       <use transform=\"translate(45.690477 0)scale(0.996264)\" xlink:href=\"#CMR17-48\"/>\n       <use transform=\"translate(91.380954 0)scale(0.996264)\" xlink:href=\"#CMR17-48\"/>\n      </g>\n     </g>\n    </g>\n    <g id=\"ytick_5\">\n     <g id=\"line2d_15\">\n      <path clip-path=\"url(#pb0aa9fa768)\" d=\"M 38.872858 36.8368 \nL 373.672858 36.8368 \n\" style=\"fill:none;stroke:#b0b0b0;stroke-linecap:square;stroke-width:0.8;\"/>\n     </g>\n     <g id=\"line2d_16\">\n      <g>\n       <use style=\"stroke:#000000;stroke-width:0.8;\" x=\"38.872858\" xlink:href=\"#m2b6200f95b\" y=\"36.8368\"/>\n      </g>\n     </g>\n     <g id=\"text_8\">\n      <!-- $800$ -->\n      <defs>\n       <path d=\"M 27.203125 35.765625 \nC 33.5 38.96875 39.90625 43.796875 39.90625 51.53125 \nC 39.90625 60.6875 31.09375 66 23 66 \nC 13.90625 66 5.90625 59.375 5.90625 50.234375 \nC 5.90625 47.71875 6.5 43.390625 10.40625 39.578125 \nC 11.40625 38.578125 15.59375 35.5625 18.296875 33.65625 \nC 13.796875 31.34375 3.296875 25.8125 3.296875 14.765625 \nC 3.296875 4.40625 13.09375 -2 22.796875 -2 \nC 33.5 -2 42.5 5.71875 42.5 15.96875 \nC 42.5 25.109375 36.40625 29.328125 32.40625 32.046875 \nz\nM 14.09375 44.609375 \nC 13.296875 45.109375 9.296875 48.21875 9.296875 52.9375 \nC 9.296875 59.078125 15.59375 63.6875 22.796875 63.6875 \nC 30.703125 63.6875 36.5 58.0625 36.5 51.53125 \nC 36.5 42.1875 26.09375 36.859375 25.59375 36.859375 \nC 25.5 36.859375 25.40625 36.859375 24.59375 37.46875 \nz\nM 32.5 24 \nC 34 22.90625 38.796875 19.578125 38.796875 13.453125 \nC 38.796875 6.015625 31.40625 0.390625 23 0.390625 \nC 13.90625 0.390625 7 6.921875 7 14.859375 \nC 7 22.796875 13.09375 29.4375 20 32.546875 \nz\n\" id=\"CMR17-56\"/>\n      </defs>\n      <g transform=\"translate(7.2 43.06345)scale(0.18 -0.18)\">\n       <use transform=\"scale(0.996264)\" xlink:href=\"#CMR17-56\"/>\n       <use transform=\"translate(45.690477 0)scale(0.996264)\" xlink:href=\"#CMR17-48\"/>\n       <use transform=\"translate(91.380954 0)scale(0.996264)\" xlink:href=\"#CMR17-48\"/>\n      </g>\n     </g>\n    </g>\n   </g>\n   <g id=\"patch_13\">\n    <path d=\"M 38.872858 228.14 \nL 38.872858 10.7 \n\" style=\"fill:none;stroke:#000000;stroke-linecap:square;stroke-linejoin:miter;stroke-width:0.8;\"/>\n   </g>\n   <g id=\"patch_14\">\n    <path d=\"M 373.672858 228.14 \nL 373.672858 10.7 \n\" style=\"fill:none;stroke:#000000;stroke-linecap:square;stroke-linejoin:miter;stroke-width:0.8;\"/>\n   </g>\n   <g id=\"patch_15\">\n    <path d=\"M 38.872858 228.14 \nL 373.672858 228.14 \n\" style=\"fill:none;stroke:#000000;stroke-linecap:square;stroke-linejoin:miter;stroke-width:0.8;\"/>\n   </g>\n   <g id=\"patch_16\">\n    <path d=\"M 38.872858 10.7 \nL 373.672858 10.7 \n\" style=\"fill:none;stroke:#000000;stroke-linecap:square;stroke-linejoin:miter;stroke-width:0.8;\"/>\n   </g>\n  </g>\n </g>\n <defs>\n  <clipPath id=\"pb0aa9fa768\">\n   <rect height=\"217.44\" width=\"334.8\" x=\"38.872858\" y=\"10.7\"/>\n  </clipPath>\n </defs>\n</svg>\n"
     },
     "metadata": {
      "needs_background": "light"
     }
    }
   ],
   "source": [
    "df['asec_fwhm'].hist()"
   ]
  },
  {
   "cell_type": "code",
   "execution_count": 7,
   "metadata": {},
   "outputs": [
    {
     "output_type": "execute_result",
     "data": {
      "text/plain": [
       "array(['phot-id', 'ra', 'dec', 'f105_kron', 'f105_ekron', 'f105_0p8',\n",
       "       'f105_e0p8', 'f140_kron', 'f140_ekron', 'f140_0p8', 'f140_e0p8',\n",
       "       'asec_fwhm', 'zz', 'zlo', 'zhi', 'chi', 'spec-id', 'mcode', 'snr',\n",
       "       'em-code', 'member1', 'member2', 'gold_cluster', 'gold_foreground',\n",
       "       'silver_cluster', '(f140)kron', 'is_member'], dtype=object)"
      ]
     },
     "metadata": {},
     "execution_count": 7
    }
   ],
   "source": [
    "df.columns.values"
   ]
  },
  {
   "cell_type": "code",
   "execution_count": 8,
   "metadata": {},
   "outputs": [
    {
     "output_type": "execute_result",
     "data": {
      "text/html": "<div>\n<style scoped>\n    .dataframe tbody tr th:only-of-type {\n        vertical-align: middle;\n    }\n\n    .dataframe tbody tr th {\n        vertical-align: top;\n    }\n\n    .dataframe thead th {\n        text-align: right;\n    }\n</style>\n<table border=\"1\" class=\"dataframe\">\n  <thead>\n    <tr style=\"text-align: right;\">\n      <th></th>\n      <th>phot-id</th>\n      <th>ra</th>\n      <th>dec</th>\n      <th>f105_kron</th>\n      <th>f105_ekron</th>\n      <th>f105_0p8</th>\n      <th>f105_e0p8</th>\n      <th>f140_kron</th>\n      <th>f140_ekron</th>\n      <th>f140_0p8</th>\n      <th>...</th>\n      <th>mcode</th>\n      <th>snr</th>\n      <th>em-code</th>\n      <th>member1</th>\n      <th>member2</th>\n      <th>gold_cluster</th>\n      <th>gold_foreground</th>\n      <th>silver_cluster</th>\n      <th>(f140)kron</th>\n      <th>is_member</th>\n    </tr>\n  </thead>\n  <tbody>\n    <tr>\n      <th>26</th>\n      <td>529</td>\n      <td>34.434215</td>\n      <td>-3.758796</td>\n      <td>22.0918</td>\n      <td>0.0259</td>\n      <td>23.8068</td>\n      <td>0.0312</td>\n      <td>20.6356</td>\n      <td>0.0102</td>\n      <td>22.3685</td>\n      <td>...</td>\n      <td>1</td>\n      <td>34.08530</td>\n      <td>0</td>\n      <td>1.000000</td>\n      <td>1.014880e-16</td>\n      <td>1</td>\n      <td>0</td>\n      <td>0</td>\n      <td>20.6356</td>\n      <td>True</td>\n    </tr>\n    <tr>\n      <th>40</th>\n      <td>455</td>\n      <td>34.422282</td>\n      <td>-3.763513</td>\n      <td>23.1633</td>\n      <td>0.0304</td>\n      <td>23.8435</td>\n      <td>0.0312</td>\n      <td>21.9504</td>\n      <td>0.0177</td>\n      <td>22.5527</td>\n      <td>...</td>\n      <td>1</td>\n      <td>22.31920</td>\n      <td>0</td>\n      <td>0.999998</td>\n      <td>5.068550e-10</td>\n      <td>1</td>\n      <td>0</td>\n      <td>0</td>\n      <td>21.9504</td>\n      <td>True</td>\n    </tr>\n    <tr>\n      <th>53</th>\n      <td>661</td>\n      <td>34.434096</td>\n      <td>-3.757658</td>\n      <td>23.1297</td>\n      <td>0.0479</td>\n      <td>24.2302</td>\n      <td>0.0389</td>\n      <td>21.6681</td>\n      <td>0.0170</td>\n      <td>22.7377</td>\n      <td>...</td>\n      <td>1</td>\n      <td>18.51870</td>\n      <td>0</td>\n      <td>0.999910</td>\n      <td>6.819980e-11</td>\n      <td>1</td>\n      <td>0</td>\n      <td>0</td>\n      <td>21.6681</td>\n      <td>True</td>\n    </tr>\n    <tr>\n      <th>57</th>\n      <td>1036</td>\n      <td>34.432450</td>\n      <td>-3.749924</td>\n      <td>23.7272</td>\n      <td>0.0435</td>\n      <td>24.1745</td>\n      <td>0.0375</td>\n      <td>22.3846</td>\n      <td>0.0218</td>\n      <td>22.8474</td>\n      <td>...</td>\n      <td>1</td>\n      <td>17.43010</td>\n      <td>0</td>\n      <td>0.999952</td>\n      <td>4.399920e-06</td>\n      <td>1</td>\n      <td>0</td>\n      <td>0</td>\n      <td>22.3846</td>\n      <td>True</td>\n    </tr>\n    <tr>\n      <th>59</th>\n      <td>300</td>\n      <td>34.435031</td>\n      <td>-3.767948</td>\n      <td>24.0850</td>\n      <td>0.0539</td>\n      <td>24.3496</td>\n      <td>0.0423</td>\n      <td>22.5026</td>\n      <td>0.0233</td>\n      <td>22.7896</td>\n      <td>...</td>\n      <td>1</td>\n      <td>16.91640</td>\n      <td>0</td>\n      <td>1.000000</td>\n      <td>1.134630e-22</td>\n      <td>1</td>\n      <td>0</td>\n      <td>0</td>\n      <td>22.5026</td>\n      <td>True</td>\n    </tr>\n    <tr>\n      <th>66</th>\n      <td>920</td>\n      <td>34.435628</td>\n      <td>-3.753143</td>\n      <td>23.2372</td>\n      <td>0.0302</td>\n      <td>23.3537</td>\n      <td>0.0271</td>\n      <td>22.7254</td>\n      <td>0.0254</td>\n      <td>22.9279</td>\n      <td>...</td>\n      <td>1</td>\n      <td>14.83810</td>\n      <td>1</td>\n      <td>0.999974</td>\n      <td>1.040860e-27</td>\n      <td>1</td>\n      <td>0</td>\n      <td>0</td>\n      <td>22.7254</td>\n      <td>True</td>\n    </tr>\n    <tr>\n      <th>75</th>\n      <td>305</td>\n      <td>34.447153</td>\n      <td>-3.768007</td>\n      <td>23.8277</td>\n      <td>0.0513</td>\n      <td>24.4884</td>\n      <td>0.0481</td>\n      <td>22.5249</td>\n      <td>0.0248</td>\n      <td>23.0674</td>\n      <td>...</td>\n      <td>1</td>\n      <td>11.84510</td>\n      <td>0</td>\n      <td>1.000000</td>\n      <td>0.000000e+00</td>\n      <td>1</td>\n      <td>0</td>\n      <td>0</td>\n      <td>22.5249</td>\n      <td>True</td>\n    </tr>\n    <tr>\n      <th>76</th>\n      <td>1057</td>\n      <td>34.436886</td>\n      <td>-3.750173</td>\n      <td>24.1777</td>\n      <td>0.0524</td>\n      <td>24.5021</td>\n      <td>0.0462</td>\n      <td>22.8479</td>\n      <td>0.0273</td>\n      <td>23.1308</td>\n      <td>...</td>\n      <td>1</td>\n      <td>11.80230</td>\n      <td>0</td>\n      <td>0.999931</td>\n      <td>3.796450e-07</td>\n      <td>1</td>\n      <td>0</td>\n      <td>0</td>\n      <td>22.8479</td>\n      <td>True</td>\n    </tr>\n    <tr>\n      <th>78</th>\n      <td>1065</td>\n      <td>34.435917</td>\n      <td>-3.749538</td>\n      <td>23.6267</td>\n      <td>0.0447</td>\n      <td>24.4200</td>\n      <td>0.0435</td>\n      <td>22.3414</td>\n      <td>0.0220</td>\n      <td>23.0740</td>\n      <td>...</td>\n      <td>1</td>\n      <td>11.22480</td>\n      <td>0</td>\n      <td>0.960674</td>\n      <td>2.042080e-02</td>\n      <td>1</td>\n      <td>0</td>\n      <td>0</td>\n      <td>22.3414</td>\n      <td>True</td>\n    </tr>\n    <tr>\n      <th>82</th>\n      <td>608</td>\n      <td>34.438450</td>\n      <td>-3.760699</td>\n      <td>24.2768</td>\n      <td>0.0510</td>\n      <td>24.4365</td>\n      <td>0.0433</td>\n      <td>22.9910</td>\n      <td>0.0285</td>\n      <td>23.1548</td>\n      <td>...</td>\n      <td>1</td>\n      <td>10.55160</td>\n      <td>0</td>\n      <td>0.982975</td>\n      <td>1.062590e-05</td>\n      <td>1</td>\n      <td>0</td>\n      <td>0</td>\n      <td>22.9910</td>\n      <td>True</td>\n    </tr>\n    <tr>\n      <th>87</th>\n      <td>243</td>\n      <td>34.422417</td>\n      <td>-3.770003</td>\n      <td>23.7783</td>\n      <td>0.0393</td>\n      <td>24.0476</td>\n      <td>0.0353</td>\n      <td>22.6169</td>\n      <td>0.0283</td>\n      <td>22.8488</td>\n      <td>...</td>\n      <td>1</td>\n      <td>10.08480</td>\n      <td>0</td>\n      <td>1.000000</td>\n      <td>7.358680e-11</td>\n      <td>1</td>\n      <td>0</td>\n      <td>0</td>\n      <td>22.6169</td>\n      <td>True</td>\n    </tr>\n    <tr>\n      <th>103</th>\n      <td>644</td>\n      <td>34.433802</td>\n      <td>-3.758806</td>\n      <td>23.7420</td>\n      <td>0.0491</td>\n      <td>24.8547</td>\n      <td>0.0605</td>\n      <td>22.3971</td>\n      <td>0.0223</td>\n      <td>23.5547</td>\n      <td>...</td>\n      <td>1</td>\n      <td>8.42173</td>\n      <td>0</td>\n      <td>0.284546</td>\n      <td>0.000000e+00</td>\n      <td>0</td>\n      <td>0</td>\n      <td>1</td>\n      <td>22.3971</td>\n      <td>True</td>\n    </tr>\n    <tr>\n      <th>110</th>\n      <td>847</td>\n      <td>34.434697</td>\n      <td>-3.754887</td>\n      <td>24.7253</td>\n      <td>0.0751</td>\n      <td>24.9955</td>\n      <td>0.0629</td>\n      <td>23.3821</td>\n      <td>0.0356</td>\n      <td>23.6183</td>\n      <td>...</td>\n      <td>1</td>\n      <td>8.00614</td>\n      <td>0</td>\n      <td>0.996598</td>\n      <td>2.872560e-03</td>\n      <td>1</td>\n      <td>0</td>\n      <td>0</td>\n      <td>23.3821</td>\n      <td>True</td>\n    </tr>\n    <tr>\n      <th>111</th>\n      <td>375</td>\n      <td>34.444096</td>\n      <td>-3.765667</td>\n      <td>23.5689</td>\n      <td>0.0386</td>\n      <td>24.2904</td>\n      <td>0.0405</td>\n      <td>23.0819</td>\n      <td>0.0324</td>\n      <td>23.6346</td>\n      <td>...</td>\n      <td>1</td>\n      <td>7.98415</td>\n      <td>1</td>\n      <td>0.985480</td>\n      <td>4.112200e-09</td>\n      <td>1</td>\n      <td>0</td>\n      <td>0</td>\n      <td>23.0819</td>\n      <td>True</td>\n    </tr>\n    <tr>\n      <th>114</th>\n      <td>735</td>\n      <td>34.425011</td>\n      <td>-3.758034</td>\n      <td>24.8732</td>\n      <td>0.0807</td>\n      <td>25.0218</td>\n      <td>0.0642</td>\n      <td>23.3896</td>\n      <td>0.0349</td>\n      <td>23.5878</td>\n      <td>...</td>\n      <td>1</td>\n      <td>7.52125</td>\n      <td>0</td>\n      <td>0.993480</td>\n      <td>2.689180e-09</td>\n      <td>1</td>\n      <td>0</td>\n      <td>0</td>\n      <td>23.3896</td>\n      <td>True</td>\n    </tr>\n    <tr>\n      <th>115</th>\n      <td>1223</td>\n      <td>34.443347</td>\n      <td>-3.745001</td>\n      <td>24.8741</td>\n      <td>0.0765</td>\n      <td>24.9047</td>\n      <td>0.0619</td>\n      <td>23.4942</td>\n      <td>0.0371</td>\n      <td>23.5967</td>\n      <td>...</td>\n      <td>1</td>\n      <td>7.46657</td>\n      <td>0</td>\n      <td>1.000000</td>\n      <td>0.000000e+00</td>\n      <td>1</td>\n      <td>0</td>\n      <td>0</td>\n      <td>23.4942</td>\n      <td>True</td>\n    </tr>\n    <tr>\n      <th>116</th>\n      <td>347</td>\n      <td>34.441846</td>\n      <td>-3.766667</td>\n      <td>24.8274</td>\n      <td>0.0937</td>\n      <td>25.2311</td>\n      <td>0.0764</td>\n      <td>23.5611</td>\n      <td>0.0411</td>\n      <td>23.9654</td>\n      <td>...</td>\n      <td>1</td>\n      <td>7.27599</td>\n      <td>0</td>\n      <td>0.950150</td>\n      <td>2.258910e-06</td>\n      <td>1</td>\n      <td>0</td>\n      <td>0</td>\n      <td>23.5611</td>\n      <td>True</td>\n    </tr>\n    <tr>\n      <th>126</th>\n      <td>146</td>\n      <td>34.444783</td>\n      <td>-3.772856</td>\n      <td>23.4460</td>\n      <td>0.0372</td>\n      <td>24.1191</td>\n      <td>0.0378</td>\n      <td>22.9016</td>\n      <td>0.0304</td>\n      <td>23.6377</td>\n      <td>...</td>\n      <td>1</td>\n      <td>6.71464</td>\n      <td>1</td>\n      <td>1.000000</td>\n      <td>0.000000e+00</td>\n      <td>1</td>\n      <td>0</td>\n      <td>0</td>\n      <td>22.9016</td>\n      <td>True</td>\n    </tr>\n    <tr>\n      <th>128</th>\n      <td>497</td>\n      <td>34.433001</td>\n      <td>-3.763179</td>\n      <td>24.9355</td>\n      <td>0.0865</td>\n      <td>25.1735</td>\n      <td>0.0721</td>\n      <td>23.5789</td>\n      <td>0.0393</td>\n      <td>23.7949</td>\n      <td>...</td>\n      <td>1</td>\n      <td>6.41402</td>\n      <td>0</td>\n      <td>0.790427</td>\n      <td>4.329740e-02</td>\n      <td>1</td>\n      <td>0</td>\n      <td>0</td>\n      <td>23.5789</td>\n      <td>True</td>\n    </tr>\n    <tr>\n      <th>144</th>\n      <td>604</td>\n      <td>34.439389</td>\n      <td>-3.760298</td>\n      <td>23.9281</td>\n      <td>0.0477</td>\n      <td>24.5242</td>\n      <td>0.0467</td>\n      <td>23.3750</td>\n      <td>0.0378</td>\n      <td>24.0630</td>\n      <td>...</td>\n      <td>1</td>\n      <td>5.77452</td>\n      <td>1</td>\n      <td>0.999579</td>\n      <td>2.104080e-05</td>\n      <td>1</td>\n      <td>0</td>\n      <td>0</td>\n      <td>23.3750</td>\n      <td>True</td>\n    </tr>\n    <tr>\n      <th>145</th>\n      <td>1147</td>\n      <td>34.433624</td>\n      <td>-3.747747</td>\n      <td>24.2785</td>\n      <td>0.0476</td>\n      <td>24.4420</td>\n      <td>0.0446</td>\n      <td>23.8472</td>\n      <td>0.0446</td>\n      <td>23.9675</td>\n      <td>...</td>\n      <td>1</td>\n      <td>5.76285</td>\n      <td>1</td>\n      <td>1.000000</td>\n      <td>0.000000e+00</td>\n      <td>1</td>\n      <td>0</td>\n      <td>0</td>\n      <td>23.8472</td>\n      <td>True</td>\n    </tr>\n    <tr>\n      <th>154</th>\n      <td>407</td>\n      <td>34.446407</td>\n      <td>-3.765319</td>\n      <td>23.5492</td>\n      <td>0.0322</td>\n      <td>24.3630</td>\n      <td>0.0427</td>\n      <td>23.0458</td>\n      <td>0.0300</td>\n      <td>23.7014</td>\n      <td>...</td>\n      <td>1</td>\n      <td>5.39205</td>\n      <td>0</td>\n      <td>0.997473</td>\n      <td>1.484290e-04</td>\n      <td>1</td>\n      <td>0</td>\n      <td>0</td>\n      <td>23.0458</td>\n      <td>True</td>\n    </tr>\n    <tr>\n      <th>159</th>\n      <td>731</td>\n      <td>34.439754</td>\n      <td>-3.758259</td>\n      <td>25.4998</td>\n      <td>0.1132</td>\n      <td>25.6288</td>\n      <td>0.1022</td>\n      <td>23.9736</td>\n      <td>0.0472</td>\n      <td>24.0189</td>\n      <td>...</td>\n      <td>1</td>\n      <td>5.23932</td>\n      <td>0</td>\n      <td>0.976481</td>\n      <td>1.206670e-04</td>\n      <td>1</td>\n      <td>0</td>\n      <td>0</td>\n      <td>23.9736</td>\n      <td>True</td>\n    </tr>\n    <tr>\n      <th>164</th>\n      <td>653</td>\n      <td>34.433963</td>\n      <td>-3.759267</td>\n      <td>23.9066</td>\n      <td>0.0648</td>\n      <td>25.5358</td>\n      <td>0.0935</td>\n      <td>22.4436</td>\n      <td>0.0242</td>\n      <td>23.9924</td>\n      <td>...</td>\n      <td>1</td>\n      <td>5.04712</td>\n      <td>0</td>\n      <td>0.652616</td>\n      <td>8.859230e-03</td>\n      <td>1</td>\n      <td>0</td>\n      <td>0</td>\n      <td>22.4436</td>\n      <td>True</td>\n    </tr>\n    <tr>\n      <th>191</th>\n      <td>469</td>\n      <td>34.418647</td>\n      <td>-3.763720</td>\n      <td>24.5417</td>\n      <td>0.0653</td>\n      <td>24.8894</td>\n      <td>0.0594</td>\n      <td>24.1131</td>\n      <td>0.0640</td>\n      <td>24.3963</td>\n      <td>...</td>\n      <td>1</td>\n      <td>4.12278</td>\n      <td>1</td>\n      <td>1.000000</td>\n      <td>0.000000e+00</td>\n      <td>1</td>\n      <td>0</td>\n      <td>0</td>\n      <td>24.1131</td>\n      <td>True</td>\n    </tr>\n    <tr>\n      <th>196</th>\n      <td>726</td>\n      <td>34.430604</td>\n      <td>-3.757624</td>\n      <td>24.8816</td>\n      <td>0.1370</td>\n      <td>25.8511</td>\n      <td>0.1274</td>\n      <td>23.4635</td>\n      <td>0.0433</td>\n      <td>24.5743</td>\n      <td>...</td>\n      <td>1</td>\n      <td>3.96213</td>\n      <td>1</td>\n      <td>0.974577</td>\n      <td>2.398810e-03</td>\n      <td>1</td>\n      <td>0</td>\n      <td>0</td>\n      <td>23.4635</td>\n      <td>True</td>\n    </tr>\n    <tr>\n      <th>197</th>\n      <td>232</td>\n      <td>34.440507</td>\n      <td>-3.770359</td>\n      <td>24.5349</td>\n      <td>0.0691</td>\n      <td>24.8231</td>\n      <td>0.0591</td>\n      <td>24.0053</td>\n      <td>0.0519</td>\n      <td>24.3675</td>\n      <td>...</td>\n      <td>1</td>\n      <td>3.93057</td>\n      <td>1</td>\n      <td>1.000000</td>\n      <td>0.000000e+00</td>\n      <td>1</td>\n      <td>0</td>\n      <td>0</td>\n      <td>24.0053</td>\n      <td>True</td>\n    </tr>\n    <tr>\n      <th>200</th>\n      <td>454</td>\n      <td>34.418951</td>\n      <td>-3.763868</td>\n      <td>24.0581</td>\n      <td>0.0576</td>\n      <td>24.9001</td>\n      <td>0.0625</td>\n      <td>23.6887</td>\n      <td>0.0517</td>\n      <td>24.4548</td>\n      <td>...</td>\n      <td>1</td>\n      <td>3.90987</td>\n      <td>1</td>\n      <td>1.000000</td>\n      <td>0.000000e+00</td>\n      <td>1</td>\n      <td>0</td>\n      <td>0</td>\n      <td>23.6887</td>\n      <td>True</td>\n    </tr>\n    <tr>\n      <th>210</th>\n      <td>808</td>\n      <td>34.447713</td>\n      <td>-3.756092</td>\n      <td>24.9066</td>\n      <td>0.1070</td>\n      <td>25.4851</td>\n      <td>0.0909</td>\n      <td>23.7828</td>\n      <td>0.0489</td>\n      <td>24.4679</td>\n      <td>...</td>\n      <td>1</td>\n      <td>3.72453</td>\n      <td>0</td>\n      <td>1.000000</td>\n      <td>0.000000e+00</td>\n      <td>1</td>\n      <td>0</td>\n      <td>0</td>\n      <td>23.7828</td>\n      <td>True</td>\n    </tr>\n    <tr>\n      <th>213</th>\n      <td>240</td>\n      <td>34.451580</td>\n      <td>-3.770285</td>\n      <td>99.0000</td>\n      <td>99.0000</td>\n      <td>99.0000</td>\n      <td>99.0000</td>\n      <td>23.0151</td>\n      <td>0.0625</td>\n      <td>23.5353</td>\n      <td>...</td>\n      <td>1</td>\n      <td>3.68478</td>\n      <td>1</td>\n      <td>0.984137</td>\n      <td>6.694430e-04</td>\n      <td>1</td>\n      <td>0</td>\n      <td>0</td>\n      <td>23.0151</td>\n      <td>True</td>\n    </tr>\n    <tr>\n      <th>215</th>\n      <td>554</td>\n      <td>34.435274</td>\n      <td>-3.762475</td>\n      <td>24.2755</td>\n      <td>0.0519</td>\n      <td>24.5042</td>\n      <td>0.0463</td>\n      <td>23.9599</td>\n      <td>0.0492</td>\n      <td>24.2219</td>\n      <td>...</td>\n      <td>1</td>\n      <td>3.64665</td>\n      <td>1</td>\n      <td>0.999614</td>\n      <td>1.652790e-29</td>\n      <td>1</td>\n      <td>0</td>\n      <td>0</td>\n      <td>23.9599</td>\n      <td>True</td>\n    </tr>\n    <tr>\n      <th>222</th>\n      <td>334</td>\n      <td>34.427611</td>\n      <td>-3.767412</td>\n      <td>24.6344</td>\n      <td>0.0608</td>\n      <td>24.7664</td>\n      <td>0.0556</td>\n      <td>24.3807</td>\n      <td>0.0595</td>\n      <td>24.4634</td>\n      <td>...</td>\n      <td>1</td>\n      <td>3.52634</td>\n      <td>1</td>\n      <td>1.000000</td>\n      <td>0.000000e+00</td>\n      <td>1</td>\n      <td>0</td>\n      <td>0</td>\n      <td>24.3807</td>\n      <td>True</td>\n    </tr>\n    <tr>\n      <th>252</th>\n      <td>1127</td>\n      <td>34.438735</td>\n      <td>-3.748219</td>\n      <td>25.0637</td>\n      <td>0.0912</td>\n      <td>25.2397</td>\n      <td>0.0758</td>\n      <td>24.4069</td>\n      <td>0.0629</td>\n      <td>24.6226</td>\n      <td>...</td>\n      <td>1</td>\n      <td>3.05876</td>\n      <td>1</td>\n      <td>0.483511</td>\n      <td>4.202270e-24</td>\n      <td>0</td>\n      <td>0</td>\n      <td>1</td>\n      <td>24.4069</td>\n      <td>True</td>\n    </tr>\n    <tr>\n      <th>253</th>\n      <td>525</td>\n      <td>34.418961</td>\n      <td>-3.762811</td>\n      <td>25.1011</td>\n      <td>0.0966</td>\n      <td>25.4481</td>\n      <td>0.0920</td>\n      <td>24.3926</td>\n      <td>0.0637</td>\n      <td>24.6350</td>\n      <td>...</td>\n      <td>1</td>\n      <td>3.05565</td>\n      <td>1</td>\n      <td>0.222655</td>\n      <td>1.185360e-05</td>\n      <td>0</td>\n      <td>0</td>\n      <td>1</td>\n      <td>24.3926</td>\n      <td>True</td>\n    </tr>\n    <tr>\n      <th>254</th>\n      <td>434</td>\n      <td>34.446607</td>\n      <td>-3.764467</td>\n      <td>25.0249</td>\n      <td>0.1250</td>\n      <td>25.9990</td>\n      <td>0.1398</td>\n      <td>23.8874</td>\n      <td>0.0527</td>\n      <td>24.6204</td>\n      <td>...</td>\n      <td>1</td>\n      <td>3.05189</td>\n      <td>0</td>\n      <td>0.617113</td>\n      <td>5.431940e-03</td>\n      <td>1</td>\n      <td>0</td>\n      <td>0</td>\n      <td>23.8874</td>\n      <td>True</td>\n    </tr>\n    <tr>\n      <th>279</th>\n      <td>266</td>\n      <td>34.421055</td>\n      <td>-3.769239</td>\n      <td>24.6482</td>\n      <td>0.0696</td>\n      <td>25.1028</td>\n      <td>0.0697</td>\n      <td>24.2539</td>\n      <td>0.0685</td>\n      <td>24.6068</td>\n      <td>...</td>\n      <td>1</td>\n      <td>2.77050</td>\n      <td>1</td>\n      <td>1.000000</td>\n      <td>1.551290e-12</td>\n      <td>1</td>\n      <td>0</td>\n      <td>0</td>\n      <td>24.2539</td>\n      <td>True</td>\n    </tr>\n    <tr>\n      <th>307</th>\n      <td>1257</td>\n      <td>34.446333</td>\n      <td>-3.743596</td>\n      <td>24.0445</td>\n      <td>0.0545</td>\n      <td>25.0202</td>\n      <td>0.0659</td>\n      <td>23.7209</td>\n      <td>0.0689</td>\n      <td>24.6323</td>\n      <td>...</td>\n      <td>1</td>\n      <td>2.29907</td>\n      <td>0</td>\n      <td>0.297752</td>\n      <td>0.000000e+00</td>\n      <td>0</td>\n      <td>0</td>\n      <td>1</td>\n      <td>23.7209</td>\n      <td>True</td>\n    </tr>\n  </tbody>\n</table>\n<p>37 rows × 27 columns</p>\n</div>",
      "text/plain": [
       "     phot-id         ra       dec  f105_kron  f105_ekron  f105_0p8  f105_e0p8  \\\n",
       "26       529  34.434215 -3.758796    22.0918      0.0259   23.8068     0.0312   \n",
       "40       455  34.422282 -3.763513    23.1633      0.0304   23.8435     0.0312   \n",
       "53       661  34.434096 -3.757658    23.1297      0.0479   24.2302     0.0389   \n",
       "57      1036  34.432450 -3.749924    23.7272      0.0435   24.1745     0.0375   \n",
       "59       300  34.435031 -3.767948    24.0850      0.0539   24.3496     0.0423   \n",
       "66       920  34.435628 -3.753143    23.2372      0.0302   23.3537     0.0271   \n",
       "75       305  34.447153 -3.768007    23.8277      0.0513   24.4884     0.0481   \n",
       "76      1057  34.436886 -3.750173    24.1777      0.0524   24.5021     0.0462   \n",
       "78      1065  34.435917 -3.749538    23.6267      0.0447   24.4200     0.0435   \n",
       "82       608  34.438450 -3.760699    24.2768      0.0510   24.4365     0.0433   \n",
       "87       243  34.422417 -3.770003    23.7783      0.0393   24.0476     0.0353   \n",
       "103      644  34.433802 -3.758806    23.7420      0.0491   24.8547     0.0605   \n",
       "110      847  34.434697 -3.754887    24.7253      0.0751   24.9955     0.0629   \n",
       "111      375  34.444096 -3.765667    23.5689      0.0386   24.2904     0.0405   \n",
       "114      735  34.425011 -3.758034    24.8732      0.0807   25.0218     0.0642   \n",
       "115     1223  34.443347 -3.745001    24.8741      0.0765   24.9047     0.0619   \n",
       "116      347  34.441846 -3.766667    24.8274      0.0937   25.2311     0.0764   \n",
       "126      146  34.444783 -3.772856    23.4460      0.0372   24.1191     0.0378   \n",
       "128      497  34.433001 -3.763179    24.9355      0.0865   25.1735     0.0721   \n",
       "144      604  34.439389 -3.760298    23.9281      0.0477   24.5242     0.0467   \n",
       "145     1147  34.433624 -3.747747    24.2785      0.0476   24.4420     0.0446   \n",
       "154      407  34.446407 -3.765319    23.5492      0.0322   24.3630     0.0427   \n",
       "159      731  34.439754 -3.758259    25.4998      0.1132   25.6288     0.1022   \n",
       "164      653  34.433963 -3.759267    23.9066      0.0648   25.5358     0.0935   \n",
       "191      469  34.418647 -3.763720    24.5417      0.0653   24.8894     0.0594   \n",
       "196      726  34.430604 -3.757624    24.8816      0.1370   25.8511     0.1274   \n",
       "197      232  34.440507 -3.770359    24.5349      0.0691   24.8231     0.0591   \n",
       "200      454  34.418951 -3.763868    24.0581      0.0576   24.9001     0.0625   \n",
       "210      808  34.447713 -3.756092    24.9066      0.1070   25.4851     0.0909   \n",
       "213      240  34.451580 -3.770285    99.0000     99.0000   99.0000    99.0000   \n",
       "215      554  34.435274 -3.762475    24.2755      0.0519   24.5042     0.0463   \n",
       "222      334  34.427611 -3.767412    24.6344      0.0608   24.7664     0.0556   \n",
       "252     1127  34.438735 -3.748219    25.0637      0.0912   25.2397     0.0758   \n",
       "253      525  34.418961 -3.762811    25.1011      0.0966   25.4481     0.0920   \n",
       "254      434  34.446607 -3.764467    25.0249      0.1250   25.9990     0.1398   \n",
       "279      266  34.421055 -3.769239    24.6482      0.0696   25.1028     0.0697   \n",
       "307     1257  34.446333 -3.743596    24.0445      0.0545   25.0202     0.0659   \n",
       "\n",
       "     f140_kron  f140_ekron  f140_0p8    ...      mcode       snr  em-code  \\\n",
       "26     20.6356      0.0102   22.3685    ...          1  34.08530        0   \n",
       "40     21.9504      0.0177   22.5527    ...          1  22.31920        0   \n",
       "53     21.6681      0.0170   22.7377    ...          1  18.51870        0   \n",
       "57     22.3846      0.0218   22.8474    ...          1  17.43010        0   \n",
       "59     22.5026      0.0233   22.7896    ...          1  16.91640        0   \n",
       "66     22.7254      0.0254   22.9279    ...          1  14.83810        1   \n",
       "75     22.5249      0.0248   23.0674    ...          1  11.84510        0   \n",
       "76     22.8479      0.0273   23.1308    ...          1  11.80230        0   \n",
       "78     22.3414      0.0220   23.0740    ...          1  11.22480        0   \n",
       "82     22.9910      0.0285   23.1548    ...          1  10.55160        0   \n",
       "87     22.6169      0.0283   22.8488    ...          1  10.08480        0   \n",
       "103    22.3971      0.0223   23.5547    ...          1   8.42173        0   \n",
       "110    23.3821      0.0356   23.6183    ...          1   8.00614        0   \n",
       "111    23.0819      0.0324   23.6346    ...          1   7.98415        1   \n",
       "114    23.3896      0.0349   23.5878    ...          1   7.52125        0   \n",
       "115    23.4942      0.0371   23.5967    ...          1   7.46657        0   \n",
       "116    23.5611      0.0411   23.9654    ...          1   7.27599        0   \n",
       "126    22.9016      0.0304   23.6377    ...          1   6.71464        1   \n",
       "128    23.5789      0.0393   23.7949    ...          1   6.41402        0   \n",
       "144    23.3750      0.0378   24.0630    ...          1   5.77452        1   \n",
       "145    23.8472      0.0446   23.9675    ...          1   5.76285        1   \n",
       "154    23.0458      0.0300   23.7014    ...          1   5.39205        0   \n",
       "159    23.9736      0.0472   24.0189    ...          1   5.23932        0   \n",
       "164    22.4436      0.0242   23.9924    ...          1   5.04712        0   \n",
       "191    24.1131      0.0640   24.3963    ...          1   4.12278        1   \n",
       "196    23.4635      0.0433   24.5743    ...          1   3.96213        1   \n",
       "197    24.0053      0.0519   24.3675    ...          1   3.93057        1   \n",
       "200    23.6887      0.0517   24.4548    ...          1   3.90987        1   \n",
       "210    23.7828      0.0489   24.4679    ...          1   3.72453        0   \n",
       "213    23.0151      0.0625   23.5353    ...          1   3.68478        1   \n",
       "215    23.9599      0.0492   24.2219    ...          1   3.64665        1   \n",
       "222    24.3807      0.0595   24.4634    ...          1   3.52634        1   \n",
       "252    24.4069      0.0629   24.6226    ...          1   3.05876        1   \n",
       "253    24.3926      0.0637   24.6350    ...          1   3.05565        1   \n",
       "254    23.8874      0.0527   24.6204    ...          1   3.05189        0   \n",
       "279    24.2539      0.0685   24.6068    ...          1   2.77050        1   \n",
       "307    23.7209      0.0689   24.6323    ...          1   2.29907        0   \n",
       "\n",
       "      member1       member2  gold_cluster  gold_foreground  silver_cluster  \\\n",
       "26   1.000000  1.014880e-16             1                0               0   \n",
       "40   0.999998  5.068550e-10             1                0               0   \n",
       "53   0.999910  6.819980e-11             1                0               0   \n",
       "57   0.999952  4.399920e-06             1                0               0   \n",
       "59   1.000000  1.134630e-22             1                0               0   \n",
       "66   0.999974  1.040860e-27             1                0               0   \n",
       "75   1.000000  0.000000e+00             1                0               0   \n",
       "76   0.999931  3.796450e-07             1                0               0   \n",
       "78   0.960674  2.042080e-02             1                0               0   \n",
       "82   0.982975  1.062590e-05             1                0               0   \n",
       "87   1.000000  7.358680e-11             1                0               0   \n",
       "103  0.284546  0.000000e+00             0                0               1   \n",
       "110  0.996598  2.872560e-03             1                0               0   \n",
       "111  0.985480  4.112200e-09             1                0               0   \n",
       "114  0.993480  2.689180e-09             1                0               0   \n",
       "115  1.000000  0.000000e+00             1                0               0   \n",
       "116  0.950150  2.258910e-06             1                0               0   \n",
       "126  1.000000  0.000000e+00             1                0               0   \n",
       "128  0.790427  4.329740e-02             1                0               0   \n",
       "144  0.999579  2.104080e-05             1                0               0   \n",
       "145  1.000000  0.000000e+00             1                0               0   \n",
       "154  0.997473  1.484290e-04             1                0               0   \n",
       "159  0.976481  1.206670e-04             1                0               0   \n",
       "164  0.652616  8.859230e-03             1                0               0   \n",
       "191  1.000000  0.000000e+00             1                0               0   \n",
       "196  0.974577  2.398810e-03             1                0               0   \n",
       "197  1.000000  0.000000e+00             1                0               0   \n",
       "200  1.000000  0.000000e+00             1                0               0   \n",
       "210  1.000000  0.000000e+00             1                0               0   \n",
       "213  0.984137  6.694430e-04             1                0               0   \n",
       "215  0.999614  1.652790e-29             1                0               0   \n",
       "222  1.000000  0.000000e+00             1                0               0   \n",
       "252  0.483511  4.202270e-24             0                0               1   \n",
       "253  0.222655  1.185360e-05             0                0               1   \n",
       "254  0.617113  5.431940e-03             1                0               0   \n",
       "279  1.000000  1.551290e-12             1                0               0   \n",
       "307  0.297752  0.000000e+00             0                0               1   \n",
       "\n",
       "     (f140)kron  is_member  \n",
       "26      20.6356       True  \n",
       "40      21.9504       True  \n",
       "53      21.6681       True  \n",
       "57      22.3846       True  \n",
       "59      22.5026       True  \n",
       "66      22.7254       True  \n",
       "75      22.5249       True  \n",
       "76      22.8479       True  \n",
       "78      22.3414       True  \n",
       "82      22.9910       True  \n",
       "87      22.6169       True  \n",
       "103     22.3971       True  \n",
       "110     23.3821       True  \n",
       "111     23.0819       True  \n",
       "114     23.3896       True  \n",
       "115     23.4942       True  \n",
       "116     23.5611       True  \n",
       "126     22.9016       True  \n",
       "128     23.5789       True  \n",
       "144     23.3750       True  \n",
       "145     23.8472       True  \n",
       "154     23.0458       True  \n",
       "159     23.9736       True  \n",
       "164     22.4436       True  \n",
       "191     24.1131       True  \n",
       "196     23.4635       True  \n",
       "197     24.0053       True  \n",
       "200     23.6887       True  \n",
       "210     23.7828       True  \n",
       "213     23.0151       True  \n",
       "215     23.9599       True  \n",
       "222     24.3807       True  \n",
       "252     24.4069       True  \n",
       "253     24.3926       True  \n",
       "254     23.8874       True  \n",
       "279     24.2539       True  \n",
       "307     23.7209       True  \n",
       "\n",
       "[37 rows x 27 columns]"
      ]
     },
     "metadata": {},
     "execution_count": 8
    }
   ],
   "source": [
    "member_df = df[df['is_member']]\n",
    "member_df"
   ]
  },
  {
   "cell_type": "code",
   "execution_count": 9,
   "metadata": {},
   "outputs": [],
   "source": [
    "import regions"
   ]
  },
  {
   "cell_type": "code",
   "execution_count": 31,
   "metadata": {
    "tags": []
   },
   "outputs": [],
   "source": [
    "region_filename = '/data/emiln/XLSSC122_GalPops/Data/Products/HST/catalogs/member_fwhm.reg'\n",
    "region_list = []\n",
    "for i,r in member_df.iterrows():\n",
    "    center = SkyCoord(r.ra,r.dec,unit='deg')\n",
    "    radius = Angle(r.asec_fwhm/2/60/60,'deg') # regions package only works with radii in degrees\n",
    "    region = regions.CircleSkyRegion(center,radius)\n",
    "    # region.visual = {'width':3}\n",
    "    region.visual = {'color':'green'}\n",
    "    region_list.append(region)"
   ]
  },
  {
   "cell_type": "code",
   "execution_count": 32,
   "metadata": {},
   "outputs": [
    {
     "output_type": "execute_result",
     "data": {
      "text/plain": [
       "<bound method CircleSkyRegion.contains of <CircleSkyRegion(<SkyCoord (ICRS): (ra, dec) in deg\n",
       "    (34.446333, -3.743596)>, radius=0.000150873611111 deg)>>"
      ]
     },
     "metadata": {},
     "execution_count": 32
    }
   ],
   "source": [
    "region.contains"
   ]
  },
  {
   "cell_type": "code",
   "execution_count": 33,
   "metadata": {},
   "outputs": [],
   "source": [
    "# Write to file\n",
    "# Need to update line 2 of saved file with global properties\n",
    "# regions.write_ds9(region_list,region_filename)"
   ]
  },
  {
   "cell_type": "code",
   "execution_count": 38,
   "metadata": {},
   "outputs": [
    {
     "output_type": "execute_result",
     "data": {
      "text/plain": [
       "'/data/emiln/XLSSC122_GalPops/Data/Products/HST/catalogs/member_fwhm.reg'"
      ]
     },
     "metadata": {},
     "execution_count": 38
    }
   ],
   "source": [
    "region_filename"
   ]
  },
  {
   "cell_type": "code",
   "execution_count": null,
   "metadata": {},
   "outputs": [],
   "source": []
  }
 ]
}