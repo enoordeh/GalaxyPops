{
 "metadata": {
  "language_info": {
   "codemirror_mode": {
    "name": "ipython",
    "version": 3
   },
   "file_extension": ".py",
   "mimetype": "text/x-python",
   "name": "python",
   "nbconvert_exporter": "python",
   "pygments_lexer": "ipython3",
   "version": "2.7.18-final"
  },
  "orig_nbformat": 2,
  "kernelspec": {
   "name": "python2",
   "display_name": "Python 2"
  }
 },
 "nbformat": 4,
 "nbformat_minor": 2,
 "cells": [
  {
   "source": [
    "# Run Galfit on 3DHST galaxies\n",
    "- 11/09/2020: Updated to use galfit_helpers.py module"
   ],
   "cell_type": "markdown",
   "metadata": {}
  },
  {
   "source": [
    "### Load modules"
   ],
   "cell_type": "markdown",
   "metadata": {}
  },
  {
   "cell_type": "code",
   "execution_count": 1,
   "metadata": {},
   "outputs": [],
   "source": [
    "from __future__ import division\n",
    "import sys\n",
    "sys.path.insert(0,'/data/emiln/XLSSC122_GalPops/Analysis/Modules')\n",
    "from GalfitPyWrap import galfitwrap as gf\n",
    "import os\n",
    "import numpy as np\n",
    "import pandas as pd\n",
    "import matplotlib\n",
    "import matplotlib.pyplot as plt\n",
    "import glob\n",
    "from scipy import ndimage\n",
    "from astropy import units as u\n",
    "from astropy import wcs\n",
    "from astropy.coordinates import SkyCoord\n",
    "from astropy.io import fits, ascii\n",
    "from astropy.table import Table, hstack, join\n",
    "import pickle\n",
    "import fnmatch\n",
    "import multiprocessing as mp\n",
    "%matplotlib inline\n",
    "%load_ext autoreload\n",
    "%autoreload 2"
   ]
  },
  {
   "cell_type": "code",
   "execution_count": 2,
   "metadata": {},
   "outputs": [],
   "source": [
    "import galfit_helpers as gfh"
   ]
  },
  {
   "source": [
    "### Load 3DHST galaxy catalog"
   ],
   "cell_type": "markdown",
   "metadata": {}
  },
  {
   "cell_type": "code",
   "execution_count": null,
   "metadata": {},
   "outputs": [],
   "source": [
    "3DHST_cat_root = '/data/emiln/XLSSC122_GalPops/Data/Products/COSMOS/catalogs/'\n",
    "3DHST_cat_filename = COSMOS_cat_root+'cos_df_all_merged.csv'\n",
    "full_df = gfh.load_COSMOS_galaxy_catalog(3DHST_cat_filename,mag='F125W_Kron',magthresh=30, overwrite=False, verbose=True)\n",
    "filtered_df = gfh.load_COSMOS_galaxy_catalog(3DHST_cat_filename,magthresh=24, mag='F125W_Kron',overwrite=False, verbose=True)"
   ]
  },
  {
   "source": [
    "### Set Galfit parameters"
   ],
   "cell_type": "markdown",
   "metadata": {}
  },
  {
   "cell_type": "code",
   "execution_count": 3,
   "metadata": {},
   "outputs": [
    {
     "output_type": "error",
     "ename": "NameError",
     "evalue": "name 'z2_filtered_df' is not defined",
     "traceback": [
      "\u001b[0;31m\u001b[0m",
      "\u001b[0;31mNameError\u001b[0mTraceback (most recent call last)",
      "\u001b[0;32m<ipython-input-3-65c8bc627d2c>\u001b[0m in \u001b[0;36m<module>\u001b[0;34m()\u001b[0m\n\u001b[1;32m      1\u001b[0m \u001b[0;31m# fit_df = filtered_df[0:4]\u001b[0m\u001b[0;34m\u001b[0m\u001b[0;34m\u001b[0m\u001b[0m\n\u001b[0;32m----> 2\u001b[0;31m \u001b[0mfit_df\u001b[0m \u001b[0;34m=\u001b[0m \u001b[0mz2_filtered_df\u001b[0m\u001b[0;34m[\u001b[0m\u001b[0;36m0\u001b[0m\u001b[0;34m:\u001b[0m\u001b[0;36m4\u001b[0m\u001b[0;34m]\u001b[0m\u001b[0;34m\u001b[0m\u001b[0m\n\u001b[0m\u001b[1;32m      3\u001b[0m \u001b[0mdf_name\u001b[0m \u001b[0;34m=\u001b[0m \u001b[0;34m'TEST_modular_galfit'\u001b[0m\u001b[0;34m\u001b[0m\u001b[0m\n\u001b[1;32m      4\u001b[0m \u001b[0mpsf_root\u001b[0m \u001b[0;34m=\u001b[0m \u001b[0;34m'/data/emiln/XLSSC122_GalPops/Data/Products/COSMOS/PSF/'\u001b[0m\u001b[0;34m\u001b[0m\u001b[0m\n\u001b[1;32m      5\u001b[0m \u001b[0mpsf_file\u001b[0m \u001b[0;34m=\u001b[0m \u001b[0mpsf_root\u001b[0m\u001b[0;34m+\u001b[0m\u001b[0;34m'COSMOS/psfJ.fits'\u001b[0m \u001b[0;31m# J = F125W, H=F160W\u001b[0m\u001b[0;34m\u001b[0m\u001b[0m\n",
      "\u001b[0;31mNameError\u001b[0m: name 'z2_filtered_df' is not defined"
     ]
    }
   ],
   "source": [
    "# fit_df = filtered_df[0:4]\n",
    "fit_df = z2_filtered_df[0:4]\n",
    "df_name = 'TEST_modular_galfit'\n",
    "psf_root = '/data/emiln/XLSSC122_GalPops/Data/Products/COSMOS/PSF/'\n",
    "psf_file = psf_root+'COSMOS/psfJ.fits' # J = F125W, H=F160W\n",
    "PSFf = 1 \n",
    "convbox='40 40'\n",
    "image_width = 400 # 200 for mag<23 objects, 400 for z2 objects\n",
    "timeout=2*60\n",
    "verbose=True\n",
    "width=10\n",
    "HLRwidth=10 # Cutout width = 2*HLwidth\n",
    "PA_INIT = 45\n",
    "AR_INIT = 0.5\n",
    "# zp = -21.1 # From header\n",
    "ZP = 26.2303 # From https://archive.stsci.edu/pub/hlsp/candels/cosmos/cos-tot/v1.0/hlsp_candels_hst_cos-tot_readme_v1.0.pdf\n",
    "MAG_INIT = 21\n",
    "fitMagnitude = True\n",
    "neighbourMagThresh=2\n",
    "DYNMAG = True\n",
    "sky='Default'\n",
    "sky_INIT=0.00001\n",
    "sigma_file = '/sigma_rms_meanexp_cps.fits'\n",
    "data_file = '/data_cps.fits'\n",
    "constraint_file = 'galfit_constr.txt' # Matches van der wel 2012 constraints\n",
    "# constr_file = 'none'\n",
    "badmask='none'\n",
    "save_name = None"
   ]
  },
  {
   "cell_type": "code",
   "execution_count": null,
   "metadata": {},
   "outputs": [],
   "source": [
    "params = {\n",
    "    'fit_df':fit_df, # Dataframe with objects to be fit\n",
    "    'full_df':full_df, # Unfiltered source catalog used for fitting neighbours\n",
    "    'width':width, # Fitting region width in pixels\n",
    "    'HLRwidth':HLRwidth, # Fitting region width in # of HLR\n",
    "    'sigma_file':sigma_file, # Filename of sigma maps for sources\n",
    "    'data_file':data_file, # Filename for data cutouts for each source\n",
    "    'PSF_file':psf_file, # File_name of PSF to be used\n",
    "    'usePSF':True, # Use PSF in fitting?\n",
    "    'timeout':timeout, # Max runtime per object in seconds\n",
    "    'PSFf':PSFf, # Fine sampling factor\n",
    "    'verbose':verbose, # Verbose mode\n",
    "    'PA_INIT':PA_INIT, # Initial position angle\n",
    "    'AR_INIT':AR_INIT, # Initial axis ratio\n",
    "    'MAG_INIT':MAG_INIT, # Initial magnitude\n",
    "    'convbox':convbox, # Region to convolve PSF with in pixels (i.e. '100 100')\n",
    "    'ZP':ZP, # Zeropoint \n",
    "    'constraint_file':constraint_file, # Galfit constraint filename\n",
    "    'image_width':image_width, # Size of data+sigma images being used (200 for COSMOS cutouts)\n",
    "    'useDYNMAG':DYNMAG, # Initialize magnitudes from catalog?\n",
    "    'badmask':badmask, # filename for bad pixel mask\n",
    "    'fitMagnitude':fitMagnitude, # Fit magnitudes?\n",
    "    'sky':sky, # Sky fitting mode for galfit (i.e. 'default')\n",
    "    'sky_INIT':sky_INIT, # Initial sky level\n",
    "    'neighbourMagThresh':neighbourMagThresh, # Additional magnitude threshhold to fit neighbours (i.e. 3 -> only neighbours with mag < source_mag+3 are fit)\n",
    "    'df_name': df_name, # Descriptive name of catalog being fit\n",
    "    'save_name':save_name # Filename to save results to, overrides default\n",
    "}"
   ]
  },
  {
   "cell_type": "code",
   "execution_count": null,
   "metadata": {},
   "outputs": [],
   "source": [
    "new_df, savename = gfh.run_galfit_parallel(params,**params) # Feeds in unwrapped params as well as a copy to be passed as kwargs to sub functions"
   ]
  },
  {
   "source": [
    "### Validate results"
   ],
   "cell_type": "markdown",
   "metadata": {}
  },
  {
   "cell_type": "code",
   "execution_count": null,
   "metadata": {},
   "outputs": [],
   "source": [
    "# Plot fits by ID\n",
    "for ID in fit_df['ID']:\n",
    "    gfh.plot_by_ID(ID,save_name=savename,survey='3DHST')"
   ]
  }
 ]
}