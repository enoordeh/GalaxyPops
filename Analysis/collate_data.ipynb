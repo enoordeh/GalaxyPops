{
 "metadata": {
  "language_info": {
   "codemirror_mode": {
    "name": "ipython",
    "version": 3
   },
   "file_extension": ".py",
   "mimetype": "text/x-python",
   "name": "python",
   "nbconvert_exporter": "python",
   "pygments_lexer": "ipython3",
   "version": "2.7.18-final"
  },
  "orig_nbformat": 2,
  "kernelspec": {
   "name": "python2",
   "display_name": "Python 2"
  }
 },
 "nbformat": 4,
 "nbformat_minor": 2,
 "cells": [
  {
   "source": [
    "### Collate XLSSC122 and 3DHST galfit catalogs\n",
    "- Dec 2/2020"
   ],
   "cell_type": "markdown",
   "metadata": {}
  },
  {
   "source": [
    "### Load modules"
   ],
   "cell_type": "markdown",
   "metadata": {}
  },
  {
   "cell_type": "code",
   "execution_count": 27,
   "metadata": {},
   "outputs": [
    {
     "output_type": "stream",
     "name": "stdout",
     "text": [
      "The autoreload extension is already loaded. To reload it, use:\n  %reload_ext autoreload\n"
     ]
    }
   ],
   "source": [
    "from __future__ import division\n",
    "import sys\n",
    "sys.path.insert(0,'/data/emiln/XLSSC122_GalPops/Analysis/Modules')\n",
    "from GalfitPyWrap import galfitwrap as gf\n",
    "import galfit_helpers as gfh\n",
    "import os\n",
    "import numpy as np\n",
    "import pandas as pd\n",
    "import glob\n",
    "from astropy import units as u\n",
    "from astropy import wcs\n",
    "from astropy.coordinates import SkyCoord\n",
    "from astropy.io import fits, ascii\n",
    "from astropy.table import Table, hstack, join\n",
    "%matplotlib inline\n",
    "%load_ext autoreload\n",
    "%autoreload 2"
   ]
  },
  {
   "source": [
    "### HST"
   ],
   "cell_type": "markdown",
   "metadata": {}
  },
  {
   "cell_type": "code",
   "execution_count": 10,
   "metadata": {},
   "outputs": [],
   "source": [
    "# Load catalogs\n",
    "galfit_filename = '/data/emiln/XLSSC122_GalPops/Analysis/HST/Results/final_galfit_stellar_PSF.csv'\n",
    "phot_filename =  '/data/emiln/XLSSC122_GalPops/Data/HST/Products/catalogs/xlssc122_F105_F140_redshifts_short_v4_snr_em_member2_by_hand.cat'\n",
    "galfit_df = pd.read_csv(galfit_filename)\n",
    "phot_df = pd.read_csv(phot_filename, delim_whitespace=True)"
   ]
  },
  {
   "cell_type": "code",
   "execution_count": 23,
   "metadata": {},
   "outputs": [
    {
     "output_type": "stream",
     "name": "stdout",
     "text": [
      "['ID' 'ra' 'dec' 're' 're_err' 'ar' 'ar_err' 'n' 'n_err' 'mag' 'mag_err'\n 'sky' 'sky_err' 'chi2nu' 'ErrorValue' 'asec_fwhm' 'chi' 'em-code'\n 'f105_0p8' 'f105_e0p8' 'f105_ekron' 'f105_kron' 'f140_0p8' 'f140_e0p8'\n 'f140_ekron' 'f140_kron' 'mcode' 'member1' 'member2' 'phot-id' 'snr'\n 'spec-id' 'zhi' 'zlo' 'zz']\n37\n37\n"
     ]
    }
   ],
   "source": [
    "# Merge\n",
    "cols_to_use = phot_df.columns.difference(galfit_df.columns)\n",
    "hst_mdf = galfit_df.merge(phot_df[cols_to_use],how='inner',left_on='ID',right_on='phot-id')\n",
    "print(hst_mdf.columns.values)\n",
    "print(len(hst_mdf))\n",
    "print(len(galfit_df))"
   ]
  },
  {
   "cell_type": "code",
   "execution_count": 25,
   "metadata": {},
   "outputs": [],
   "source": [
    "# Save\n",
    "hst_savename = '/data/emiln/XLSSC122_GalPops/Analysis/Results/hst_galfit_full.csv'\n",
    "hst_mdf.to_csv(hst_savename,index=False)"
   ]
  },
  {
   "source": [
    "### 3DHST"
   ],
   "cell_type": "markdown",
   "metadata": {}
  },
  {
   "cell_type": "code",
   "execution_count": 37,
   "metadata": {},
   "outputs": [
    {
     "output_type": "stream",
     "name": "stdout",
     "text": [
      "Checking if catalog exists at /data/emiln/XLSSC122_GalPops/Data/3DHST/Products/catalogs/magthresh24_z2.0_zthresh0.1.csv\nCatalog already exists, returning DataFrame\n"
     ]
    }
   ],
   "source": [
    "# Load catalogs\n",
    "DHST_cat_root = '/data/emiln/XLSSC122_GalPops/Data/3DHST/Products/catalogs/'\n",
    "DHST_cat_filename = DHST_cat_root+'cosmos_3dhst.v4.1.cats/Catalog/cosmos_3dhst.v4.1.cat'\n",
    "phot_df = gfh.load_3DHST_galaxy_catalog(DHST_cat_filename,  mag='F140W', magthresh=24, z=2.00, z_thresh=0.1, overwrite=False, verbose=True, goodfit=True) \n",
    "\n",
    "galfit_filename = '/data/emiln/XLSSC122_GalPops/Analysis/3DHST/Results/3DHST_z2_full_data_cps_sigma_rms_meanexp_cps_w5HLR_F140W_PSF_5min_CONV64_CONSTR_DYNMAG.csv'\n",
    "galfit_df = pd.read_csv(galfit_filename)\n"
   ]
  },
  {
   "cell_type": "code",
   "execution_count": 41,
   "metadata": {},
   "outputs": [
    {
     "output_type": "execute_result",
     "data": {
      "text/plain": [
       "array(['ID', 'ra', 'dec', 're', 're_err', 'ar', 'ar_err', 'n', 'n_err',\n",
       "       'mag', 'mag_err', 'sky', 'sky_err', 'chi2nu', 'ErrorValue'],\n",
       "      dtype=object)"
      ]
     },
     "metadata": {},
     "execution_count": 41
    }
   ],
   "source": [
    "phot_df.columns.values\n",
    "galfit_df.columns.values"
   ]
  },
  {
   "cell_type": "code",
   "execution_count": 46,
   "metadata": {},
   "outputs": [
    {
     "output_type": "stream",
     "name": "stdout",
     "text": [
      "['ID' 'ra' 'dec' 're' 're_err' 'ar' 'ar_err' 'n' 'n_err' 'mag' 'mag_err'\n 'sky' 'sky_err' 'chi2nu' 'ErrorValue' 'id' 'x' 'y' 'faper_F160W'\n 'eaper_F160W' 'faper_F140W' 'eaper_F140W' 'f_F160W' 'e_F160W' 'w_F160W'\n 'f_U' 'e_U' 'w_U' 'f_B' 'e_B' 'w_B' 'f_G' 'e_G' 'w_G' 'f_V' 'e_V' 'w_V'\n 'f_F606W' 'e_F606W' 'w_F606W' 'f_R' 'e_R' 'w_R' 'f_Rp' 'e_Rp' 'w_Rp'\n 'f_I' 'e_I' 'w_I' 'f_Ip' 'e_Ip' 'w_Ip' 'f_F814W' 'e_F814W' 'w_F814W'\n 'f_Z' 'e_Z' 'w_Z' 'f_Zp' 'e_Zp' 'w_Zp' 'f_UVISTA_Y' 'e_UVISTA_Y'\n 'w_UVISTA_Y' 'f_F125W' 'e_F125W' 'w_F125W' 'f_J1' 'e_J1' 'w_J1' 'f_J2'\n 'e_J2' 'w_J2' 'f_J3' 'e_J3' 'w_J3' 'f_J' 'e_J' 'w_J' 'f_UVISTA_J'\n 'e_UVISTA_J' 'w_UVISTA_J' 'f_F140W' 'e_F140W' 'w_F140W' 'f_H1' 'e_H1'\n 'w_H1' 'f_H2' 'e_H2' 'w_H2' 'f_H' 'e_H' 'w_H' 'f_UVISTA_H' 'e_UVISTA_H'\n 'w_UVISTA_H' 'f_K' 'e_K' 'w_K' 'f_Ks' 'e_Ks' 'w_Ks' 'f_UVISTA_Ks'\n 'e_UVISTA_Ks' 'w_UVISTA_Ks' 'f_IRAC1' 'e_IRAC1' 'w_IRAC1' 'f_IRAC2'\n 'e_IRAC2' 'w_IRAC2' 'f_IRAC3' 'e_IRAC3' 'w_IRAC3' 'f_IRAC4' 'e_IRAC4'\n 'w_IRAC4' 'f_IA427' 'e_IA427' 'f_IA464' 'e_IA464' 'f_IA484' 'e_IA484'\n 'f_IA505' 'e_IA505' 'f_IA527' 'e_IA527' 'f_IA574' 'e_IA574' 'f_IA624'\n 'e_IA624' 'f_IA679' 'e_IA679' 'f_IA709' 'e_IA709' 'f_IA738' 'e_IA738'\n 'f_IA767' 'e_IA767' 'f_IA827' 'e_IA827' 'tot_cor' 'wmin_ground'\n 'wmin_hst' 'wmin_irac' 'wmin_wfc3' 'z_spec' 'star_flag' 'kron_radius'\n 'a_image' 'b_image' 'theta_J2000' 'class_star' 'flux_radius' 'fwhm_image'\n 'flags' 'IRAC1_contam' 'IRAC2_contam' 'IRAC3_contam' 'IRAC4_contam'\n 'contam_flag' 'f140w_flag' 'use_phot' 'near_star' 'nexp_f125w'\n 'nexp_f140w' 'nexp_f160w' 'F140W' 'F140W_fixed' 'X' 'Y' 'RA' 'DEC' 'z'\n 'ltau' 'metal' 'lage' 'Av' 'lmass' 'lsfr' 'lssfr' 'la2t' 'chi2']\n136\n136\n"
     ]
    }
   ],
   "source": [
    "# Merge\n",
    "# cols_to_use = phot_df.columns.difference(galfit_df.columns)\n",
    "dhst_mdf = galfit_df.merge(phot_df,how='inner',on='ID',suffixes=('','_y'))\n",
    "dhst_mdf.drop(labels=['ra_y','dec_y'],axis=1,inplace=True)\n",
    "print(dhst_mdf.columns.values)\n",
    "print(len(dhst_mdf))\n",
    "print(len(galfit_df))"
   ]
  },
  {
   "cell_type": "code",
   "execution_count": 47,
   "metadata": {},
   "outputs": [],
   "source": [
    "# Save\n",
    "dhst_savename = '/data/emiln/XLSSC122_GalPops/Analysis/Results/3dhst_galfit_full.csv'\n",
    "dhst_mdf.to_csv(dhst_savename,index=False)"
   ]
  },
  {
   "cell_type": "code",
   "execution_count": null,
   "metadata": {},
   "outputs": [],
   "source": []
  }
 ]
}