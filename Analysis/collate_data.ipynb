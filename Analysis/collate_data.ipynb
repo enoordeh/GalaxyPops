{
 "metadata": {
  "language_info": {
   "codemirror_mode": {
    "name": "ipython",
    "version": 3
   },
   "file_extension": ".py",
   "mimetype": "text/x-python",
   "name": "python",
   "nbconvert_exporter": "python",
   "pygments_lexer": "ipython3",
   "version": "2.7.18-final"
  },
  "orig_nbformat": 2,
  "kernelspec": {
   "name": "python2",
   "display_name": "Python 2",
   "language": "python"
  }
 },
 "nbformat": 4,
 "nbformat_minor": 2,
 "cells": [
  {
   "source": [
    "### Collate XLSSC122 and 3DHST galfit catalogs\n",
    "- Dec 2/2020"
   ],
   "cell_type": "markdown",
   "metadata": {}
  },
  {
   "source": [
    "### Load modules"
   ],
   "cell_type": "markdown",
   "metadata": {}
  },
  {
   "cell_type": "code",
   "execution_count": 1,
   "metadata": {},
   "outputs": [],
   "source": [
    "from __future__ import division\n",
    "import sys\n",
    "sys.path.insert(0,'/data/emiln/XLSSC122_GalPops/Analysis/Modules')\n",
    "from GalfitPyWrap import galfitwrap as gf\n",
    "import galfit_helpers as gfh\n",
    "import os\n",
    "import numpy as np\n",
    "import pandas as pd\n",
    "import glob\n",
    "from astropy import units as u\n",
    "from astropy import wcs\n",
    "from astropy.coordinates import SkyCoord\n",
    "from astropy.io import fits, ascii\n",
    "from astropy.table import Table, hstack, join\n",
    "import matplotlib\n",
    "import matplotlib.pyplot as plt\n",
    "%matplotlib inline\n",
    "%load_ext autoreload\n",
    "%autoreload 2"
   ]
  },
  {
   "source": [
    "### HST"
   ],
   "cell_type": "markdown",
   "metadata": {}
  },
  {
   "cell_type": "code",
   "execution_count": 2,
   "metadata": {},
   "outputs": [],
   "source": [
    "# Load catalogs\n",
    "galfit_filename = '/data/emiln/XLSSC122_GalPops/Analysis/HST/Results/final_galfit_stellar_PSF.csv'\n",
    "# phot_filename =  '/data/emiln/XLSSC122_GalPops/Data/HST/Products/catalogs/xlssc122_F105_F140_redshifts_short_v4_snr_em_member2_by_hand.cat'\n",
    "\n",
    "HST_cat_root = '/data/emiln/XLSSC122_GalPops/Data/HST/Products/catalogs/'\n",
    "HST_cat_filename = HST_cat_root+'xlssc122_F105_F140_redshifts_short_v4_snr_em_member2_by_hand.cat'\n",
    "full_df, phot_df = gfh.load_HST_galaxy_catalog(HST_cat_filename)\n",
    "\n",
    "galfit_df = pd.read_csv(galfit_filename)\n",
    "# phot_df = pd.read_csv(phot_filename, delim_whitespace=True)"
   ]
  },
  {
   "cell_type": "code",
   "execution_count": 3,
   "metadata": {},
   "outputs": [
    {
     "output_type": "execute_result",
     "data": {
      "text/plain": [
       "array(['phot-id', 'ra', 'dec', 'f105_kron', 'f105_ekron', 'f105_0p8',\n",
       "       'f105_e0p8', 'f140_kron', 'f140_ekron', 'f140_0p8', 'f140_e0p8',\n",
       "       'asec_fwhm', 'zz', 'zlo', 'zhi', 'chi', 'spec-id', 'mcode', 'snr',\n",
       "       'em-code', 'member1', 'member2', 'gold_cluster', 'gold_foreground',\n",
       "       'silver_cluster', '(f140)kron', 'color', 'F140W', 'ID', 'RA',\n",
       "       'DEC', 'r_center', 'X', 'Y'], dtype=object)"
      ]
     },
     "metadata": {},
     "execution_count": 3
    }
   ],
   "source": [
    "phot_df.columns.values"
   ]
  },
  {
   "cell_type": "code",
   "execution_count": 4,
   "metadata": {},
   "outputs": [
    {
     "output_type": "stream",
     "name": "stdout",
     "text": [
      "['ID' 'ra' 'dec' 're' 're_err' 'ar' 'ar_err' 'n' 'n_err' 'mag' 'mag_err'\n 'sky' 'sky_err' 'chi2nu' 'ErrorValue' '(f140)kron' 'DEC' 'F140W' 'RA' 'X'\n 'Y' 'asec_fwhm' 'chi' 'color' 'em-code' 'f105_0p8' 'f105_e0p8'\n 'f105_ekron' 'f105_kron' 'f140_0p8' 'f140_e0p8' 'f140_ekron' 'f140_kron'\n 'gold_cluster' 'gold_foreground' 'mcode' 'member1' 'member2' 'phot-id'\n 'r_center' 'silver_cluster' 'snr' 'spec-id' 'zhi' 'zlo' 'zz']\n37\n37\n"
     ]
    }
   ],
   "source": [
    "# Merge\n",
    "cols_to_use = phot_df.columns.difference(galfit_df.columns)\n",
    "hst_mdf = galfit_df.merge(phot_df[cols_to_use],how='inner',left_on='ID',right_on='phot-id')\n",
    "print(hst_mdf.columns.values)\n",
    "print(len(hst_mdf))\n",
    "print(len(galfit_df))"
   ]
  },
  {
   "cell_type": "code",
   "execution_count": 5,
   "metadata": {},
   "outputs": [],
   "source": [
    "### Compute stellar mass statistics from chains\n",
    "files_mstar = glob.glob('/data/emiln/XLSSC122_GalPops/Data/Products/HST/catalogs/mass_chains/*_post_lin_tw_mstar.out')"
   ]
  },
  {
   "cell_type": "code",
   "execution_count": 6,
   "metadata": {},
   "outputs": [],
   "source": [
    "ids = []\n",
    "masses = []\n",
    "stds = []\n",
    "for f in files_mstar:\n",
    "    mstar = pd.read_csv(f,header=None,skiprows=1,delimiter='\\s+')\n",
    "    id=f.split('/')[-1].split('_')[0]\n",
    "    if id[0] == '0': id=id[1:]\n",
    "    x=mstar[0]; y=mstar[1]; z=mstar[2]\n",
    "    nx=101\n",
    "    xu = np.unique(x)\n",
    "    yu = np.unique(y)\n",
    "    zu = np.reshape(z,(nx,nx))\n",
    "    p = np.sum(zu,axis=0)\n",
    "    p_norm = p/np.sum(p)\n",
    "    # print(len(p_norm),len(xu))\n",
    "    mass = np.dot(xu,p_norm)\n",
    "    std = np.sqrt(np.dot((xu-mass)**2,p_norm))\n",
    "    ids.append(int(id))\n",
    "    masses.append(float(mass))\n",
    "    stds.append(float(std))\n",
    "\n"
   ]
  },
  {
   "cell_type": "code",
   "execution_count": 64,
   "metadata": {},
   "outputs": [
    {
     "output_type": "stream",
     "name": "stdout",
     "text": [
      "['ID' 'ra' 'dec' 're' 're_err' 'ar' 'ar_err' 'n' 'n_err' 'mag' 'mag_err'\n 'sky' 'sky_err' 'chi2nu' 'ErrorValue' '(f140)kron' 'DEC' 'F140W' 'RA' 'X'\n 'Y' 'asec_fwhm' 'chi' 'color' 'em-code' 'f105_0p8' 'f105_e0p8'\n 'f105_ekron' 'f105_kron' 'f140_0p8' 'f140_e0p8' 'f140_ekron' 'f140_kron'\n 'gold_cluster' 'gold_foreground' 'mcode' 'member1' 'member2' 'phot-id'\n 'r_center' 'silver_cluster' 'snr' 'spec-id' 'zhi' 'zlo' 'zz' 'mass'\n 'mass_err']\n"
     ]
    },
    {
     "output_type": "execute_result",
     "data": {
      "text/html": "<div>\n<style scoped>\n    .dataframe tbody tr th:only-of-type {\n        vertical-align: middle;\n    }\n\n    .dataframe tbody tr th {\n        vertical-align: top;\n    }\n\n    .dataframe thead th {\n        text-align: right;\n    }\n</style>\n<table border=\"1\" class=\"dataframe\">\n  <thead>\n    <tr style=\"text-align: right;\">\n      <th></th>\n      <th>ID</th>\n      <th>ra</th>\n      <th>dec</th>\n      <th>re</th>\n      <th>re_err</th>\n      <th>ar</th>\n      <th>ar_err</th>\n      <th>n</th>\n      <th>n_err</th>\n      <th>mag</th>\n      <th>...</th>\n      <th>phot-id</th>\n      <th>r_center</th>\n      <th>silver_cluster</th>\n      <th>snr</th>\n      <th>spec-id</th>\n      <th>zhi</th>\n      <th>zlo</th>\n      <th>zz</th>\n      <th>mass</th>\n      <th>mass_err</th>\n    </tr>\n  </thead>\n  <tbody>\n    <tr>\n      <th>0</th>\n      <td>529</td>\n      <td>34.434215</td>\n      <td>-3.758796</td>\n      <td>96.2689</td>\n      <td>11.8374</td>\n      <td>0.8192</td>\n      <td>0.0056</td>\n      <td>7.5569</td>\n      <td>0.2702</td>\n      <td>19.7563</td>\n      <td>...</td>\n      <td>529</td>\n      <td>0.010969</td>\n      <td>0</td>\n      <td>34.08530</td>\n      <td>526</td>\n      <td>1.981394</td>\n      <td>1.975346</td>\n      <td>1.979632</td>\n      <td>11.619915</td>\n      <td>0.040020</td>\n    </tr>\n    <tr>\n      <th>1</th>\n      <td>455</td>\n      <td>34.422282</td>\n      <td>-3.763513</td>\n      <td>4.6240</td>\n      <td>0.0721</td>\n      <td>0.9368</td>\n      <td>0.0087</td>\n      <td>2.9442</td>\n      <td>0.0643</td>\n      <td>21.7323</td>\n      <td>...</td>\n      <td>455</td>\n      <td>1.313392</td>\n      <td>0</td>\n      <td>22.31920</td>\n      <td>451</td>\n      <td>1.981299</td>\n      <td>1.974240</td>\n      <td>1.980749</td>\n      <td>10.755394</td>\n      <td>0.087396</td>\n    </tr>\n    <tr>\n      <th>2</th>\n      <td>661</td>\n      <td>34.434096</td>\n      <td>-3.757658</td>\n      <td>4.4956</td>\n      <td>0.1854</td>\n      <td>0.8957</td>\n      <td>0.0099</td>\n      <td>3.0743</td>\n      <td>0.1384</td>\n      <td>22.0689</td>\n      <td>...</td>\n      <td>661</td>\n      <td>0.111208</td>\n      <td>0</td>\n      <td>18.51870</td>\n      <td>657</td>\n      <td>1.987677</td>\n      <td>1.979659</td>\n      <td>1.982701</td>\n      <td>11.251713</td>\n      <td>0.032812</td>\n    </tr>\n    <tr>\n      <th>3</th>\n      <td>1036</td>\n      <td>34.432450</td>\n      <td>-3.749924</td>\n      <td>7.6350</td>\n      <td>0.9149</td>\n      <td>0.5144</td>\n      <td>0.0085</td>\n      <td>5.0309</td>\n      <td>0.4047</td>\n      <td>21.9548</td>\n      <td>...</td>\n      <td>1036</td>\n      <td>0.922889</td>\n      <td>0</td>\n      <td>17.43010</td>\n      <td>1032</td>\n      <td>1.982618</td>\n      <td>1.976072</td>\n      <td>1.981512</td>\n      <td>10.689293</td>\n      <td>0.096161</td>\n    </tr>\n    <tr>\n      <th>4</th>\n      <td>300</td>\n      <td>34.435031</td>\n      <td>-3.767948</td>\n      <td>2.2217</td>\n      <td>0.0403</td>\n      <td>0.7417</td>\n      <td>0.0139</td>\n      <td>2.5740</td>\n      <td>0.1577</td>\n      <td>22.4572</td>\n      <td>...</td>\n      <td>300</td>\n      <td>0.951805</td>\n      <td>0</td>\n      <td>16.91640</td>\n      <td>295</td>\n      <td>1.989074</td>\n      <td>1.984283</td>\n      <td>1.986897</td>\n      <td>10.968724</td>\n      <td>0.013495</td>\n    </tr>\n    <tr>\n      <th>5</th>\n      <td>920</td>\n      <td>34.435628</td>\n      <td>-3.753143</td>\n      <td>1.4499</td>\n      <td>0.0395</td>\n      <td>0.8452</td>\n      <td>0.0179</td>\n      <td>6.3884</td>\n      <td>0.4414</td>\n      <td>22.5358</td>\n      <td>...</td>\n      <td>920</td>\n      <td>0.595968</td>\n      <td>0</td>\n      <td>14.83810</td>\n      <td>917</td>\n      <td>1.963658</td>\n      <td>1.961974</td>\n      <td>1.962999</td>\n      <td>NaN</td>\n      <td>NaN</td>\n    </tr>\n    <tr>\n      <th>6</th>\n      <td>305</td>\n      <td>34.447153</td>\n      <td>-3.768007</td>\n      <td>11.3433</td>\n      <td>0.9366</td>\n      <td>0.4094</td>\n      <td>0.0070</td>\n      <td>7.3004</td>\n      <td>0.3759</td>\n      <td>22.0240</td>\n      <td>...</td>\n      <td>305</td>\n      <td>1.644519</td>\n      <td>0</td>\n      <td>11.84510</td>\n      <td>298</td>\n      <td>1.995379</td>\n      <td>1.990165</td>\n      <td>1.992867</td>\n      <td>10.822529</td>\n      <td>0.076894</td>\n    </tr>\n    <tr>\n      <th>7</th>\n      <td>1057</td>\n      <td>34.436886</td>\n      <td>-3.750173</td>\n      <td>3.3123</td>\n      <td>0.0364</td>\n      <td>0.5120</td>\n      <td>0.0081</td>\n      <td>1.6321</td>\n      <td>0.0645</td>\n      <td>22.7747</td>\n      <td>...</td>\n      <td>1057</td>\n      <td>0.925692</td>\n      <td>0</td>\n      <td>11.80230</td>\n      <td>1050</td>\n      <td>1.982959</td>\n      <td>1.974407</td>\n      <td>1.977232</td>\n      <td>10.581541</td>\n      <td>0.108340</td>\n    </tr>\n    <tr>\n      <th>8</th>\n      <td>1065</td>\n      <td>34.435917</td>\n      <td>-3.749538</td>\n      <td>4.5865</td>\n      <td>0.3128</td>\n      <td>0.3704</td>\n      <td>0.0405</td>\n      <td>0.9374</td>\n      <td>0.2062</td>\n      <td>22.7974</td>\n      <td>...</td>\n      <td>1065</td>\n      <td>0.964151</td>\n      <td>0</td>\n      <td>11.22480</td>\n      <td>1064</td>\n      <td>1.996971</td>\n      <td>1.983367</td>\n      <td>1.987974</td>\n      <td>10.741509</td>\n      <td>0.106439</td>\n    </tr>\n    <tr>\n      <th>9</th>\n      <td>608</td>\n      <td>34.438450</td>\n      <td>-3.760699</td>\n      <td>2.4748</td>\n      <td>0.0330</td>\n      <td>0.7395</td>\n      <td>0.0117</td>\n      <td>1.2098</td>\n      <td>0.0633</td>\n      <td>22.8834</td>\n      <td>...</td>\n      <td>608</td>\n      <td>0.488415</td>\n      <td>0</td>\n      <td>10.55160</td>\n      <td>606</td>\n      <td>1.971139</td>\n      <td>1.961619</td>\n      <td>1.965895</td>\n      <td>10.308117</td>\n      <td>0.118456</td>\n    </tr>\n    <tr>\n      <th>10</th>\n      <td>243</td>\n      <td>34.422417</td>\n      <td>-3.770003</td>\n      <td>2.3622</td>\n      <td>0.0400</td>\n      <td>0.5984</td>\n      <td>0.0127</td>\n      <td>2.1707</td>\n      <td>0.1341</td>\n      <td>22.5412</td>\n      <td>...</td>\n      <td>243</td>\n      <td>1.671102</td>\n      <td>0</td>\n      <td>10.08480</td>\n      <td>240</td>\n      <td>1.979908</td>\n      <td>1.974125</td>\n      <td>1.977416</td>\n      <td>10.231026</td>\n      <td>0.137707</td>\n    </tr>\n    <tr>\n      <th>11</th>\n      <td>644</td>\n      <td>34.433802</td>\n      <td>-3.758806</td>\n      <td>2.5159</td>\n      <td>0.0001</td>\n      <td>0.8568</td>\n      <td>0.0000</td>\n      <td>2.0915</td>\n      <td>0.0001</td>\n      <td>23.4352</td>\n      <td>...</td>\n      <td>644</td>\n      <td>0.033934</td>\n      <td>1</td>\n      <td>8.42173</td>\n      <td>642</td>\n      <td>2.055465</td>\n      <td>1.996587</td>\n      <td>2.040927</td>\n      <td>NaN</td>\n      <td>NaN</td>\n    </tr>\n    <tr>\n      <th>12</th>\n      <td>847</td>\n      <td>34.434697</td>\n      <td>-3.754887</td>\n      <td>1.7601</td>\n      <td>0.0445</td>\n      <td>0.8436</td>\n      <td>0.0203</td>\n      <td>1.9367</td>\n      <td>0.1745</td>\n      <td>23.3887</td>\n      <td>...</td>\n      <td>847</td>\n      <td>0.400530</td>\n      <td>0</td>\n      <td>8.00614</td>\n      <td>845</td>\n      <td>1.983010</td>\n      <td>1.974247</td>\n      <td>1.979286</td>\n      <td>10.347347</td>\n      <td>0.146519</td>\n    </tr>\n    <tr>\n      <th>13</th>\n      <td>375</td>\n      <td>34.444096</td>\n      <td>-3.765667</td>\n      <td>5.1813</td>\n      <td>0.1952</td>\n      <td>0.8496</td>\n      <td>0.0173</td>\n      <td>2.8866</td>\n      <td>0.1237</td>\n      <td>22.8787</td>\n      <td>...</td>\n      <td>375</td>\n      <td>1.248860</td>\n      <td>0</td>\n      <td>7.98415</td>\n      <td>372</td>\n      <td>1.964558</td>\n      <td>1.960181</td>\n      <td>1.962563</td>\n      <td>NaN</td>\n      <td>NaN</td>\n    </tr>\n    <tr>\n      <th>14</th>\n      <td>735</td>\n      <td>34.425011</td>\n      <td>-3.758034</td>\n      <td>2.7416</td>\n      <td>0.0741</td>\n      <td>0.4809</td>\n      <td>0.0144</td>\n      <td>2.5999</td>\n      <td>0.1981</td>\n      <td>23.2110</td>\n      <td>...</td>\n      <td>735</td>\n      <td>0.940239</td>\n      <td>0</td>\n      <td>7.52125</td>\n      <td>734</td>\n      <td>1.997584</td>\n      <td>1.989537</td>\n      <td>1.995728</td>\n      <td>10.450643</td>\n      <td>0.109411</td>\n    </tr>\n    <tr>\n      <th>15</th>\n      <td>1223</td>\n      <td>34.443347</td>\n      <td>-3.745001</td>\n      <td>1.4219</td>\n      <td>0.0387</td>\n      <td>0.7848</td>\n      <td>0.0211</td>\n      <td>2.1902</td>\n      <td>0.2149</td>\n      <td>23.3667</td>\n      <td>...</td>\n      <td>1223</td>\n      <td>1.701881</td>\n      <td>0</td>\n      <td>7.46657</td>\n      <td>1220</td>\n      <td>1.981801</td>\n      <td>1.972313</td>\n      <td>1.976339</td>\n      <td>10.134020</td>\n      <td>0.167804</td>\n    </tr>\n    <tr>\n      <th>16</th>\n      <td>347</td>\n      <td>34.441846</td>\n      <td>-3.766667</td>\n      <td>4.4635</td>\n      <td>0.2679</td>\n      <td>0.6600</td>\n      <td>0.0185</td>\n      <td>2.0550</td>\n      <td>0.1856</td>\n      <td>23.3954</td>\n      <td>...</td>\n      <td>347</td>\n      <td>1.138281</td>\n      <td>0</td>\n      <td>7.27599</td>\n      <td>345</td>\n      <td>2.013390</td>\n      <td>1.976060</td>\n      <td>1.990672</td>\n      <td>9.983817</td>\n      <td>0.208212</td>\n    </tr>\n    <tr>\n      <th>17</th>\n      <td>146</td>\n      <td>34.444783</td>\n      <td>-3.772856</td>\n      <td>7.0998</td>\n      <td>0.0911</td>\n      <td>0.4877</td>\n      <td>0.0056</td>\n      <td>0.8994</td>\n      <td>0.0270</td>\n      <td>22.8458</td>\n      <td>...</td>\n      <td>146</td>\n      <td>1.819404</td>\n      <td>0</td>\n      <td>6.71464</td>\n      <td>145</td>\n      <td>1.985694</td>\n      <td>1.977880</td>\n      <td>1.981413</td>\n      <td>NaN</td>\n      <td>NaN</td>\n    </tr>\n    <tr>\n      <th>18</th>\n      <td>497</td>\n      <td>34.433001</td>\n      <td>-3.763179</td>\n      <td>2.2093</td>\n      <td>0.0518</td>\n      <td>0.9806</td>\n      <td>0.0231</td>\n      <td>2.4437</td>\n      <td>0.1681</td>\n      <td>23.4293</td>\n      <td>...</td>\n      <td>497</td>\n      <td>0.471112</td>\n      <td>0</td>\n      <td>6.41402</td>\n      <td>493</td>\n      <td>1.973375</td>\n      <td>1.950722</td>\n      <td>1.961873</td>\n      <td>10.249928</td>\n      <td>0.169805</td>\n    </tr>\n    <tr>\n      <th>19</th>\n      <td>604</td>\n      <td>34.439389</td>\n      <td>-3.760298</td>\n      <td>8.4508</td>\n      <td>0.0780</td>\n      <td>0.2357</td>\n      <td>0.0039</td>\n      <td>0.3697</td>\n      <td>0.0212</td>\n      <td>23.3059</td>\n      <td>...</td>\n      <td>604</td>\n      <td>0.564692</td>\n      <td>0</td>\n      <td>5.77452</td>\n      <td>603</td>\n      <td>1.982696</td>\n      <td>1.967911</td>\n      <td>1.978797</td>\n      <td>NaN</td>\n      <td>NaN</td>\n    </tr>\n    <tr>\n      <th>20</th>\n      <td>1147</td>\n      <td>34.433624</td>\n      <td>-3.747747</td>\n      <td>1.6791</td>\n      <td>0.0477</td>\n      <td>0.6084</td>\n      <td>0.0235</td>\n      <td>0.8627</td>\n      <td>0.1467</td>\n      <td>23.8429</td>\n      <td>...</td>\n      <td>1147</td>\n      <td>1.131759</td>\n      <td>0</td>\n      <td>5.76285</td>\n      <td>1141</td>\n      <td>1.963468</td>\n      <td>1.962858</td>\n      <td>1.963307</td>\n      <td>NaN</td>\n      <td>NaN</td>\n    </tr>\n    <tr>\n      <th>21</th>\n      <td>407</td>\n      <td>34.446407</td>\n      <td>-3.765319</td>\n      <td>4.9984</td>\n      <td>0.4288</td>\n      <td>0.4922</td>\n      <td>0.0182</td>\n      <td>2.7526</td>\n      <td>0.3034</td>\n      <td>23.2205</td>\n      <td>...</td>\n      <td>407</td>\n      <td>1.433175</td>\n      <td>0</td>\n      <td>5.39205</td>\n      <td>402</td>\n      <td>1.979679</td>\n      <td>1.964912</td>\n      <td>1.972318</td>\n      <td>NaN</td>\n      <td>NaN</td>\n    </tr>\n    <tr>\n      <th>22</th>\n      <td>731</td>\n      <td>34.439754</td>\n      <td>-3.758259</td>\n      <td>1.4761</td>\n      <td>0.0496</td>\n      <td>0.6853</td>\n      <td>0.0279</td>\n      <td>1.9274</td>\n      <td>0.2479</td>\n      <td>23.7861</td>\n      <td>...</td>\n      <td>731</td>\n      <td>0.581082</td>\n      <td>0</td>\n      <td>5.23932</td>\n      <td>730</td>\n      <td>2.001035</td>\n      <td>1.988322</td>\n      <td>1.993321</td>\n      <td>10.286724</td>\n      <td>0.102102</td>\n    </tr>\n    <tr>\n      <th>23</th>\n      <td>653</td>\n      <td>34.433963</td>\n      <td>-3.759267</td>\n      <td>2.7330</td>\n      <td>0.1905</td>\n      <td>0.7094</td>\n      <td>0.0330</td>\n      <td>4.1513</td>\n      <td>0.5636</td>\n      <td>23.7874</td>\n      <td>...</td>\n      <td>653</td>\n      <td>0.056827</td>\n      <td>0</td>\n      <td>5.04712</td>\n      <td>649</td>\n      <td>2.024208</td>\n      <td>1.961489</td>\n      <td>1.997161</td>\n      <td>10.857841</td>\n      <td>0.102053</td>\n    </tr>\n    <tr>\n      <th>24</th>\n      <td>469</td>\n      <td>34.418647</td>\n      <td>-3.763720</td>\n      <td>2.3689</td>\n      <td>0.2696</td>\n      <td>0.7414</td>\n      <td>0.0356</td>\n      <td>5.1041</td>\n      <td>1.0718</td>\n      <td>23.9247</td>\n      <td>...</td>\n      <td>469</td>\n      <td>1.672436</td>\n      <td>0</td>\n      <td>4.12278</td>\n      <td>466</td>\n      <td>1.978946</td>\n      <td>1.978289</td>\n      <td>1.978762</td>\n      <td>NaN</td>\n      <td>NaN</td>\n    </tr>\n    <tr>\n      <th>25</th>\n      <td>726</td>\n      <td>34.430604</td>\n      <td>-3.757624</td>\n      <td>10.4533</td>\n      <td>0.3099</td>\n      <td>0.7094</td>\n      <td>0.0134</td>\n      <td>1.0001</td>\n      <td>0.0401</td>\n      <td>23.2616</td>\n      <td>...</td>\n      <td>726</td>\n      <td>0.379879</td>\n      <td>0</td>\n      <td>3.96213</td>\n      <td>726</td>\n      <td>1.978192</td>\n      <td>0.557189</td>\n      <td>1.968750</td>\n      <td>10.024899</td>\n      <td>0.282251</td>\n    </tr>\n    <tr>\n      <th>26</th>\n      <td>232</td>\n      <td>34.440507</td>\n      <td>-3.770359</td>\n      <td>4.5455</td>\n      <td>0.1223</td>\n      <td>0.5849</td>\n      <td>0.0161</td>\n      <td>1.0604</td>\n      <td>0.0615</td>\n      <td>23.8700</td>\n      <td>...</td>\n      <td>232</td>\n      <td>1.363620</td>\n      <td>0</td>\n      <td>3.93057</td>\n      <td>229</td>\n      <td>1.980032</td>\n      <td>1.975571</td>\n      <td>1.977933</td>\n      <td>NaN</td>\n      <td>NaN</td>\n    </tr>\n    <tr>\n      <th>27</th>\n      <td>454</td>\n      <td>34.418951</td>\n      <td>-3.763868</td>\n      <td>7.2194</td>\n      <td>0.1299</td>\n      <td>0.6032</td>\n      <td>0.0104</td>\n      <td>0.4462</td>\n      <td>0.0312</td>\n      <td>23.6148</td>\n      <td>...</td>\n      <td>454</td>\n      <td>1.647510</td>\n      <td>0</td>\n      <td>3.90987</td>\n      <td>452</td>\n      <td>1.973529</td>\n      <td>1.967451</td>\n      <td>1.970551</td>\n      <td>NaN</td>\n      <td>NaN</td>\n    </tr>\n    <tr>\n      <th>28</th>\n      <td>808</td>\n      <td>34.447713</td>\n      <td>-3.756092</td>\n      <td>7.1903</td>\n      <td>0.1554</td>\n      <td>0.3752</td>\n      <td>0.0081</td>\n      <td>0.7519</td>\n      <td>0.0476</td>\n      <td>23.8187</td>\n      <td>...</td>\n      <td>808</td>\n      <td>1.423891</td>\n      <td>0</td>\n      <td>3.72453</td>\n      <td>806</td>\n      <td>2.171852</td>\n      <td>1.969750</td>\n      <td>1.981150</td>\n      <td>NaN</td>\n      <td>NaN</td>\n    </tr>\n    <tr>\n      <th>29</th>\n      <td>240</td>\n      <td>34.451580</td>\n      <td>-3.770285</td>\n      <td>6.2574</td>\n      <td>0.1776</td>\n      <td>0.4466</td>\n      <td>0.0109</td>\n      <td>1.2056</td>\n      <td>0.0587</td>\n      <td>22.8880</td>\n      <td>...</td>\n      <td>240</td>\n      <td>2.152620</td>\n      <td>0</td>\n      <td>3.68478</td>\n      <td>236</td>\n      <td>1.979919</td>\n      <td>1.275339</td>\n      <td>1.977349</td>\n      <td>NaN</td>\n      <td>NaN</td>\n    </tr>\n    <tr>\n      <th>30</th>\n      <td>554</td>\n      <td>34.435274</td>\n      <td>-3.762475</td>\n      <td>4.9150</td>\n      <td>0.0798</td>\n      <td>0.2590</td>\n      <td>0.0113</td>\n      <td>0.3558</td>\n      <td>0.0450</td>\n      <td>23.8873</td>\n      <td>...</td>\n      <td>554</td>\n      <td>0.402057</td>\n      <td>0</td>\n      <td>3.64665</td>\n      <td>547</td>\n      <td>1.963626</td>\n      <td>1.961462</td>\n      <td>1.962710</td>\n      <td>NaN</td>\n      <td>NaN</td>\n    </tr>\n    <tr>\n      <th>31</th>\n      <td>334</td>\n      <td>34.427611</td>\n      <td>-3.767412</td>\n      <td>3.2758</td>\n      <td>0.0617</td>\n      <td>0.3407</td>\n      <td>0.0167</td>\n      <td>0.2150</td>\n      <td>0.0596</td>\n      <td>24.2432</td>\n      <td>...</td>\n      <td>334</td>\n      <td>1.115688</td>\n      <td>0</td>\n      <td>3.52634</td>\n      <td>329</td>\n      <td>1.971940</td>\n      <td>1.970820</td>\n      <td>1.971533</td>\n      <td>NaN</td>\n      <td>NaN</td>\n    </tr>\n    <tr>\n      <th>32</th>\n      <td>1127</td>\n      <td>34.438735</td>\n      <td>-3.748219</td>\n      <td>3.0917</td>\n      <td>0.1798</td>\n      <td>0.6689</td>\n      <td>0.0329</td>\n      <td>1.9576</td>\n      <td>0.2922</td>\n      <td>24.2148</td>\n      <td>...</td>\n      <td>1127</td>\n      <td>1.181373</td>\n      <td>1</td>\n      <td>3.05876</td>\n      <td>1125</td>\n      <td>2.001703</td>\n      <td>1.998227</td>\n      <td>2.000137</td>\n      <td>NaN</td>\n      <td>NaN</td>\n    </tr>\n    <tr>\n      <th>33</th>\n      <td>525</td>\n      <td>34.418961</td>\n      <td>-3.762811</td>\n      <td>4.0762</td>\n      <td>0.1191</td>\n      <td>0.3527</td>\n      <td>0.0226</td>\n      <td>0.3243</td>\n      <td>0.0835</td>\n      <td>24.3852</td>\n      <td>...</td>\n      <td>525</td>\n      <td>1.614987</td>\n      <td>1</td>\n      <td>3.05565</td>\n      <td>522</td>\n      <td>1.960900</td>\n      <td>1.956565</td>\n      <td>1.959066</td>\n      <td>NaN</td>\n      <td>NaN</td>\n    </tr>\n    <tr>\n      <th>34</th>\n      <td>434</td>\n      <td>34.446607</td>\n      <td>-3.764467</td>\n      <td>12.1055</td>\n      <td>1.3054</td>\n      <td>0.3985</td>\n      <td>0.0144</td>\n      <td>2.6135</td>\n      <td>0.2527</td>\n      <td>23.4476</td>\n      <td>...</td>\n      <td>434</td>\n      <td>1.412602</td>\n      <td>0</td>\n      <td>3.05189</td>\n      <td>428</td>\n      <td>2.205463</td>\n      <td>1.147973</td>\n      <td>1.977346</td>\n      <td>10.004328</td>\n      <td>0.267618</td>\n    </tr>\n    <tr>\n      <th>35</th>\n      <td>266</td>\n      <td>34.421055</td>\n      <td>-3.769239</td>\n      <td>5.5744</td>\n      <td>0.1587</td>\n      <td>0.2530</td>\n      <td>0.0118</td>\n      <td>0.9472</td>\n      <td>0.0836</td>\n      <td>24.0633</td>\n      <td>...</td>\n      <td>266</td>\n      <td>1.724443</td>\n      <td>0</td>\n      <td>2.77050</td>\n      <td>263</td>\n      <td>1.979784</td>\n      <td>1.973145</td>\n      <td>1.976128</td>\n      <td>NaN</td>\n      <td>NaN</td>\n    </tr>\n    <tr>\n      <th>36</th>\n      <td>1257</td>\n      <td>34.446333</td>\n      <td>-3.743596</td>\n      <td>7.6353</td>\n      <td>0.3014</td>\n      <td>0.6304</td>\n      <td>0.0204</td>\n      <td>0.8331</td>\n      <td>0.0684</td>\n      <td>23.7344</td>\n      <td>...</td>\n      <td>1257</td>\n      <td>2.000670</td>\n      <td>1</td>\n      <td>2.29907</td>\n      <td>1253</td>\n      <td>3.442319</td>\n      <td>1.091318</td>\n      <td>2.018248</td>\n      <td>NaN</td>\n      <td>NaN</td>\n    </tr>\n  </tbody>\n</table>\n<p>37 rows × 48 columns</p>\n</div>",
      "text/plain": [
       "      ID         ra       dec       re   re_err      ar  ar_err       n  \\\n",
       "0    529  34.434215 -3.758796  96.2689  11.8374  0.8192  0.0056  7.5569   \n",
       "1    455  34.422282 -3.763513   4.6240   0.0721  0.9368  0.0087  2.9442   \n",
       "2    661  34.434096 -3.757658   4.4956   0.1854  0.8957  0.0099  3.0743   \n",
       "3   1036  34.432450 -3.749924   7.6350   0.9149  0.5144  0.0085  5.0309   \n",
       "4    300  34.435031 -3.767948   2.2217   0.0403  0.7417  0.0139  2.5740   \n",
       "5    920  34.435628 -3.753143   1.4499   0.0395  0.8452  0.0179  6.3884   \n",
       "6    305  34.447153 -3.768007  11.3433   0.9366  0.4094  0.0070  7.3004   \n",
       "7   1057  34.436886 -3.750173   3.3123   0.0364  0.5120  0.0081  1.6321   \n",
       "8   1065  34.435917 -3.749538   4.5865   0.3128  0.3704  0.0405  0.9374   \n",
       "9    608  34.438450 -3.760699   2.4748   0.0330  0.7395  0.0117  1.2098   \n",
       "10   243  34.422417 -3.770003   2.3622   0.0400  0.5984  0.0127  2.1707   \n",
       "11   644  34.433802 -3.758806   2.5159   0.0001  0.8568  0.0000  2.0915   \n",
       "12   847  34.434697 -3.754887   1.7601   0.0445  0.8436  0.0203  1.9367   \n",
       "13   375  34.444096 -3.765667   5.1813   0.1952  0.8496  0.0173  2.8866   \n",
       "14   735  34.425011 -3.758034   2.7416   0.0741  0.4809  0.0144  2.5999   \n",
       "15  1223  34.443347 -3.745001   1.4219   0.0387  0.7848  0.0211  2.1902   \n",
       "16   347  34.441846 -3.766667   4.4635   0.2679  0.6600  0.0185  2.0550   \n",
       "17   146  34.444783 -3.772856   7.0998   0.0911  0.4877  0.0056  0.8994   \n",
       "18   497  34.433001 -3.763179   2.2093   0.0518  0.9806  0.0231  2.4437   \n",
       "19   604  34.439389 -3.760298   8.4508   0.0780  0.2357  0.0039  0.3697   \n",
       "20  1147  34.433624 -3.747747   1.6791   0.0477  0.6084  0.0235  0.8627   \n",
       "21   407  34.446407 -3.765319   4.9984   0.4288  0.4922  0.0182  2.7526   \n",
       "22   731  34.439754 -3.758259   1.4761   0.0496  0.6853  0.0279  1.9274   \n",
       "23   653  34.433963 -3.759267   2.7330   0.1905  0.7094  0.0330  4.1513   \n",
       "24   469  34.418647 -3.763720   2.3689   0.2696  0.7414  0.0356  5.1041   \n",
       "25   726  34.430604 -3.757624  10.4533   0.3099  0.7094  0.0134  1.0001   \n",
       "26   232  34.440507 -3.770359   4.5455   0.1223  0.5849  0.0161  1.0604   \n",
       "27   454  34.418951 -3.763868   7.2194   0.1299  0.6032  0.0104  0.4462   \n",
       "28   808  34.447713 -3.756092   7.1903   0.1554  0.3752  0.0081  0.7519   \n",
       "29   240  34.451580 -3.770285   6.2574   0.1776  0.4466  0.0109  1.2056   \n",
       "30   554  34.435274 -3.762475   4.9150   0.0798  0.2590  0.0113  0.3558   \n",
       "31   334  34.427611 -3.767412   3.2758   0.0617  0.3407  0.0167  0.2150   \n",
       "32  1127  34.438735 -3.748219   3.0917   0.1798  0.6689  0.0329  1.9576   \n",
       "33   525  34.418961 -3.762811   4.0762   0.1191  0.3527  0.0226  0.3243   \n",
       "34   434  34.446607 -3.764467  12.1055   1.3054  0.3985  0.0144  2.6135   \n",
       "35   266  34.421055 -3.769239   5.5744   0.1587  0.2530  0.0118  0.9472   \n",
       "36  1257  34.446333 -3.743596   7.6353   0.3014  0.6304  0.0204  0.8331   \n",
       "\n",
       "     n_err      mag    ...     phot-id  r_center  silver_cluster       snr  \\\n",
       "0   0.2702  19.7563    ...         529  0.010969               0  34.08530   \n",
       "1   0.0643  21.7323    ...         455  1.313392               0  22.31920   \n",
       "2   0.1384  22.0689    ...         661  0.111208               0  18.51870   \n",
       "3   0.4047  21.9548    ...        1036  0.922889               0  17.43010   \n",
       "4   0.1577  22.4572    ...         300  0.951805               0  16.91640   \n",
       "5   0.4414  22.5358    ...         920  0.595968               0  14.83810   \n",
       "6   0.3759  22.0240    ...         305  1.644519               0  11.84510   \n",
       "7   0.0645  22.7747    ...        1057  0.925692               0  11.80230   \n",
       "8   0.2062  22.7974    ...        1065  0.964151               0  11.22480   \n",
       "9   0.0633  22.8834    ...         608  0.488415               0  10.55160   \n",
       "10  0.1341  22.5412    ...         243  1.671102               0  10.08480   \n",
       "11  0.0001  23.4352    ...         644  0.033934               1   8.42173   \n",
       "12  0.1745  23.3887    ...         847  0.400530               0   8.00614   \n",
       "13  0.1237  22.8787    ...         375  1.248860               0   7.98415   \n",
       "14  0.1981  23.2110    ...         735  0.940239               0   7.52125   \n",
       "15  0.2149  23.3667    ...        1223  1.701881               0   7.46657   \n",
       "16  0.1856  23.3954    ...         347  1.138281               0   7.27599   \n",
       "17  0.0270  22.8458    ...         146  1.819404               0   6.71464   \n",
       "18  0.1681  23.4293    ...         497  0.471112               0   6.41402   \n",
       "19  0.0212  23.3059    ...         604  0.564692               0   5.77452   \n",
       "20  0.1467  23.8429    ...        1147  1.131759               0   5.76285   \n",
       "21  0.3034  23.2205    ...         407  1.433175               0   5.39205   \n",
       "22  0.2479  23.7861    ...         731  0.581082               0   5.23932   \n",
       "23  0.5636  23.7874    ...         653  0.056827               0   5.04712   \n",
       "24  1.0718  23.9247    ...         469  1.672436               0   4.12278   \n",
       "25  0.0401  23.2616    ...         726  0.379879               0   3.96213   \n",
       "26  0.0615  23.8700    ...         232  1.363620               0   3.93057   \n",
       "27  0.0312  23.6148    ...         454  1.647510               0   3.90987   \n",
       "28  0.0476  23.8187    ...         808  1.423891               0   3.72453   \n",
       "29  0.0587  22.8880    ...         240  2.152620               0   3.68478   \n",
       "30  0.0450  23.8873    ...         554  0.402057               0   3.64665   \n",
       "31  0.0596  24.2432    ...         334  1.115688               0   3.52634   \n",
       "32  0.2922  24.2148    ...        1127  1.181373               1   3.05876   \n",
       "33  0.0835  24.3852    ...         525  1.614987               1   3.05565   \n",
       "34  0.2527  23.4476    ...         434  1.412602               0   3.05189   \n",
       "35  0.0836  24.0633    ...         266  1.724443               0   2.77050   \n",
       "36  0.0684  23.7344    ...        1257  2.000670               1   2.29907   \n",
       "\n",
       "    spec-id       zhi       zlo        zz       mass  mass_err  \n",
       "0       526  1.981394  1.975346  1.979632  11.619915  0.040020  \n",
       "1       451  1.981299  1.974240  1.980749  10.755394  0.087396  \n",
       "2       657  1.987677  1.979659  1.982701  11.251713  0.032812  \n",
       "3      1032  1.982618  1.976072  1.981512  10.689293  0.096161  \n",
       "4       295  1.989074  1.984283  1.986897  10.968724  0.013495  \n",
       "5       917  1.963658  1.961974  1.962999        NaN       NaN  \n",
       "6       298  1.995379  1.990165  1.992867  10.822529  0.076894  \n",
       "7      1050  1.982959  1.974407  1.977232  10.581541  0.108340  \n",
       "8      1064  1.996971  1.983367  1.987974  10.741509  0.106439  \n",
       "9       606  1.971139  1.961619  1.965895  10.308117  0.118456  \n",
       "10      240  1.979908  1.974125  1.977416  10.231026  0.137707  \n",
       "11      642  2.055465  1.996587  2.040927        NaN       NaN  \n",
       "12      845  1.983010  1.974247  1.979286  10.347347  0.146519  \n",
       "13      372  1.964558  1.960181  1.962563        NaN       NaN  \n",
       "14      734  1.997584  1.989537  1.995728  10.450643  0.109411  \n",
       "15     1220  1.981801  1.972313  1.976339  10.134020  0.167804  \n",
       "16      345  2.013390  1.976060  1.990672   9.983817  0.208212  \n",
       "17      145  1.985694  1.977880  1.981413        NaN       NaN  \n",
       "18      493  1.973375  1.950722  1.961873  10.249928  0.169805  \n",
       "19      603  1.982696  1.967911  1.978797        NaN       NaN  \n",
       "20     1141  1.963468  1.962858  1.963307        NaN       NaN  \n",
       "21      402  1.979679  1.964912  1.972318        NaN       NaN  \n",
       "22      730  2.001035  1.988322  1.993321  10.286724  0.102102  \n",
       "23      649  2.024208  1.961489  1.997161  10.857841  0.102053  \n",
       "24      466  1.978946  1.978289  1.978762        NaN       NaN  \n",
       "25      726  1.978192  0.557189  1.968750  10.024899  0.282251  \n",
       "26      229  1.980032  1.975571  1.977933        NaN       NaN  \n",
       "27      452  1.973529  1.967451  1.970551        NaN       NaN  \n",
       "28      806  2.171852  1.969750  1.981150        NaN       NaN  \n",
       "29      236  1.979919  1.275339  1.977349        NaN       NaN  \n",
       "30      547  1.963626  1.961462  1.962710        NaN       NaN  \n",
       "31      329  1.971940  1.970820  1.971533        NaN       NaN  \n",
       "32     1125  2.001703  1.998227  2.000137        NaN       NaN  \n",
       "33      522  1.960900  1.956565  1.959066        NaN       NaN  \n",
       "34      428  2.205463  1.147973  1.977346  10.004328  0.267618  \n",
       "35      263  1.979784  1.973145  1.976128        NaN       NaN  \n",
       "36     1253  3.442319  1.091318  2.018248        NaN       NaN  \n",
       "\n",
       "[37 rows x 48 columns]"
      ]
     },
     "metadata": {},
     "execution_count": 64
    }
   ],
   "source": [
    "mass_df = pd.DataFrame(list(zip(ids,masses,stds)),columns=['spec-id','mass','mass_err'])\n",
    "mhst_mdf = hst_mdf.merge(mass_df,on='spec-id',how='outer')\n",
    "print(mhst_mdf.columns.values)\n",
    "mhst_mdf"
   ]
  },
  {
   "cell_type": "code",
   "execution_count": 65,
   "metadata": {},
   "outputs": [],
   "source": [
    "# Save\n",
    "hst_savename = '/data/emiln/XLSSC122_GalPops/Analysis/Results/hst_galfit_full.csv'\n",
    "mhst_mdf.to_csv(hst_savename,index=False)"
   ]
  },
  {
   "source": [
    "### 3DHST"
   ],
   "cell_type": "markdown",
   "metadata": {}
  },
  {
   "cell_type": "code",
   "execution_count": 11,
   "metadata": {},
   "outputs": [
    {
     "output_type": "stream",
     "name": "stdout",
     "text": [
      "Checking if catalog exists at /data/emiln/XLSSC122_GalPops/Data/3DHST/Products/catalogs/magthresh24_z2.0_zthresh0.3.csv\nCatalog already exists, returning DataFrame\n"
     ]
    }
   ],
   "source": [
    "# Load catalogs\n",
    "DHST_cat_root = '/data/emiln/XLSSC122_GalPops/Data/3DHST/Products/catalogs/'\n",
    "DHST_cat_filename = DHST_cat_root+'cosmos_3dhst.v4.1.cats/Catalog/cosmos_3dhst.v4.1.cat'\n",
    "# phot_df = gfh.load_3DHST_galaxy_catalog(DHST_cat_filename,  mag='F140W', magthresh=24, z=2.00, z_thresh=0.1, overwrite=False, verbose=True, goodfit=True) \n",
    "phot_df = gfh.load_3DHST_galaxy_catalog(DHST_cat_filename,  mag='F140W', magthresh=24, z=2.00, z_thresh=0.3, overwrite=False, verbose=True, goodfit=True) \n",
    "\n",
    "# z+-0.1, conv 64\n",
    "# galfit_filename = '/data/emiln/XLSSC122_GalPops/Analysis/3DHST/Results/3DHST_z2_full_data_cps_sigma_rms_meanexp_cps_w5HLR_F140W_PSF_5min_CONV64_CONSTR_DYNMAG.csv'\n",
    "# z+-0.3, conv 128\n",
    "galfit_filename = '/data/emiln/XLSSC122_GalPops/Analysis/3DHST/Results/3DHST_z2_full_data_cps_sigma_rms_meanexp_cps_w5HLR_F140W_PSF_5min_CONV128_CONSTR_DYNMAG.csv'\n",
    "galfit_df = pd.read_csv(galfit_filename)\n"
   ]
  },
  {
   "cell_type": "code",
   "execution_count": 12,
   "metadata": {},
   "outputs": [],
   "source": [
    "phot_df.columns.values\n",
    "# galfit_df.columns.values\n",
    "phot_df['F814W'] = 25.0 - 2.5 * np.log10(phot_df['f_F814W'])"
   ]
  },
  {
   "cell_type": "code",
   "execution_count": 13,
   "metadata": {},
   "outputs": [
    {
     "output_type": "stream",
     "name": "stdout",
     "text": [
      "['ID' 'ra' 'dec' 're' 're_err' 'ar' 'ar_err' 'n' 'n_err' 'mag' 'mag_err'\n 'sky' 'sky_err' 'chi2nu' 'ErrorValue' 'id' 'x' 'y' 'faper_F160W'\n 'eaper_F160W' 'faper_F140W' 'eaper_F140W' 'f_F160W' 'e_F160W' 'w_F160W'\n 'f_U' 'e_U' 'w_U' 'f_B' 'e_B' 'w_B' 'f_G' 'e_G' 'w_G' 'f_V' 'e_V' 'w_V'\n 'f_F606W' 'e_F606W' 'w_F606W' 'f_R' 'e_R' 'w_R' 'f_Rp' 'e_Rp' 'w_Rp'\n 'f_I' 'e_I' 'w_I' 'f_Ip' 'e_Ip' 'w_Ip' 'f_F814W' 'e_F814W' 'w_F814W'\n 'f_Z' 'e_Z' 'w_Z' 'f_Zp' 'e_Zp' 'w_Zp' 'f_UVISTA_Y' 'e_UVISTA_Y'\n 'w_UVISTA_Y' 'f_F125W' 'e_F125W' 'w_F125W' 'f_J1' 'e_J1' 'w_J1' 'f_J2'\n 'e_J2' 'w_J2' 'f_J3' 'e_J3' 'w_J3' 'f_J' 'e_J' 'w_J' 'f_UVISTA_J'\n 'e_UVISTA_J' 'w_UVISTA_J' 'f_F140W' 'e_F140W' 'w_F140W' 'f_H1' 'e_H1'\n 'w_H1' 'f_H2' 'e_H2' 'w_H2' 'f_H' 'e_H' 'w_H' 'f_UVISTA_H' 'e_UVISTA_H'\n 'w_UVISTA_H' 'f_K' 'e_K' 'w_K' 'f_Ks' 'e_Ks' 'w_Ks' 'f_UVISTA_Ks'\n 'e_UVISTA_Ks' 'w_UVISTA_Ks' 'f_IRAC1' 'e_IRAC1' 'w_IRAC1' 'f_IRAC2'\n 'e_IRAC2' 'w_IRAC2' 'f_IRAC3' 'e_IRAC3' 'w_IRAC3' 'f_IRAC4' 'e_IRAC4'\n 'w_IRAC4' 'f_IA427' 'e_IA427' 'f_IA464' 'e_IA464' 'f_IA484' 'e_IA484'\n 'f_IA505' 'e_IA505' 'f_IA527' 'e_IA527' 'f_IA574' 'e_IA574' 'f_IA624'\n 'e_IA624' 'f_IA679' 'e_IA679' 'f_IA709' 'e_IA709' 'f_IA738' 'e_IA738'\n 'f_IA767' 'e_IA767' 'f_IA827' 'e_IA827' 'tot_cor' 'wmin_ground'\n 'wmin_hst' 'wmin_irac' 'wmin_wfc3' 'z_spec' 'star_flag' 'kron_radius'\n 'a_image' 'b_image' 'theta_J2000' 'class_star' 'flux_radius' 'fwhm_image'\n 'flags' 'IRAC1_contam' 'IRAC2_contam' 'IRAC3_contam' 'IRAC4_contam'\n 'contam_flag' 'f140w_flag' 'use_phot' 'near_star' 'nexp_f125w'\n 'nexp_f140w' 'nexp_f160w' 'F140W' 'F140W_fixed' 'X' 'Y' 'RA' 'DEC' 'z'\n 'ltau' 'metal' 'lage' 'Av' 'lmass' 'lsfr' 'lssfr' 'la2t' 'chi2' 'F814W']\n433\n433\n"
     ]
    }
   ],
   "source": [
    "# Merge\n",
    "# cols_to_use = phot_df.columns.difference(galfit_df.columns)\n",
    "dhst_mdf = galfit_df.merge(phot_df,how='inner',on='ID',suffixes=('','_y'))\n",
    "dhst_mdf.drop(labels=['ra_y','dec_y'],axis=1,inplace=True)\n",
    "print(dhst_mdf.columns.values)\n",
    "print(len(dhst_mdf))\n",
    "print(len(galfit_df))"
   ]
  },
  {
   "cell_type": "code",
   "execution_count": 14,
   "metadata": {},
   "outputs": [],
   "source": [
    "# Save\n",
    "dhst_savename = '/data/emiln/XLSSC122_GalPops/Analysis/Results/3dhst_galfit_full_1p7_to_2p3.csv'\n",
    "dhst_mdf.to_csv(dhst_savename,index=False)"
   ]
  },
  {
   "cell_type": "code",
   "execution_count": 15,
   "metadata": {},
   "outputs": [
    {
     "output_type": "execute_result",
     "data": {
      "text/html": "<div>\n<style scoped>\n    .dataframe tbody tr th:only-of-type {\n        vertical-align: middle;\n    }\n\n    .dataframe tbody tr th {\n        vertical-align: top;\n    }\n\n    .dataframe thead th {\n        text-align: right;\n    }\n</style>\n<table border=\"1\" class=\"dataframe\">\n  <thead>\n    <tr style=\"text-align: right;\">\n      <th></th>\n      <th>ID</th>\n      <th>ra</th>\n      <th>dec</th>\n      <th>re</th>\n      <th>re_err</th>\n      <th>ar</th>\n      <th>ar_err</th>\n      <th>n</th>\n      <th>n_err</th>\n      <th>mag</th>\n      <th>...</th>\n      <th>ltau</th>\n      <th>metal</th>\n      <th>lage</th>\n      <th>Av</th>\n      <th>lmass</th>\n      <th>lsfr</th>\n      <th>lssfr</th>\n      <th>la2t</th>\n      <th>chi2</th>\n      <th>F814W</th>\n    </tr>\n  </thead>\n  <tbody>\n    <tr>\n      <th>0</th>\n      <td>691</td>\n      <td>150.104736</td>\n      <td>2.187411</td>\n      <td>3.3884</td>\n      <td>0.2475</td>\n      <td>0.3654</td>\n      <td>0.0517</td>\n      <td>1.9423</td>\n      <td>0.5100</td>\n      <td>23.8350</td>\n      <td>...</td>\n      <td>7.0</td>\n      <td>0.02</td>\n      <td>8.0</td>\n      <td>1.0</td>\n      <td>9.84</td>\n      <td>-1.33</td>\n      <td>-11.17</td>\n      <td>1.0</td>\n      <td>1.770</td>\n      <td>25.139951</td>\n    </tr>\n    <tr>\n      <th>1</th>\n      <td>1194</td>\n      <td>150.097778</td>\n      <td>2.192021</td>\n      <td>3.1043</td>\n      <td>0.1847</td>\n      <td>0.6900</td>\n      <td>0.0524</td>\n      <td>1.6098</td>\n      <td>0.3540</td>\n      <td>23.6160</td>\n      <td>...</td>\n      <td>7.6</td>\n      <td>0.02</td>\n      <td>8.3</td>\n      <td>0.3</td>\n      <td>9.52</td>\n      <td>-0.09</td>\n      <td>-9.61</td>\n      <td>0.7</td>\n      <td>1.510</td>\n      <td>24.654070</td>\n    </tr>\n    <tr>\n      <th>2</th>\n      <td>2062</td>\n      <td>150.131638</td>\n      <td>2.200557</td>\n      <td>5.9251</td>\n      <td>0.3541</td>\n      <td>0.5559</td>\n      <td>0.0306</td>\n      <td>0.7501</td>\n      <td>0.1322</td>\n      <td>23.9613</td>\n      <td>...</td>\n      <td>8.2</td>\n      <td>0.02</td>\n      <td>8.9</td>\n      <td>0.5</td>\n      <td>10.32</td>\n      <td>0.16</td>\n      <td>-10.17</td>\n      <td>0.7</td>\n      <td>2.270</td>\n      <td>26.078290</td>\n    </tr>\n    <tr>\n      <th>3</th>\n      <td>2140</td>\n      <td>150.147583</td>\n      <td>2.201060</td>\n      <td>6.8119</td>\n      <td>0.6494</td>\n      <td>0.5842</td>\n      <td>0.0402</td>\n      <td>1.0652</td>\n      <td>0.1661</td>\n      <td>23.6125</td>\n      <td>...</td>\n      <td>8.4</td>\n      <td>0.02</td>\n      <td>8.9</td>\n      <td>0.6</td>\n      <td>10.08</td>\n      <td>0.52</td>\n      <td>-9.56</td>\n      <td>0.5</td>\n      <td>1.120</td>\n      <td>25.534734</td>\n    </tr>\n    <tr>\n      <th>4</th>\n      <td>2302</td>\n      <td>150.067230</td>\n      <td>2.204726</td>\n      <td>7.1399</td>\n      <td>0.2369</td>\n      <td>0.3767</td>\n      <td>0.0100</td>\n      <td>1.5731</td>\n      <td>0.0919</td>\n      <td>22.3135</td>\n      <td>...</td>\n      <td>7.8</td>\n      <td>0.02</td>\n      <td>8.9</td>\n      <td>1.0</td>\n      <td>10.85</td>\n      <td>-2.16</td>\n      <td>-13.00</td>\n      <td>1.1</td>\n      <td>2.010</td>\n      <td>25.210277</td>\n    </tr>\n    <tr>\n      <th>5</th>\n      <td>2331</td>\n      <td>150.138916</td>\n      <td>2.202856</td>\n      <td>4.3792</td>\n      <td>0.2601</td>\n      <td>0.3908</td>\n      <td>0.0324</td>\n      <td>1.5878</td>\n      <td>0.2620</td>\n      <td>23.6156</td>\n      <td>...</td>\n      <td>8.0</td>\n      <td>0.02</td>\n      <td>8.4</td>\n      <td>0.1</td>\n      <td>9.50</td>\n      <td>0.60</td>\n      <td>-8.90</td>\n      <td>0.4</td>\n      <td>1.280</td>\n      <td>24.342255</td>\n    </tr>\n    <tr>\n      <th>6</th>\n      <td>2544</td>\n      <td>150.152527</td>\n      <td>2.205080</td>\n      <td>2.6871</td>\n      <td>0.1491</td>\n      <td>0.5353</td>\n      <td>0.0498</td>\n      <td>1.2344</td>\n      <td>0.3154</td>\n      <td>23.7778</td>\n      <td>...</td>\n      <td>8.2</td>\n      <td>0.02</td>\n      <td>8.3</td>\n      <td>0.6</td>\n      <td>9.45</td>\n      <td>0.99</td>\n      <td>-8.46</td>\n      <td>0.1</td>\n      <td>1.450</td>\n      <td>24.508121</td>\n    </tr>\n    <tr>\n      <th>7</th>\n      <td>2633</td>\n      <td>150.123428</td>\n      <td>2.205652</td>\n      <td>6.3355</td>\n      <td>0.3940</td>\n      <td>0.3913</td>\n      <td>0.0248</td>\n      <td>0.9676</td>\n      <td>0.1550</td>\n      <td>23.7735</td>\n      <td>...</td>\n      <td>8.0</td>\n      <td>0.02</td>\n      <td>8.4</td>\n      <td>0.0</td>\n      <td>9.44</td>\n      <td>0.54</td>\n      <td>-8.90</td>\n      <td>0.4</td>\n      <td>1.920</td>\n      <td>24.616713</td>\n    </tr>\n    <tr>\n      <th>8</th>\n      <td>2712</td>\n      <td>150.138916</td>\n      <td>2.206575</td>\n      <td>2.3464</td>\n      <td>0.1619</td>\n      <td>0.6385</td>\n      <td>0.0553</td>\n      <td>1.5430</td>\n      <td>0.3921</td>\n      <td>23.7896</td>\n      <td>...</td>\n      <td>8.8</td>\n      <td>0.02</td>\n      <td>8.7</td>\n      <td>0.4</td>\n      <td>9.53</td>\n      <td>0.81</td>\n      <td>-8.72</td>\n      <td>-0.1</td>\n      <td>1.450</td>\n      <td>24.633077</td>\n    </tr>\n    <tr>\n      <th>9</th>\n      <td>2716</td>\n      <td>150.177567</td>\n      <td>2.208040</td>\n      <td>12.6162</td>\n      <td>0.3625</td>\n      <td>0.2233</td>\n      <td>0.0054</td>\n      <td>1.5551</td>\n      <td>0.0600</td>\n      <td>21.9976</td>\n      <td>...</td>\n      <td>9.8</td>\n      <td>0.02</td>\n      <td>9.1</td>\n      <td>1.0</td>\n      <td>10.81</td>\n      <td>1.85</td>\n      <td>-8.95</td>\n      <td>-0.7</td>\n      <td>1.260</td>\n      <td>23.171614</td>\n    </tr>\n    <tr>\n      <th>10</th>\n      <td>2816</td>\n      <td>150.141052</td>\n      <td>2.208472</td>\n      <td>4.1056</td>\n      <td>0.0510</td>\n      <td>0.2629</td>\n      <td>0.0067</td>\n      <td>1.6721</td>\n      <td>0.0702</td>\n      <td>21.7114</td>\n      <td>...</td>\n      <td>8.2</td>\n      <td>0.02</td>\n      <td>9.2</td>\n      <td>0.3</td>\n      <td>11.15</td>\n      <td>-1.12</td>\n      <td>-12.28</td>\n      <td>1.0</td>\n      <td>1.910</td>\n      <td>24.770081</td>\n    </tr>\n    <tr>\n      <th>11</th>\n      <td>2839</td>\n      <td>150.176773</td>\n      <td>2.207880</td>\n      <td>2.6501</td>\n      <td>1.3459</td>\n      <td>0.6285</td>\n      <td>0.0995</td>\n      <td>6.4797</td>\n      <td>4.5231</td>\n      <td>23.4546</td>\n      <td>...</td>\n      <td>8.8</td>\n      <td>0.02</td>\n      <td>9.4</td>\n      <td>0.5</td>\n      <td>10.59</td>\n      <td>0.31</td>\n      <td>-10.28</td>\n      <td>0.6</td>\n      <td>1.850</td>\n      <td>25.878616</td>\n    </tr>\n    <tr>\n      <th>12</th>\n      <td>2872</td>\n      <td>150.072418</td>\n      <td>2.208554</td>\n      <td>8.5059</td>\n      <td>0.7474</td>\n      <td>0.3183</td>\n      <td>0.0208</td>\n      <td>1.3249</td>\n      <td>0.1831</td>\n      <td>23.7134</td>\n      <td>...</td>\n      <td>9.0</td>\n      <td>0.02</td>\n      <td>9.1</td>\n      <td>1.1</td>\n      <td>10.35</td>\n      <td>1.15</td>\n      <td>-9.20</td>\n      <td>0.1</td>\n      <td>1.890</td>\n      <td>25.276804</td>\n    </tr>\n    <tr>\n      <th>13</th>\n      <td>3010</td>\n      <td>150.143555</td>\n      <td>2.210891</td>\n      <td>4.6755</td>\n      <td>0.1385</td>\n      <td>0.8113</td>\n      <td>0.0234</td>\n      <td>0.5888</td>\n      <td>0.0663</td>\n      <td>23.1800</td>\n      <td>...</td>\n      <td>8.0</td>\n      <td>0.02</td>\n      <td>8.4</td>\n      <td>0.9</td>\n      <td>9.98</td>\n      <td>1.08</td>\n      <td>-8.90</td>\n      <td>0.4</td>\n      <td>2.040</td>\n      <td>24.481843</td>\n    </tr>\n    <tr>\n      <th>14</th>\n      <td>3031</td>\n      <td>150.152496</td>\n      <td>2.209679</td>\n      <td>5.4895</td>\n      <td>0.1398</td>\n      <td>0.3411</td>\n      <td>0.0134</td>\n      <td>0.2428</td>\n      <td>0.0576</td>\n      <td>23.5480</td>\n      <td>...</td>\n      <td>8.2</td>\n      <td>0.02</td>\n      <td>9.0</td>\n      <td>0.7</td>\n      <td>10.25</td>\n      <td>-0.47</td>\n      <td>-10.72</td>\n      <td>0.8</td>\n      <td>2.100</td>\n      <td>25.804311</td>\n    </tr>\n    <tr>\n      <th>15</th>\n      <td>3045</td>\n      <td>150.183105</td>\n      <td>2.210204</td>\n      <td>5.7809</td>\n      <td>0.2075</td>\n      <td>0.4465</td>\n      <td>0.0167</td>\n      <td>0.6303</td>\n      <td>0.0970</td>\n      <td>23.4861</td>\n      <td>...</td>\n      <td>7.4</td>\n      <td>0.02</td>\n      <td>8.1</td>\n      <td>0.3</td>\n      <td>9.67</td>\n      <td>0.24</td>\n      <td>-9.43</td>\n      <td>0.7</td>\n      <td>1.460</td>\n      <td>24.400995</td>\n    </tr>\n    <tr>\n      <th>16</th>\n      <td>3089</td>\n      <td>150.063721</td>\n      <td>2.211201</td>\n      <td>8.2657</td>\n      <td>0.2102</td>\n      <td>0.4489</td>\n      <td>0.0105</td>\n      <td>0.7743</td>\n      <td>0.0569</td>\n      <td>22.1846</td>\n      <td>...</td>\n      <td>7.2</td>\n      <td>0.02</td>\n      <td>8.1</td>\n      <td>2.2</td>\n      <td>10.87</td>\n      <td>0.39</td>\n      <td>-10.49</td>\n      <td>0.9</td>\n      <td>5.430</td>\n      <td>24.777123</td>\n    </tr>\n    <tr>\n      <th>17</th>\n      <td>3093</td>\n      <td>150.120087</td>\n      <td>2.210007</td>\n      <td>3.4971</td>\n      <td>0.1686</td>\n      <td>0.4435</td>\n      <td>0.0377</td>\n      <td>1.0416</td>\n      <td>0.2208</td>\n      <td>23.7768</td>\n      <td>...</td>\n      <td>8.4</td>\n      <td>0.02</td>\n      <td>8.7</td>\n      <td>0.7</td>\n      <td>9.77</td>\n      <td>0.74</td>\n      <td>-9.03</td>\n      <td>0.3</td>\n      <td>1.630</td>\n      <td>25.067900</td>\n    </tr>\n    <tr>\n      <th>18</th>\n      <td>3179</td>\n      <td>150.168076</td>\n      <td>2.211296</td>\n      <td>3.9140</td>\n      <td>0.1406</td>\n      <td>0.9212</td>\n      <td>0.0313</td>\n      <td>0.7809</td>\n      <td>0.0933</td>\n      <td>23.4565</td>\n      <td>...</td>\n      <td>8.0</td>\n      <td>0.02</td>\n      <td>8.5</td>\n      <td>0.4</td>\n      <td>9.94</td>\n      <td>0.75</td>\n      <td>-9.19</td>\n      <td>0.5</td>\n      <td>2.540</td>\n      <td>24.511564</td>\n    </tr>\n    <tr>\n      <th>19</th>\n      <td>3245</td>\n      <td>150.156479</td>\n      <td>2.211936</td>\n      <td>3.5947</td>\n      <td>0.1725</td>\n      <td>0.4652</td>\n      <td>0.0363</td>\n      <td>1.2378</td>\n      <td>0.2377</td>\n      <td>24.1429</td>\n      <td>...</td>\n      <td>7.2</td>\n      <td>0.02</td>\n      <td>8.2</td>\n      <td>0.1</td>\n      <td>9.29</td>\n      <td>-2.07</td>\n      <td>-11.36</td>\n      <td>1.0</td>\n      <td>1.820</td>\n      <td>24.970113</td>\n    </tr>\n    <tr>\n      <th>20</th>\n      <td>3277</td>\n      <td>150.069626</td>\n      <td>2.212656</td>\n      <td>8.5091</td>\n      <td>0.1838</td>\n      <td>0.2762</td>\n      <td>0.0125</td>\n      <td>0.0713</td>\n      <td>0.0561</td>\n      <td>23.5230</td>\n      <td>...</td>\n      <td>7.8</td>\n      <td>0.02</td>\n      <td>8.2</td>\n      <td>1.0</td>\n      <td>9.73</td>\n      <td>1.02</td>\n      <td>-8.71</td>\n      <td>0.4</td>\n      <td>2.900</td>\n      <td>24.499320</td>\n    </tr>\n    <tr>\n      <th>21</th>\n      <td>3285</td>\n      <td>150.109985</td>\n      <td>2.212173</td>\n      <td>1.7294</td>\n      <td>0.1924</td>\n      <td>0.3991</td>\n      <td>0.0602</td>\n      <td>4.8540</td>\n      <td>1.6818</td>\n      <td>23.4281</td>\n      <td>...</td>\n      <td>7.8</td>\n      <td>0.02</td>\n      <td>8.8</td>\n      <td>1.0</td>\n      <td>10.38</td>\n      <td>-1.53</td>\n      <td>-11.91</td>\n      <td>1.0</td>\n      <td>1.410</td>\n      <td>26.261607</td>\n    </tr>\n    <tr>\n      <th>22</th>\n      <td>3287</td>\n      <td>150.113876</td>\n      <td>2.212377</td>\n      <td>4.3080</td>\n      <td>0.1462</td>\n      <td>0.4111</td>\n      <td>0.0215</td>\n      <td>0.8088</td>\n      <td>0.1141</td>\n      <td>23.4111</td>\n      <td>...</td>\n      <td>8.0</td>\n      <td>0.02</td>\n      <td>8.3</td>\n      <td>0.5</td>\n      <td>9.57</td>\n      <td>0.92</td>\n      <td>-8.66</td>\n      <td>0.3</td>\n      <td>1.210</td>\n      <td>24.342168</td>\n    </tr>\n    <tr>\n      <th>23</th>\n      <td>3338</td>\n      <td>150.100800</td>\n      <td>2.213352</td>\n      <td>7.1135</td>\n      <td>0.4965</td>\n      <td>0.2261</td>\n      <td>0.0173</td>\n      <td>1.4456</td>\n      <td>0.1920</td>\n      <td>23.6848</td>\n      <td>...</td>\n      <td>8.6</td>\n      <td>0.02</td>\n      <td>8.6</td>\n      <td>0.0</td>\n      <td>9.40</td>\n      <td>0.72</td>\n      <td>-8.68</td>\n      <td>0.0</td>\n      <td>1.780</td>\n      <td>24.112176</td>\n    </tr>\n    <tr>\n      <th>24</th>\n      <td>3350</td>\n      <td>150.156952</td>\n      <td>2.212882</td>\n      <td>4.7751</td>\n      <td>0.1371</td>\n      <td>0.2795</td>\n      <td>0.0151</td>\n      <td>0.7796</td>\n      <td>0.1005</td>\n      <td>23.6894</td>\n      <td>...</td>\n      <td>7.8</td>\n      <td>0.02</td>\n      <td>8.2</td>\n      <td>0.3</td>\n      <td>9.47</td>\n      <td>0.75</td>\n      <td>-8.71</td>\n      <td>0.4</td>\n      <td>1.300</td>\n      <td>24.326847</td>\n    </tr>\n    <tr>\n      <th>25</th>\n      <td>3364</td>\n      <td>150.121811</td>\n      <td>2.213224</td>\n      <td>-99.0000</td>\n      <td>-99.0000</td>\n      <td>-99.0000</td>\n      <td>-99.0000</td>\n      <td>-99.0000</td>\n      <td>-99.0000</td>\n      <td>-99.0000</td>\n      <td>...</td>\n      <td>7.0</td>\n      <td>0.02</td>\n      <td>8.6</td>\n      <td>1.6</td>\n      <td>10.71</td>\n      <td>-12.60</td>\n      <td>-23.31</td>\n      <td>1.6</td>\n      <td>1.720</td>\n      <td>26.429275</td>\n    </tr>\n    <tr>\n      <th>26</th>\n      <td>3474</td>\n      <td>150.110855</td>\n      <td>2.213924</td>\n      <td>4.3202</td>\n      <td>0.1527</td>\n      <td>0.7536</td>\n      <td>0.0276</td>\n      <td>0.4070</td>\n      <td>0.0798</td>\n      <td>23.6194</td>\n      <td>...</td>\n      <td>8.6</td>\n      <td>0.02</td>\n      <td>8.5</td>\n      <td>0.3</td>\n      <td>9.44</td>\n      <td>0.90</td>\n      <td>-8.53</td>\n      <td>-0.1</td>\n      <td>1.390</td>\n      <td>24.233926</td>\n    </tr>\n    <tr>\n      <th>27</th>\n      <td>3520</td>\n      <td>150.146622</td>\n      <td>2.213961</td>\n      <td>1.6552</td>\n      <td>0.1538</td>\n      <td>0.6041</td>\n      <td>0.0744</td>\n      <td>3.2214</td>\n      <td>1.2785</td>\n      <td>23.8959</td>\n      <td>...</td>\n      <td>10.0</td>\n      <td>0.02</td>\n      <td>9.0</td>\n      <td>0.8</td>\n      <td>9.76</td>\n      <td>0.92</td>\n      <td>-8.84</td>\n      <td>-1.0</td>\n      <td>1.860</td>\n      <td>25.071380</td>\n    </tr>\n    <tr>\n      <th>28</th>\n      <td>3527</td>\n      <td>150.178375</td>\n      <td>2.214323</td>\n      <td>5.3860</td>\n      <td>0.2156</td>\n      <td>0.6158</td>\n      <td>0.0247</td>\n      <td>0.4804</td>\n      <td>0.0871</td>\n      <td>23.7837</td>\n      <td>...</td>\n      <td>8.0</td>\n      <td>0.02</td>\n      <td>8.4</td>\n      <td>0.1</td>\n      <td>9.27</td>\n      <td>0.37</td>\n      <td>-8.90</td>\n      <td>0.4</td>\n      <td>1.540</td>\n      <td>24.656297</td>\n    </tr>\n    <tr>\n      <th>29</th>\n      <td>3566</td>\n      <td>150.102417</td>\n      <td>2.214873</td>\n      <td>4.9265</td>\n      <td>0.6800</td>\n      <td>0.8639</td>\n      <td>0.0309</td>\n      <td>3.9126</td>\n      <td>0.5579</td>\n      <td>22.2753</td>\n      <td>...</td>\n      <td>8.2</td>\n      <td>0.02</td>\n      <td>8.9</td>\n      <td>1.0</td>\n      <td>10.75</td>\n      <td>0.58</td>\n      <td>-10.17</td>\n      <td>0.7</td>\n      <td>1.500</td>\n      <td>24.989630</td>\n    </tr>\n    <tr>\n      <th>...</th>\n      <td>...</td>\n      <td>...</td>\n      <td>...</td>\n      <td>...</td>\n      <td>...</td>\n      <td>...</td>\n      <td>...</td>\n      <td>...</td>\n      <td>...</td>\n      <td>...</td>\n      <td>...</td>\n      <td>...</td>\n      <td>...</td>\n      <td>...</td>\n      <td>...</td>\n      <td>...</td>\n      <td>...</td>\n      <td>...</td>\n      <td>...</td>\n      <td>...</td>\n      <td>...</td>\n    </tr>\n    <tr>\n      <th>403</th>\n      <td>24020</td>\n      <td>150.115173</td>\n      <td>2.425531</td>\n      <td>2.8239</td>\n      <td>0.1668</td>\n      <td>0.3636</td>\n      <td>0.0437</td>\n      <td>1.3504</td>\n      <td>0.3224</td>\n      <td>23.7471</td>\n      <td>...</td>\n      <td>8.4</td>\n      <td>0.02</td>\n      <td>8.7</td>\n      <td>0.5</td>\n      <td>9.85</td>\n      <td>0.82</td>\n      <td>-9.03</td>\n      <td>0.3</td>\n      <td>1.310</td>\n      <td>24.866629</td>\n    </tr>\n    <tr>\n      <th>404</th>\n      <td>24301</td>\n      <td>150.060410</td>\n      <td>2.430155</td>\n      <td>9.7565</td>\n      <td>0.2689</td>\n      <td>0.2517</td>\n      <td>0.0111</td>\n      <td>0.3712</td>\n      <td>0.0596</td>\n      <td>23.3691</td>\n      <td>...</td>\n      <td>8.4</td>\n      <td>0.02</td>\n      <td>8.7</td>\n      <td>0.6</td>\n      <td>10.11</td>\n      <td>1.08</td>\n      <td>-9.03</td>\n      <td>0.3</td>\n      <td>1.770</td>\n      <td>24.552488</td>\n    </tr>\n    <tr>\n      <th>405</th>\n      <td>24421</td>\n      <td>150.064194</td>\n      <td>2.430496</td>\n      <td>4.7747</td>\n      <td>0.1182</td>\n      <td>0.2889</td>\n      <td>0.0143</td>\n      <td>0.7829</td>\n      <td>0.0846</td>\n      <td>23.0412</td>\n      <td>...</td>\n      <td>7.8</td>\n      <td>0.02</td>\n      <td>8.3</td>\n      <td>0.1</td>\n      <td>9.76</td>\n      <td>0.76</td>\n      <td>-9.00</td>\n      <td>0.5</td>\n      <td>1.910</td>\n      <td>23.664337</td>\n    </tr>\n    <tr>\n      <th>406</th>\n      <td>24568</td>\n      <td>150.083450</td>\n      <td>2.432302</td>\n      <td>2.9584</td>\n      <td>0.1152</td>\n      <td>0.5975</td>\n      <td>0.0311</td>\n      <td>0.9649</td>\n      <td>0.1601</td>\n      <td>23.2998</td>\n      <td>...</td>\n      <td>7.0</td>\n      <td>0.02</td>\n      <td>7.9</td>\n      <td>0.5</td>\n      <td>9.61</td>\n      <td>-0.69</td>\n      <td>-10.30</td>\n      <td>0.9</td>\n      <td>1.690</td>\n      <td>24.239327</td>\n    </tr>\n    <tr>\n      <th>407</th>\n      <td>24701</td>\n      <td>150.139008</td>\n      <td>2.433749</td>\n      <td>8.6993</td>\n      <td>0.0158</td>\n      <td>0.6264</td>\n      <td>0.0000</td>\n      <td>1.4534</td>\n      <td>0.0034</td>\n      <td>23.8483</td>\n      <td>...</td>\n      <td>9.8</td>\n      <td>0.02</td>\n      <td>9.4</td>\n      <td>2.3</td>\n      <td>11.13</td>\n      <td>1.86</td>\n      <td>-9.27</td>\n      <td>-0.4</td>\n      <td>1.340</td>\n      <td>26.544937</td>\n    </tr>\n    <tr>\n      <th>408</th>\n      <td>24776</td>\n      <td>150.058945</td>\n      <td>2.434460</td>\n      <td>2.9413</td>\n      <td>0.1746</td>\n      <td>0.5105</td>\n      <td>0.0433</td>\n      <td>1.9827</td>\n      <td>0.4081</td>\n      <td>23.4980</td>\n      <td>...</td>\n      <td>8.2</td>\n      <td>0.02</td>\n      <td>8.6</td>\n      <td>0.0</td>\n      <td>9.52</td>\n      <td>0.44</td>\n      <td>-9.09</td>\n      <td>0.4</td>\n      <td>1.870</td>\n      <td>24.222237</td>\n    </tr>\n    <tr>\n      <th>409</th>\n      <td>24880</td>\n      <td>150.079468</td>\n      <td>2.435632</td>\n      <td>4.4398</td>\n      <td>0.1569</td>\n      <td>0.5495</td>\n      <td>0.0231</td>\n      <td>0.8633</td>\n      <td>0.1024</td>\n      <td>23.2670</td>\n      <td>...</td>\n      <td>7.8</td>\n      <td>0.02</td>\n      <td>8.4</td>\n      <td>0.9</td>\n      <td>10.15</td>\n      <td>0.79</td>\n      <td>-9.36</td>\n      <td>0.6</td>\n      <td>2.770</td>\n      <td>24.866271</td>\n    </tr>\n    <tr>\n      <th>410</th>\n      <td>25007</td>\n      <td>150.112595</td>\n      <td>2.437374</td>\n      <td>2.3550</td>\n      <td>0.5035</td>\n      <td>0.7602</td>\n      <td>0.0346</td>\n      <td>8.5341</td>\n      <td>2.2919</td>\n      <td>22.1832</td>\n      <td>...</td>\n      <td>7.6</td>\n      <td>0.02</td>\n      <td>8.7</td>\n      <td>0.6</td>\n      <td>10.45</td>\n      <td>-2.37</td>\n      <td>-12.82</td>\n      <td>1.1</td>\n      <td>1.570</td>\n      <td>24.718483</td>\n    </tr>\n    <tr>\n      <th>411</th>\n      <td>25029</td>\n      <td>150.116257</td>\n      <td>2.437462</td>\n      <td>5.3676</td>\n      <td>0.1846</td>\n      <td>0.2898</td>\n      <td>0.0176</td>\n      <td>0.3287</td>\n      <td>0.0862</td>\n      <td>23.8101</td>\n      <td>...</td>\n      <td>8.6</td>\n      <td>0.02</td>\n      <td>8.8</td>\n      <td>0.4</td>\n      <td>9.68</td>\n      <td>0.66</td>\n      <td>-9.01</td>\n      <td>0.2</td>\n      <td>1.940</td>\n      <td>24.839938</td>\n    </tr>\n    <tr>\n      <th>412</th>\n      <td>25229</td>\n      <td>150.108414</td>\n      <td>2.439715</td>\n      <td>2.6297</td>\n      <td>0.0748</td>\n      <td>0.6438</td>\n      <td>0.0240</td>\n      <td>0.9625</td>\n      <td>0.1214</td>\n      <td>22.8849</td>\n      <td>...</td>\n      <td>7.8</td>\n      <td>0.02</td>\n      <td>8.3</td>\n      <td>0.2</td>\n      <td>9.91</td>\n      <td>0.90</td>\n      <td>-9.00</td>\n      <td>0.5</td>\n      <td>1.440</td>\n      <td>23.646925</td>\n    </tr>\n    <tr>\n      <th>413</th>\n      <td>25299</td>\n      <td>150.086670</td>\n      <td>2.440579</td>\n      <td>3.8902</td>\n      <td>0.1393</td>\n      <td>0.4143</td>\n      <td>0.0255</td>\n      <td>0.1999</td>\n      <td>0.0773</td>\n      <td>23.7773</td>\n      <td>...</td>\n      <td>7.0</td>\n      <td>0.02</td>\n      <td>7.9</td>\n      <td>0.2</td>\n      <td>9.31</td>\n      <td>-1.00</td>\n      <td>-10.30</td>\n      <td>0.9</td>\n      <td>1.130</td>\n      <td>24.475889</td>\n    </tr>\n    <tr>\n      <th>414</th>\n      <td>25312</td>\n      <td>150.108871</td>\n      <td>2.440676</td>\n      <td>3.3141</td>\n      <td>0.1323</td>\n      <td>0.8039</td>\n      <td>0.0339</td>\n      <td>0.7250</td>\n      <td>0.1195</td>\n      <td>23.5283</td>\n      <td>...</td>\n      <td>7.8</td>\n      <td>0.02</td>\n      <td>8.2</td>\n      <td>0.6</td>\n      <td>9.52</td>\n      <td>0.80</td>\n      <td>-8.71</td>\n      <td>0.4</td>\n      <td>1.840</td>\n      <td>24.412388</td>\n    </tr>\n    <tr>\n      <th>415</th>\n      <td>25403</td>\n      <td>150.149841</td>\n      <td>2.442078</td>\n      <td>3.7300</td>\n      <td>0.1457</td>\n      <td>0.7529</td>\n      <td>0.0319</td>\n      <td>0.9447</td>\n      <td>0.1092</td>\n      <td>23.2233</td>\n      <td>...</td>\n      <td>9.4</td>\n      <td>0.02</td>\n      <td>8.7</td>\n      <td>0.1</td>\n      <td>9.69</td>\n      <td>1.10</td>\n      <td>-8.58</td>\n      <td>-0.7</td>\n      <td>0.961</td>\n      <td>23.605363</td>\n    </tr>\n    <tr>\n      <th>416</th>\n      <td>25553</td>\n      <td>150.138809</td>\n      <td>2.443604</td>\n      <td>79.6164</td>\n      <td>200.1312</td>\n      <td>0.3031</td>\n      <td>0.0278</td>\n      <td>15.3985</td>\n      <td>10.4457</td>\n      <td>21.9841</td>\n      <td>...</td>\n      <td>8.0</td>\n      <td>0.02</td>\n      <td>8.5</td>\n      <td>1.2</td>\n      <td>10.17</td>\n      <td>0.99</td>\n      <td>-9.19</td>\n      <td>0.5</td>\n      <td>1.820</td>\n      <td>24.852801</td>\n    </tr>\n    <tr>\n      <th>417</th>\n      <td>25561</td>\n      <td>150.157303</td>\n      <td>2.443372</td>\n      <td>10.3865</td>\n      <td>33.0519</td>\n      <td>0.6939</td>\n      <td>0.0972</td>\n      <td>11.6711</td>\n      <td>16.3611</td>\n      <td>23.1976</td>\n      <td>...</td>\n      <td>8.2</td>\n      <td>0.02</td>\n      <td>8.5</td>\n      <td>1.6</td>\n      <td>10.06</td>\n      <td>1.22</td>\n      <td>-8.84</td>\n      <td>0.3</td>\n      <td>3.200</td>\n      <td>25.448467</td>\n    </tr>\n    <tr>\n      <th>418</th>\n      <td>25616</td>\n      <td>150.108017</td>\n      <td>2.444312</td>\n      <td>4.0353</td>\n      <td>0.1678</td>\n      <td>0.8451</td>\n      <td>0.0343</td>\n      <td>0.8071</td>\n      <td>0.1074</td>\n      <td>23.4169</td>\n      <td>...</td>\n      <td>8.0</td>\n      <td>0.02</td>\n      <td>8.4</td>\n      <td>0.6</td>\n      <td>9.87</td>\n      <td>0.98</td>\n      <td>-8.90</td>\n      <td>0.4</td>\n      <td>1.170</td>\n      <td>24.320926</td>\n    </tr>\n    <tr>\n      <th>419</th>\n      <td>25624</td>\n      <td>150.138718</td>\n      <td>2.444027</td>\n      <td>0.0202</td>\n      <td>0.3685</td>\n      <td>0.6471</td>\n      <td>0.8654</td>\n      <td>19.9999</td>\n      <td>137.3670</td>\n      <td>23.9452</td>\n      <td>...</td>\n      <td>7.4</td>\n      <td>0.02</td>\n      <td>9.5</td>\n      <td>0.5</td>\n      <td>10.75</td>\n      <td>-99.00</td>\n      <td>-99.00</td>\n      <td>2.1</td>\n      <td>1.620</td>\n      <td>27.799512</td>\n    </tr>\n    <tr>\n      <th>420</th>\n      <td>26039</td>\n      <td>150.079651</td>\n      <td>2.449553</td>\n      <td>2.5685</td>\n      <td>0.1202</td>\n      <td>0.7714</td>\n      <td>0.0301</td>\n      <td>3.4304</td>\n      <td>0.4426</td>\n      <td>22.4266</td>\n      <td>...</td>\n      <td>8.2</td>\n      <td>0.02</td>\n      <td>9.1</td>\n      <td>0.5</td>\n      <td>11.06</td>\n      <td>-0.35</td>\n      <td>-11.41</td>\n      <td>0.9</td>\n      <td>1.370</td>\n      <td>25.666245</td>\n    </tr>\n    <tr>\n      <th>421</th>\n      <td>26074</td>\n      <td>150.100922</td>\n      <td>2.449607</td>\n      <td>1.9232</td>\n      <td>0.0477</td>\n      <td>0.3221</td>\n      <td>0.0218</td>\n      <td>2.0361</td>\n      <td>0.1837</td>\n      <td>22.2678</td>\n      <td>...</td>\n      <td>8.0</td>\n      <td>0.02</td>\n      <td>9.0</td>\n      <td>0.4</td>\n      <td>10.71</td>\n      <td>-1.39</td>\n      <td>-12.10</td>\n      <td>1.0</td>\n      <td>1.430</td>\n      <td>25.001499</td>\n    </tr>\n    <tr>\n      <th>422</th>\n      <td>26328</td>\n      <td>150.135086</td>\n      <td>2.452882</td>\n      <td>5.2855</td>\n      <td>0.1794</td>\n      <td>0.5203</td>\n      <td>0.0189</td>\n      <td>0.3700</td>\n      <td>0.0778</td>\n      <td>23.6174</td>\n      <td>...</td>\n      <td>7.6</td>\n      <td>0.02</td>\n      <td>8.1</td>\n      <td>0.1</td>\n      <td>9.23</td>\n      <td>0.41</td>\n      <td>-8.82</td>\n      <td>0.5</td>\n      <td>2.080</td>\n      <td>24.282843</td>\n    </tr>\n    <tr>\n      <th>423</th>\n      <td>26363</td>\n      <td>150.106186</td>\n      <td>2.452939</td>\n      <td>4.7472</td>\n      <td>1.3062</td>\n      <td>0.4088</td>\n      <td>0.0248</td>\n      <td>8.5333</td>\n      <td>2.1831</td>\n      <td>22.3453</td>\n      <td>...</td>\n      <td>8.4</td>\n      <td>0.02</td>\n      <td>9.3</td>\n      <td>0.6</td>\n      <td>10.87</td>\n      <td>-0.74</td>\n      <td>-11.61</td>\n      <td>0.9</td>\n      <td>1.530</td>\n      <td>25.525951</td>\n    </tr>\n    <tr>\n      <th>424</th>\n      <td>26651</td>\n      <td>150.125122</td>\n      <td>2.455784</td>\n      <td>0.0107</td>\n      <td>0.1814</td>\n      <td>0.9662</td>\n      <td>0.7232</td>\n      <td>19.9978</td>\n      <td>109.6855</td>\n      <td>23.2128</td>\n      <td>...</td>\n      <td>7.4</td>\n      <td>0.02</td>\n      <td>8.1</td>\n      <td>1.2</td>\n      <td>10.12</td>\n      <td>0.69</td>\n      <td>-9.43</td>\n      <td>0.7</td>\n      <td>3.730</td>\n      <td>25.085892</td>\n    </tr>\n    <tr>\n      <th>425</th>\n      <td>26923</td>\n      <td>150.131989</td>\n      <td>2.459291</td>\n      <td>1.7640</td>\n      <td>1.3648</td>\n      <td>0.6593</td>\n      <td>0.0647</td>\n      <td>16.4924</td>\n      <td>15.9554</td>\n      <td>22.5649</td>\n      <td>...</td>\n      <td>8.6</td>\n      <td>0.02</td>\n      <td>8.6</td>\n      <td>0.3</td>\n      <td>9.68</td>\n      <td>1.00</td>\n      <td>-8.68</td>\n      <td>0.0</td>\n      <td>1.700</td>\n      <td>23.803235</td>\n    </tr>\n    <tr>\n      <th>426</th>\n      <td>27246</td>\n      <td>150.151794</td>\n      <td>2.463181</td>\n      <td>4.7752</td>\n      <td>0.1705</td>\n      <td>0.3698</td>\n      <td>0.0223</td>\n      <td>0.2154</td>\n      <td>0.0783</td>\n      <td>23.7796</td>\n      <td>...</td>\n      <td>7.6</td>\n      <td>0.02</td>\n      <td>8.2</td>\n      <td>0.0</td>\n      <td>9.38</td>\n      <td>0.21</td>\n      <td>-9.17</td>\n      <td>0.6</td>\n      <td>1.130</td>\n      <td>24.442999</td>\n    </tr>\n    <tr>\n      <th>427</th>\n      <td>27770</td>\n      <td>150.110596</td>\n      <td>2.470558</td>\n      <td>5.7212</td>\n      <td>0.2663</td>\n      <td>0.6658</td>\n      <td>0.0307</td>\n      <td>0.4261</td>\n      <td>0.0958</td>\n      <td>23.7935</td>\n      <td>...</td>\n      <td>9.0</td>\n      <td>0.02</td>\n      <td>8.8</td>\n      <td>0.6</td>\n      <td>9.77</td>\n      <td>0.99</td>\n      <td>-8.77</td>\n      <td>-0.2</td>\n      <td>2.260</td>\n      <td>24.632944</td>\n    </tr>\n    <tr>\n      <th>428</th>\n      <td>28126</td>\n      <td>150.128952</td>\n      <td>2.474977</td>\n      <td>0.0143</td>\n      <td>0.2217</td>\n      <td>0.9396</td>\n      <td>0.7213</td>\n      <td>19.9737</td>\n      <td>108.8564</td>\n      <td>23.4456</td>\n      <td>...</td>\n      <td>9.2</td>\n      <td>0.02</td>\n      <td>9.4</td>\n      <td>0.4</td>\n      <td>10.34</td>\n      <td>0.78</td>\n      <td>-9.56</td>\n      <td>0.2</td>\n      <td>2.540</td>\n      <td>NaN</td>\n    </tr>\n    <tr>\n      <th>429</th>\n      <td>28212</td>\n      <td>150.142197</td>\n      <td>2.476512</td>\n      <td>2.4938</td>\n      <td>0.5789</td>\n      <td>0.3495</td>\n      <td>0.0673</td>\n      <td>5.8148</td>\n      <td>3.0497</td>\n      <td>23.7737</td>\n      <td>...</td>\n      <td>9.0</td>\n      <td>0.02</td>\n      <td>8.4</td>\n      <td>0.0</td>\n      <td>9.06</td>\n      <td>0.74</td>\n      <td>-8.32</td>\n      <td>-0.6</td>\n      <td>1.850</td>\n      <td>NaN</td>\n    </tr>\n    <tr>\n      <th>430</th>\n      <td>28534</td>\n      <td>150.139313</td>\n      <td>2.480762</td>\n      <td>6.4746</td>\n      <td>1.6709</td>\n      <td>0.7106</td>\n      <td>0.0515</td>\n      <td>3.4331</td>\n      <td>0.8652</td>\n      <td>23.1032</td>\n      <td>...</td>\n      <td>8.6</td>\n      <td>0.02</td>\n      <td>9.4</td>\n      <td>0.8</td>\n      <td>10.73</td>\n      <td>-0.37</td>\n      <td>-11.09</td>\n      <td>0.8</td>\n      <td>2.160</td>\n      <td>NaN</td>\n    </tr>\n    <tr>\n      <th>431</th>\n      <td>28690</td>\n      <td>150.139465</td>\n      <td>2.482525</td>\n      <td>1.9455</td>\n      <td>0.1078</td>\n      <td>0.2907</td>\n      <td>0.0378</td>\n      <td>2.6053</td>\n      <td>0.4679</td>\n      <td>22.9825</td>\n      <td>...</td>\n      <td>8.4</td>\n      <td>0.02</td>\n      <td>9.4</td>\n      <td>0.1</td>\n      <td>10.91</td>\n      <td>-1.58</td>\n      <td>-12.49</td>\n      <td>1.0</td>\n      <td>1.860</td>\n      <td>NaN</td>\n    </tr>\n    <tr>\n      <th>432</th>\n      <td>29047</td>\n      <td>150.153992</td>\n      <td>2.487676</td>\n      <td>0.0176</td>\n      <td>0.3402</td>\n      <td>0.7609</td>\n      <td>0.4813</td>\n      <td>19.9505</td>\n      <td>114.9971</td>\n      <td>21.1843</td>\n      <td>...</td>\n      <td>7.0</td>\n      <td>0.02</td>\n      <td>7.9</td>\n      <td>0.6</td>\n      <td>10.29</td>\n      <td>-0.01</td>\n      <td>-10.30</td>\n      <td>0.9</td>\n      <td>1.770</td>\n      <td>NaN</td>\n    </tr>\n  </tbody>\n</table>\n<p>433 rows × 185 columns</p>\n</div>",
      "text/plain": [
       "        ID          ra       dec       re    re_err       ar   ar_err  \\\n",
       "0      691  150.104736  2.187411   3.3884    0.2475   0.3654   0.0517   \n",
       "1     1194  150.097778  2.192021   3.1043    0.1847   0.6900   0.0524   \n",
       "2     2062  150.131638  2.200557   5.9251    0.3541   0.5559   0.0306   \n",
       "3     2140  150.147583  2.201060   6.8119    0.6494   0.5842   0.0402   \n",
       "4     2302  150.067230  2.204726   7.1399    0.2369   0.3767   0.0100   \n",
       "5     2331  150.138916  2.202856   4.3792    0.2601   0.3908   0.0324   \n",
       "6     2544  150.152527  2.205080   2.6871    0.1491   0.5353   0.0498   \n",
       "7     2633  150.123428  2.205652   6.3355    0.3940   0.3913   0.0248   \n",
       "8     2712  150.138916  2.206575   2.3464    0.1619   0.6385   0.0553   \n",
       "9     2716  150.177567  2.208040  12.6162    0.3625   0.2233   0.0054   \n",
       "10    2816  150.141052  2.208472   4.1056    0.0510   0.2629   0.0067   \n",
       "11    2839  150.176773  2.207880   2.6501    1.3459   0.6285   0.0995   \n",
       "12    2872  150.072418  2.208554   8.5059    0.7474   0.3183   0.0208   \n",
       "13    3010  150.143555  2.210891   4.6755    0.1385   0.8113   0.0234   \n",
       "14    3031  150.152496  2.209679   5.4895    0.1398   0.3411   0.0134   \n",
       "15    3045  150.183105  2.210204   5.7809    0.2075   0.4465   0.0167   \n",
       "16    3089  150.063721  2.211201   8.2657    0.2102   0.4489   0.0105   \n",
       "17    3093  150.120087  2.210007   3.4971    0.1686   0.4435   0.0377   \n",
       "18    3179  150.168076  2.211296   3.9140    0.1406   0.9212   0.0313   \n",
       "19    3245  150.156479  2.211936   3.5947    0.1725   0.4652   0.0363   \n",
       "20    3277  150.069626  2.212656   8.5091    0.1838   0.2762   0.0125   \n",
       "21    3285  150.109985  2.212173   1.7294    0.1924   0.3991   0.0602   \n",
       "22    3287  150.113876  2.212377   4.3080    0.1462   0.4111   0.0215   \n",
       "23    3338  150.100800  2.213352   7.1135    0.4965   0.2261   0.0173   \n",
       "24    3350  150.156952  2.212882   4.7751    0.1371   0.2795   0.0151   \n",
       "25    3364  150.121811  2.213224 -99.0000  -99.0000 -99.0000 -99.0000   \n",
       "26    3474  150.110855  2.213924   4.3202    0.1527   0.7536   0.0276   \n",
       "27    3520  150.146622  2.213961   1.6552    0.1538   0.6041   0.0744   \n",
       "28    3527  150.178375  2.214323   5.3860    0.2156   0.6158   0.0247   \n",
       "29    3566  150.102417  2.214873   4.9265    0.6800   0.8639   0.0309   \n",
       "..     ...         ...       ...      ...       ...      ...      ...   \n",
       "403  24020  150.115173  2.425531   2.8239    0.1668   0.3636   0.0437   \n",
       "404  24301  150.060410  2.430155   9.7565    0.2689   0.2517   0.0111   \n",
       "405  24421  150.064194  2.430496   4.7747    0.1182   0.2889   0.0143   \n",
       "406  24568  150.083450  2.432302   2.9584    0.1152   0.5975   0.0311   \n",
       "407  24701  150.139008  2.433749   8.6993    0.0158   0.6264   0.0000   \n",
       "408  24776  150.058945  2.434460   2.9413    0.1746   0.5105   0.0433   \n",
       "409  24880  150.079468  2.435632   4.4398    0.1569   0.5495   0.0231   \n",
       "410  25007  150.112595  2.437374   2.3550    0.5035   0.7602   0.0346   \n",
       "411  25029  150.116257  2.437462   5.3676    0.1846   0.2898   0.0176   \n",
       "412  25229  150.108414  2.439715   2.6297    0.0748   0.6438   0.0240   \n",
       "413  25299  150.086670  2.440579   3.8902    0.1393   0.4143   0.0255   \n",
       "414  25312  150.108871  2.440676   3.3141    0.1323   0.8039   0.0339   \n",
       "415  25403  150.149841  2.442078   3.7300    0.1457   0.7529   0.0319   \n",
       "416  25553  150.138809  2.443604  79.6164  200.1312   0.3031   0.0278   \n",
       "417  25561  150.157303  2.443372  10.3865   33.0519   0.6939   0.0972   \n",
       "418  25616  150.108017  2.444312   4.0353    0.1678   0.8451   0.0343   \n",
       "419  25624  150.138718  2.444027   0.0202    0.3685   0.6471   0.8654   \n",
       "420  26039  150.079651  2.449553   2.5685    0.1202   0.7714   0.0301   \n",
       "421  26074  150.100922  2.449607   1.9232    0.0477   0.3221   0.0218   \n",
       "422  26328  150.135086  2.452882   5.2855    0.1794   0.5203   0.0189   \n",
       "423  26363  150.106186  2.452939   4.7472    1.3062   0.4088   0.0248   \n",
       "424  26651  150.125122  2.455784   0.0107    0.1814   0.9662   0.7232   \n",
       "425  26923  150.131989  2.459291   1.7640    1.3648   0.6593   0.0647   \n",
       "426  27246  150.151794  2.463181   4.7752    0.1705   0.3698   0.0223   \n",
       "427  27770  150.110596  2.470558   5.7212    0.2663   0.6658   0.0307   \n",
       "428  28126  150.128952  2.474977   0.0143    0.2217   0.9396   0.7213   \n",
       "429  28212  150.142197  2.476512   2.4938    0.5789   0.3495   0.0673   \n",
       "430  28534  150.139313  2.480762   6.4746    1.6709   0.7106   0.0515   \n",
       "431  28690  150.139465  2.482525   1.9455    0.1078   0.2907   0.0378   \n",
       "432  29047  150.153992  2.487676   0.0176    0.3402   0.7609   0.4813   \n",
       "\n",
       "           n     n_err      mag    ...      ltau  metal  lage   Av  lmass  \\\n",
       "0     1.9423    0.5100  23.8350    ...       7.0   0.02   8.0  1.0   9.84   \n",
       "1     1.6098    0.3540  23.6160    ...       7.6   0.02   8.3  0.3   9.52   \n",
       "2     0.7501    0.1322  23.9613    ...       8.2   0.02   8.9  0.5  10.32   \n",
       "3     1.0652    0.1661  23.6125    ...       8.4   0.02   8.9  0.6  10.08   \n",
       "4     1.5731    0.0919  22.3135    ...       7.8   0.02   8.9  1.0  10.85   \n",
       "5     1.5878    0.2620  23.6156    ...       8.0   0.02   8.4  0.1   9.50   \n",
       "6     1.2344    0.3154  23.7778    ...       8.2   0.02   8.3  0.6   9.45   \n",
       "7     0.9676    0.1550  23.7735    ...       8.0   0.02   8.4  0.0   9.44   \n",
       "8     1.5430    0.3921  23.7896    ...       8.8   0.02   8.7  0.4   9.53   \n",
       "9     1.5551    0.0600  21.9976    ...       9.8   0.02   9.1  1.0  10.81   \n",
       "10    1.6721    0.0702  21.7114    ...       8.2   0.02   9.2  0.3  11.15   \n",
       "11    6.4797    4.5231  23.4546    ...       8.8   0.02   9.4  0.5  10.59   \n",
       "12    1.3249    0.1831  23.7134    ...       9.0   0.02   9.1  1.1  10.35   \n",
       "13    0.5888    0.0663  23.1800    ...       8.0   0.02   8.4  0.9   9.98   \n",
       "14    0.2428    0.0576  23.5480    ...       8.2   0.02   9.0  0.7  10.25   \n",
       "15    0.6303    0.0970  23.4861    ...       7.4   0.02   8.1  0.3   9.67   \n",
       "16    0.7743    0.0569  22.1846    ...       7.2   0.02   8.1  2.2  10.87   \n",
       "17    1.0416    0.2208  23.7768    ...       8.4   0.02   8.7  0.7   9.77   \n",
       "18    0.7809    0.0933  23.4565    ...       8.0   0.02   8.5  0.4   9.94   \n",
       "19    1.2378    0.2377  24.1429    ...       7.2   0.02   8.2  0.1   9.29   \n",
       "20    0.0713    0.0561  23.5230    ...       7.8   0.02   8.2  1.0   9.73   \n",
       "21    4.8540    1.6818  23.4281    ...       7.8   0.02   8.8  1.0  10.38   \n",
       "22    0.8088    0.1141  23.4111    ...       8.0   0.02   8.3  0.5   9.57   \n",
       "23    1.4456    0.1920  23.6848    ...       8.6   0.02   8.6  0.0   9.40   \n",
       "24    0.7796    0.1005  23.6894    ...       7.8   0.02   8.2  0.3   9.47   \n",
       "25  -99.0000  -99.0000 -99.0000    ...       7.0   0.02   8.6  1.6  10.71   \n",
       "26    0.4070    0.0798  23.6194    ...       8.6   0.02   8.5  0.3   9.44   \n",
       "27    3.2214    1.2785  23.8959    ...      10.0   0.02   9.0  0.8   9.76   \n",
       "28    0.4804    0.0871  23.7837    ...       8.0   0.02   8.4  0.1   9.27   \n",
       "29    3.9126    0.5579  22.2753    ...       8.2   0.02   8.9  1.0  10.75   \n",
       "..       ...       ...      ...    ...       ...    ...   ...  ...    ...   \n",
       "403   1.3504    0.3224  23.7471    ...       8.4   0.02   8.7  0.5   9.85   \n",
       "404   0.3712    0.0596  23.3691    ...       8.4   0.02   8.7  0.6  10.11   \n",
       "405   0.7829    0.0846  23.0412    ...       7.8   0.02   8.3  0.1   9.76   \n",
       "406   0.9649    0.1601  23.2998    ...       7.0   0.02   7.9  0.5   9.61   \n",
       "407   1.4534    0.0034  23.8483    ...       9.8   0.02   9.4  2.3  11.13   \n",
       "408   1.9827    0.4081  23.4980    ...       8.2   0.02   8.6  0.0   9.52   \n",
       "409   0.8633    0.1024  23.2670    ...       7.8   0.02   8.4  0.9  10.15   \n",
       "410   8.5341    2.2919  22.1832    ...       7.6   0.02   8.7  0.6  10.45   \n",
       "411   0.3287    0.0862  23.8101    ...       8.6   0.02   8.8  0.4   9.68   \n",
       "412   0.9625    0.1214  22.8849    ...       7.8   0.02   8.3  0.2   9.91   \n",
       "413   0.1999    0.0773  23.7773    ...       7.0   0.02   7.9  0.2   9.31   \n",
       "414   0.7250    0.1195  23.5283    ...       7.8   0.02   8.2  0.6   9.52   \n",
       "415   0.9447    0.1092  23.2233    ...       9.4   0.02   8.7  0.1   9.69   \n",
       "416  15.3985   10.4457  21.9841    ...       8.0   0.02   8.5  1.2  10.17   \n",
       "417  11.6711   16.3611  23.1976    ...       8.2   0.02   8.5  1.6  10.06   \n",
       "418   0.8071    0.1074  23.4169    ...       8.0   0.02   8.4  0.6   9.87   \n",
       "419  19.9999  137.3670  23.9452    ...       7.4   0.02   9.5  0.5  10.75   \n",
       "420   3.4304    0.4426  22.4266    ...       8.2   0.02   9.1  0.5  11.06   \n",
       "421   2.0361    0.1837  22.2678    ...       8.0   0.02   9.0  0.4  10.71   \n",
       "422   0.3700    0.0778  23.6174    ...       7.6   0.02   8.1  0.1   9.23   \n",
       "423   8.5333    2.1831  22.3453    ...       8.4   0.02   9.3  0.6  10.87   \n",
       "424  19.9978  109.6855  23.2128    ...       7.4   0.02   8.1  1.2  10.12   \n",
       "425  16.4924   15.9554  22.5649    ...       8.6   0.02   8.6  0.3   9.68   \n",
       "426   0.2154    0.0783  23.7796    ...       7.6   0.02   8.2  0.0   9.38   \n",
       "427   0.4261    0.0958  23.7935    ...       9.0   0.02   8.8  0.6   9.77   \n",
       "428  19.9737  108.8564  23.4456    ...       9.2   0.02   9.4  0.4  10.34   \n",
       "429   5.8148    3.0497  23.7737    ...       9.0   0.02   8.4  0.0   9.06   \n",
       "430   3.4331    0.8652  23.1032    ...       8.6   0.02   9.4  0.8  10.73   \n",
       "431   2.6053    0.4679  22.9825    ...       8.4   0.02   9.4  0.1  10.91   \n",
       "432  19.9505  114.9971  21.1843    ...       7.0   0.02   7.9  0.6  10.29   \n",
       "\n",
       "      lsfr  lssfr  la2t   chi2      F814W  \n",
       "0    -1.33 -11.17   1.0  1.770  25.139951  \n",
       "1    -0.09  -9.61   0.7  1.510  24.654070  \n",
       "2     0.16 -10.17   0.7  2.270  26.078290  \n",
       "3     0.52  -9.56   0.5  1.120  25.534734  \n",
       "4    -2.16 -13.00   1.1  2.010  25.210277  \n",
       "5     0.60  -8.90   0.4  1.280  24.342255  \n",
       "6     0.99  -8.46   0.1  1.450  24.508121  \n",
       "7     0.54  -8.90   0.4  1.920  24.616713  \n",
       "8     0.81  -8.72  -0.1  1.450  24.633077  \n",
       "9     1.85  -8.95  -0.7  1.260  23.171614  \n",
       "10   -1.12 -12.28   1.0  1.910  24.770081  \n",
       "11    0.31 -10.28   0.6  1.850  25.878616  \n",
       "12    1.15  -9.20   0.1  1.890  25.276804  \n",
       "13    1.08  -8.90   0.4  2.040  24.481843  \n",
       "14   -0.47 -10.72   0.8  2.100  25.804311  \n",
       "15    0.24  -9.43   0.7  1.460  24.400995  \n",
       "16    0.39 -10.49   0.9  5.430  24.777123  \n",
       "17    0.74  -9.03   0.3  1.630  25.067900  \n",
       "18    0.75  -9.19   0.5  2.540  24.511564  \n",
       "19   -2.07 -11.36   1.0  1.820  24.970113  \n",
       "20    1.02  -8.71   0.4  2.900  24.499320  \n",
       "21   -1.53 -11.91   1.0  1.410  26.261607  \n",
       "22    0.92  -8.66   0.3  1.210  24.342168  \n",
       "23    0.72  -8.68   0.0  1.780  24.112176  \n",
       "24    0.75  -8.71   0.4  1.300  24.326847  \n",
       "25  -12.60 -23.31   1.6  1.720  26.429275  \n",
       "26    0.90  -8.53  -0.1  1.390  24.233926  \n",
       "27    0.92  -8.84  -1.0  1.860  25.071380  \n",
       "28    0.37  -8.90   0.4  1.540  24.656297  \n",
       "29    0.58 -10.17   0.7  1.500  24.989630  \n",
       "..     ...    ...   ...    ...        ...  \n",
       "403   0.82  -9.03   0.3  1.310  24.866629  \n",
       "404   1.08  -9.03   0.3  1.770  24.552488  \n",
       "405   0.76  -9.00   0.5  1.910  23.664337  \n",
       "406  -0.69 -10.30   0.9  1.690  24.239327  \n",
       "407   1.86  -9.27  -0.4  1.340  26.544937  \n",
       "408   0.44  -9.09   0.4  1.870  24.222237  \n",
       "409   0.79  -9.36   0.6  2.770  24.866271  \n",
       "410  -2.37 -12.82   1.1  1.570  24.718483  \n",
       "411   0.66  -9.01   0.2  1.940  24.839938  \n",
       "412   0.90  -9.00   0.5  1.440  23.646925  \n",
       "413  -1.00 -10.30   0.9  1.130  24.475889  \n",
       "414   0.80  -8.71   0.4  1.840  24.412388  \n",
       "415   1.10  -8.58  -0.7  0.961  23.605363  \n",
       "416   0.99  -9.19   0.5  1.820  24.852801  \n",
       "417   1.22  -8.84   0.3  3.200  25.448467  \n",
       "418   0.98  -8.90   0.4  1.170  24.320926  \n",
       "419 -99.00 -99.00   2.1  1.620  27.799512  \n",
       "420  -0.35 -11.41   0.9  1.370  25.666245  \n",
       "421  -1.39 -12.10   1.0  1.430  25.001499  \n",
       "422   0.41  -8.82   0.5  2.080  24.282843  \n",
       "423  -0.74 -11.61   0.9  1.530  25.525951  \n",
       "424   0.69  -9.43   0.7  3.730  25.085892  \n",
       "425   1.00  -8.68   0.0  1.700  23.803235  \n",
       "426   0.21  -9.17   0.6  1.130  24.442999  \n",
       "427   0.99  -8.77  -0.2  2.260  24.632944  \n",
       "428   0.78  -9.56   0.2  2.540        NaN  \n",
       "429   0.74  -8.32  -0.6  1.850        NaN  \n",
       "430  -0.37 -11.09   0.8  2.160        NaN  \n",
       "431  -1.58 -12.49   1.0  1.860        NaN  \n",
       "432  -0.01 -10.30   0.9  1.770        NaN  \n",
       "\n",
       "[433 rows x 185 columns]"
      ]
     },
     "metadata": {},
     "execution_count": 15
    }
   ],
   "source": [
    "pd.read_csv(dhst_savename)"
   ]
  },
  {
   "cell_type": "code",
   "execution_count": null,
   "metadata": {},
   "outputs": [],
   "source": []
  }
 ]
}