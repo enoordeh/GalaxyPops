{
 "metadata": {
  "language_info": {
   "codemirror_mode": {
    "name": "ipython",
    "version": 3
   },
   "file_extension": ".py",
   "mimetype": "text/x-python",
   "name": "python",
   "nbconvert_exporter": "python",
   "pygments_lexer": "ipython3",
   "version": "2.7.18-final"
  },
  "orig_nbformat": 2,
  "kernelspec": {
   "name": "python2",
   "display_name": "Python 2"
  }
 },
 "nbformat": 4,
 "nbformat_minor": 2,
 "cells": [
  {
   "source": [
    "### Collate XLSSC122 and 3DHST galfit catalogs\n",
    "- Dec 2/2020"
   ],
   "cell_type": "markdown",
   "metadata": {}
  },
  {
   "source": [
    "### Load modules"
   ],
   "cell_type": "markdown",
   "metadata": {}
  },
  {
   "cell_type": "code",
   "execution_count": 25,
   "metadata": {},
   "outputs": [
    {
     "output_type": "stream",
     "name": "stdout",
     "text": [
      "The autoreload extension is already loaded. To reload it, use:\n  %reload_ext autoreload\n"
     ]
    }
   ],
   "source": [
    "from __future__ import division\n",
    "import sys\n",
    "sys.path.insert(0,'/data/emiln/XLSSC122_GalPops/Analysis/Modules')\n",
    "from GalfitPyWrap import galfitwrap as gf\n",
    "import galfit_helpers as gfh\n",
    "import os\n",
    "import numpy as np\n",
    "import pandas as pd\n",
    "import glob\n",
    "from astropy import units as u\n",
    "from astropy import wcs\n",
    "from astropy.coordinates import SkyCoord\n",
    "from astropy.io import fits, ascii\n",
    "from astropy.table import Table, hstack, join\n",
    "import matplotlib\n",
    "import matplotlib.pyplot as plt\n",
    "%matplotlib inline\n",
    "%load_ext autoreload\n",
    "%autoreload 2"
   ]
  },
  {
   "source": [
    "### HST"
   ],
   "cell_type": "markdown",
   "metadata": {}
  },
  {
   "cell_type": "code",
   "execution_count": 58,
   "metadata": {},
   "outputs": [],
   "source": [
    "# Load catalogs\n",
    "galfit_filename = '/data/emiln/XLSSC122_GalPops/Analysis/HST/Results/final_galfit_stellar_PSF.csv'\n",
    "# phot_filename =  '/data/emiln/XLSSC122_GalPops/Data/HST/Products/catalogs/xlssc122_F105_F140_redshifts_short_v4_snr_em_member2_by_hand.cat'\n",
    "\n",
    "HST_cat_root = '/data/emiln/XLSSC122_GalPops/Data/HST/Products/catalogs/'\n",
    "HST_cat_filename = HST_cat_root+'xlssc122_F105_F140_redshifts_short_v4_snr_em_member2_by_hand.cat'\n",
    "full_df, phot_df = gfh.load_HST_galaxy_catalog(HST_cat_filename)\n",
    "\n",
    "galfit_df = pd.read_csv(galfit_filename)\n",
    "# phot_df = pd.read_csv(phot_filename, delim_whitespace=True)"
   ]
  },
  {
   "cell_type": "code",
   "execution_count": 59,
   "metadata": {},
   "outputs": [
    {
     "output_type": "execute_result",
     "data": {
      "text/plain": [
       "array(['phot-id', 'ra', 'dec', 'f105_kron', 'f105_ekron', 'f105_0p8',\n",
       "       'f105_e0p8', 'f140_kron', 'f140_ekron', 'f140_0p8', 'f140_e0p8',\n",
       "       'asec_fwhm', 'zz', 'zlo', 'zhi', 'chi', 'spec-id', 'mcode', 'snr',\n",
       "       'em-code', 'member1', 'member2', 'gold_cluster', 'gold_foreground',\n",
       "       'silver_cluster', '(f140)kron', 'color', 'F140W', 'ID', 'RA',\n",
       "       'DEC', 'r_center', 'X', 'Y'], dtype=object)"
      ]
     },
     "metadata": {},
     "execution_count": 59
    }
   ],
   "source": [
    "phot_df.columns.values"
   ]
  },
  {
   "cell_type": "code",
   "execution_count": 60,
   "metadata": {},
   "outputs": [
    {
     "output_type": "stream",
     "name": "stdout",
     "text": [
      "['ID' 'ra' 'dec' 're' 're_err' 'ar' 'ar_err' 'n' 'n_err' 'mag' 'mag_err'\n 'sky' 'sky_err' 'chi2nu' 'ErrorValue' '(f140)kron' 'DEC' 'F140W' 'RA' 'X'\n 'Y' 'asec_fwhm' 'chi' 'color' 'em-code' 'f105_0p8' 'f105_e0p8'\n 'f105_ekron' 'f105_kron' 'f140_0p8' 'f140_e0p8' 'f140_ekron' 'f140_kron'\n 'gold_cluster' 'gold_foreground' 'mcode' 'member1' 'member2' 'phot-id'\n 'r_center' 'silver_cluster' 'snr' 'spec-id' 'zhi' 'zlo' 'zz']\n37\n37\n"
     ]
    }
   ],
   "source": [
    "# Merge\n",
    "cols_to_use = phot_df.columns.difference(galfit_df.columns)\n",
    "hst_mdf = galfit_df.merge(phot_df[cols_to_use],how='inner',left_on='ID',right_on='phot-id')\n",
    "print(hst_mdf.columns.values)\n",
    "print(len(hst_mdf))\n",
    "print(len(galfit_df))"
   ]
  },
  {
   "cell_type": "code",
   "execution_count": 61,
   "metadata": {},
   "outputs": [],
   "source": [
    "### Compute stellar mass statistics from chains\n",
    "files_mstar = glob.glob('/data/emiln/XLSSC122_GalPops/Data/Products/HST/catalogs/mass_chains/*_post_lin_tw_mstar.out')"
   ]
  },
  {
   "cell_type": "code",
   "execution_count": 62,
   "metadata": {},
   "outputs": [],
   "source": [
    "ids = []\n",
    "masses = []\n",
    "stds = []\n",
    "for f in files_mstar:\n",
    "    mstar = pd.read_csv(f,header=None,skiprows=1,delimiter='\\s+')\n",
    "    id=f.split('/')[-1].split('_')[0]\n",
    "    if id[0] == '0': id=id[1:]\n",
    "    x=mstar[0]; y=mstar[1]; z=mstar[2]\n",
    "    nx=101\n",
    "    xu = np.unique(x)\n",
    "    yu = np.unique(y)\n",
    "    zu = np.reshape(z,(nx,nx))\n",
    "    p = np.sum(zu,axis=0)\n",
    "    p_norm = p/np.sum(p)\n",
    "    # print(len(p_norm),len(xu))\n",
    "    mass = np.dot(xu,p_norm)\n",
    "    std = np.sqrt(np.dot((xu-mass)**2,p_norm))\n",
    "    ids.append(int(id))\n",
    "    masses.append(float(mass))\n",
    "    stds.append(float(std))\n",
    "\n"
   ]
  },
  {
   "cell_type": "code",
   "execution_count": 63,
   "metadata": {},
   "outputs": [
    {
     "output_type": "execute_result",
     "data": {
      "text/html": "<div>\n<style scoped>\n    .dataframe tbody tr th:only-of-type {\n        vertical-align: middle;\n    }\n\n    .dataframe tbody tr th {\n        vertical-align: top;\n    }\n\n    .dataframe thead th {\n        text-align: right;\n    }\n</style>\n<table border=\"1\" class=\"dataframe\">\n  <thead>\n    <tr style=\"text-align: right;\">\n      <th></th>\n      <th>spec-id</th>\n      <th>mass</th>\n      <th>mass_err</th>\n    </tr>\n  </thead>\n  <tbody>\n    <tr>\n      <th>0</th>\n      <td>240</td>\n      <td>10.231026</td>\n      <td>0.137707</td>\n    </tr>\n    <tr>\n      <th>1</th>\n      <td>295</td>\n      <td>10.968724</td>\n      <td>0.013495</td>\n    </tr>\n    <tr>\n      <th>2</th>\n      <td>298</td>\n      <td>10.822529</td>\n      <td>0.076894</td>\n    </tr>\n    <tr>\n      <th>3</th>\n      <td>345</td>\n      <td>9.983817</td>\n      <td>0.208212</td>\n    </tr>\n    <tr>\n      <th>4</th>\n      <td>428</td>\n      <td>10.004328</td>\n      <td>0.267618</td>\n    </tr>\n    <tr>\n      <th>5</th>\n      <td>451</td>\n      <td>10.755394</td>\n      <td>0.087396</td>\n    </tr>\n    <tr>\n      <th>6</th>\n      <td>493</td>\n      <td>10.249928</td>\n      <td>0.169805</td>\n    </tr>\n    <tr>\n      <th>7</th>\n      <td>526</td>\n      <td>11.619915</td>\n      <td>0.040020</td>\n    </tr>\n    <tr>\n      <th>8</th>\n      <td>606</td>\n      <td>10.308117</td>\n      <td>0.118456</td>\n    </tr>\n    <tr>\n      <th>9</th>\n      <td>649</td>\n      <td>10.857841</td>\n      <td>0.102053</td>\n    </tr>\n    <tr>\n      <th>10</th>\n      <td>657</td>\n      <td>11.251713</td>\n      <td>0.032812</td>\n    </tr>\n    <tr>\n      <th>11</th>\n      <td>726</td>\n      <td>10.024899</td>\n      <td>0.282251</td>\n    </tr>\n    <tr>\n      <th>12</th>\n      <td>730</td>\n      <td>10.286724</td>\n      <td>0.102102</td>\n    </tr>\n    <tr>\n      <th>13</th>\n      <td>734</td>\n      <td>10.450643</td>\n      <td>0.109411</td>\n    </tr>\n    <tr>\n      <th>14</th>\n      <td>845</td>\n      <td>10.347347</td>\n      <td>0.146519</td>\n    </tr>\n    <tr>\n      <th>15</th>\n      <td>1032</td>\n      <td>10.689293</td>\n      <td>0.096161</td>\n    </tr>\n    <tr>\n      <th>16</th>\n      <td>1050</td>\n      <td>10.581541</td>\n      <td>0.108340</td>\n    </tr>\n    <tr>\n      <th>17</th>\n      <td>1064</td>\n      <td>10.741509</td>\n      <td>0.106439</td>\n    </tr>\n    <tr>\n      <th>18</th>\n      <td>1220</td>\n      <td>10.134020</td>\n      <td>0.167804</td>\n    </tr>\n  </tbody>\n</table>\n</div>",
      "text/plain": [
       "    spec-id       mass  mass_err\n",
       "0       240  10.231026  0.137707\n",
       "1       295  10.968724  0.013495\n",
       "2       298  10.822529  0.076894\n",
       "3       345   9.983817  0.208212\n",
       "4       428  10.004328  0.267618\n",
       "5       451  10.755394  0.087396\n",
       "6       493  10.249928  0.169805\n",
       "7       526  11.619915  0.040020\n",
       "8       606  10.308117  0.118456\n",
       "9       649  10.857841  0.102053\n",
       "10      657  11.251713  0.032812\n",
       "11      726  10.024899  0.282251\n",
       "12      730  10.286724  0.102102\n",
       "13      734  10.450643  0.109411\n",
       "14      845  10.347347  0.146519\n",
       "15     1032  10.689293  0.096161\n",
       "16     1050  10.581541  0.108340\n",
       "17     1064  10.741509  0.106439\n",
       "18     1220  10.134020  0.167804"
      ]
     },
     "metadata": {},
     "execution_count": 63
    }
   ],
   "source": [
    "mass_df"
   ]
  },
  {
   "cell_type": "code",
   "execution_count": 64,
   "metadata": {},
   "outputs": [
    {
     "output_type": "stream",
     "name": "stdout",
     "text": [
      "['ID' 'ra' 'dec' 're' 're_err' 'ar' 'ar_err' 'n' 'n_err' 'mag' 'mag_err'\n 'sky' 'sky_err' 'chi2nu' 'ErrorValue' '(f140)kron' 'DEC' 'F140W' 'RA' 'X'\n 'Y' 'asec_fwhm' 'chi' 'color' 'em-code' 'f105_0p8' 'f105_e0p8'\n 'f105_ekron' 'f105_kron' 'f140_0p8' 'f140_e0p8' 'f140_ekron' 'f140_kron'\n 'gold_cluster' 'gold_foreground' 'mcode' 'member1' 'member2' 'phot-id'\n 'r_center' 'silver_cluster' 'snr' 'spec-id' 'zhi' 'zlo' 'zz' 'mass'\n 'mass_err']\n"
     ]
    },
    {
     "output_type": "execute_result",
     "data": {
      "text/html": "<div>\n<style scoped>\n    .dataframe tbody tr th:only-of-type {\n        vertical-align: middle;\n    }\n\n    .dataframe tbody tr th {\n        vertical-align: top;\n    }\n\n    .dataframe thead th {\n        text-align: right;\n    }\n</style>\n<table border=\"1\" class=\"dataframe\">\n  <thead>\n    <tr style=\"text-align: right;\">\n      <th></th>\n      <th>ID</th>\n      <th>ra</th>\n      <th>dec</th>\n      <th>re</th>\n      <th>re_err</th>\n      <th>ar</th>\n      <th>ar_err</th>\n      <th>n</th>\n      <th>n_err</th>\n      <th>mag</th>\n      <th>...</th>\n      <th>phot-id</th>\n      <th>r_center</th>\n      <th>silver_cluster</th>\n      <th>snr</th>\n      <th>spec-id</th>\n      <th>zhi</th>\n      <th>zlo</th>\n      <th>zz</th>\n      <th>mass</th>\n      <th>mass_err</th>\n    </tr>\n  </thead>\n  <tbody>\n    <tr>\n      <th>0</th>\n      <td>529</td>\n      <td>34.434215</td>\n      <td>-3.758796</td>\n      <td>96.2689</td>\n      <td>11.8374</td>\n      <td>0.8192</td>\n      <td>0.0056</td>\n      <td>7.5569</td>\n      <td>0.2702</td>\n      <td>19.7563</td>\n      <td>...</td>\n      <td>529</td>\n      <td>0.010969</td>\n      <td>0</td>\n      <td>34.08530</td>\n      <td>526</td>\n      <td>1.981394</td>\n      <td>1.975346</td>\n      <td>1.979632</td>\n      <td>11.619915</td>\n      <td>0.040020</td>\n    </tr>\n    <tr>\n      <th>1</th>\n      <td>455</td>\n      <td>34.422282</td>\n      <td>-3.763513</td>\n      <td>4.6240</td>\n      <td>0.0721</td>\n      <td>0.9368</td>\n      <td>0.0087</td>\n      <td>2.9442</td>\n      <td>0.0643</td>\n      <td>21.7323</td>\n      <td>...</td>\n      <td>455</td>\n      <td>1.313392</td>\n      <td>0</td>\n      <td>22.31920</td>\n      <td>451</td>\n      <td>1.981299</td>\n      <td>1.974240</td>\n      <td>1.980749</td>\n      <td>10.755394</td>\n      <td>0.087396</td>\n    </tr>\n    <tr>\n      <th>2</th>\n      <td>661</td>\n      <td>34.434096</td>\n      <td>-3.757658</td>\n      <td>4.4956</td>\n      <td>0.1854</td>\n      <td>0.8957</td>\n      <td>0.0099</td>\n      <td>3.0743</td>\n      <td>0.1384</td>\n      <td>22.0689</td>\n      <td>...</td>\n      <td>661</td>\n      <td>0.111208</td>\n      <td>0</td>\n      <td>18.51870</td>\n      <td>657</td>\n      <td>1.987677</td>\n      <td>1.979659</td>\n      <td>1.982701</td>\n      <td>11.251713</td>\n      <td>0.032812</td>\n    </tr>\n    <tr>\n      <th>3</th>\n      <td>1036</td>\n      <td>34.432450</td>\n      <td>-3.749924</td>\n      <td>7.6350</td>\n      <td>0.9149</td>\n      <td>0.5144</td>\n      <td>0.0085</td>\n      <td>5.0309</td>\n      <td>0.4047</td>\n      <td>21.9548</td>\n      <td>...</td>\n      <td>1036</td>\n      <td>0.922889</td>\n      <td>0</td>\n      <td>17.43010</td>\n      <td>1032</td>\n      <td>1.982618</td>\n      <td>1.976072</td>\n      <td>1.981512</td>\n      <td>10.689293</td>\n      <td>0.096161</td>\n    </tr>\n    <tr>\n      <th>4</th>\n      <td>300</td>\n      <td>34.435031</td>\n      <td>-3.767948</td>\n      <td>2.2217</td>\n      <td>0.0403</td>\n      <td>0.7417</td>\n      <td>0.0139</td>\n      <td>2.5740</td>\n      <td>0.1577</td>\n      <td>22.4572</td>\n      <td>...</td>\n      <td>300</td>\n      <td>0.951805</td>\n      <td>0</td>\n      <td>16.91640</td>\n      <td>295</td>\n      <td>1.989074</td>\n      <td>1.984283</td>\n      <td>1.986897</td>\n      <td>10.968724</td>\n      <td>0.013495</td>\n    </tr>\n    <tr>\n      <th>5</th>\n      <td>920</td>\n      <td>34.435628</td>\n      <td>-3.753143</td>\n      <td>1.4499</td>\n      <td>0.0395</td>\n      <td>0.8452</td>\n      <td>0.0179</td>\n      <td>6.3884</td>\n      <td>0.4414</td>\n      <td>22.5358</td>\n      <td>...</td>\n      <td>920</td>\n      <td>0.595968</td>\n      <td>0</td>\n      <td>14.83810</td>\n      <td>917</td>\n      <td>1.963658</td>\n      <td>1.961974</td>\n      <td>1.962999</td>\n      <td>NaN</td>\n      <td>NaN</td>\n    </tr>\n    <tr>\n      <th>6</th>\n      <td>305</td>\n      <td>34.447153</td>\n      <td>-3.768007</td>\n      <td>11.3433</td>\n      <td>0.9366</td>\n      <td>0.4094</td>\n      <td>0.0070</td>\n      <td>7.3004</td>\n      <td>0.3759</td>\n      <td>22.0240</td>\n      <td>...</td>\n      <td>305</td>\n      <td>1.644519</td>\n      <td>0</td>\n      <td>11.84510</td>\n      <td>298</td>\n      <td>1.995379</td>\n      <td>1.990165</td>\n      <td>1.992867</td>\n      <td>10.822529</td>\n      <td>0.076894</td>\n    </tr>\n    <tr>\n      <th>7</th>\n      <td>1057</td>\n      <td>34.436886</td>\n      <td>-3.750173</td>\n      <td>3.3123</td>\n      <td>0.0364</td>\n      <td>0.5120</td>\n      <td>0.0081</td>\n      <td>1.6321</td>\n      <td>0.0645</td>\n      <td>22.7747</td>\n      <td>...</td>\n      <td>1057</td>\n      <td>0.925692</td>\n      <td>0</td>\n      <td>11.80230</td>\n      <td>1050</td>\n      <td>1.982959</td>\n      <td>1.974407</td>\n      <td>1.977232</td>\n      <td>10.581541</td>\n      <td>0.108340</td>\n    </tr>\n    <tr>\n      <th>8</th>\n      <td>1065</td>\n      <td>34.435917</td>\n      <td>-3.749538</td>\n      <td>4.5865</td>\n      <td>0.3128</td>\n      <td>0.3704</td>\n      <td>0.0405</td>\n      <td>0.9374</td>\n      <td>0.2062</td>\n      <td>22.7974</td>\n      <td>...</td>\n      <td>1065</td>\n      <td>0.964151</td>\n      <td>0</td>\n      <td>11.22480</td>\n      <td>1064</td>\n      <td>1.996971</td>\n      <td>1.983367</td>\n      <td>1.987974</td>\n      <td>10.741509</td>\n      <td>0.106439</td>\n    </tr>\n    <tr>\n      <th>9</th>\n      <td>608</td>\n      <td>34.438450</td>\n      <td>-3.760699</td>\n      <td>2.4748</td>\n      <td>0.0330</td>\n      <td>0.7395</td>\n      <td>0.0117</td>\n      <td>1.2098</td>\n      <td>0.0633</td>\n      <td>22.8834</td>\n      <td>...</td>\n      <td>608</td>\n      <td>0.488415</td>\n      <td>0</td>\n      <td>10.55160</td>\n      <td>606</td>\n      <td>1.971139</td>\n      <td>1.961619</td>\n      <td>1.965895</td>\n      <td>10.308117</td>\n      <td>0.118456</td>\n    </tr>\n    <tr>\n      <th>10</th>\n      <td>243</td>\n      <td>34.422417</td>\n      <td>-3.770003</td>\n      <td>2.3622</td>\n      <td>0.0400</td>\n      <td>0.5984</td>\n      <td>0.0127</td>\n      <td>2.1707</td>\n      <td>0.1341</td>\n      <td>22.5412</td>\n      <td>...</td>\n      <td>243</td>\n      <td>1.671102</td>\n      <td>0</td>\n      <td>10.08480</td>\n      <td>240</td>\n      <td>1.979908</td>\n      <td>1.974125</td>\n      <td>1.977416</td>\n      <td>10.231026</td>\n      <td>0.137707</td>\n    </tr>\n    <tr>\n      <th>11</th>\n      <td>644</td>\n      <td>34.433802</td>\n      <td>-3.758806</td>\n      <td>2.5159</td>\n      <td>0.0001</td>\n      <td>0.8568</td>\n      <td>0.0000</td>\n      <td>2.0915</td>\n      <td>0.0001</td>\n      <td>23.4352</td>\n      <td>...</td>\n      <td>644</td>\n      <td>0.033934</td>\n      <td>1</td>\n      <td>8.42173</td>\n      <td>642</td>\n      <td>2.055465</td>\n      <td>1.996587</td>\n      <td>2.040927</td>\n      <td>NaN</td>\n      <td>NaN</td>\n    </tr>\n    <tr>\n      <th>12</th>\n      <td>847</td>\n      <td>34.434697</td>\n      <td>-3.754887</td>\n      <td>1.7601</td>\n      <td>0.0445</td>\n      <td>0.8436</td>\n      <td>0.0203</td>\n      <td>1.9367</td>\n      <td>0.1745</td>\n      <td>23.3887</td>\n      <td>...</td>\n      <td>847</td>\n      <td>0.400530</td>\n      <td>0</td>\n      <td>8.00614</td>\n      <td>845</td>\n      <td>1.983010</td>\n      <td>1.974247</td>\n      <td>1.979286</td>\n      <td>10.347347</td>\n      <td>0.146519</td>\n    </tr>\n    <tr>\n      <th>13</th>\n      <td>375</td>\n      <td>34.444096</td>\n      <td>-3.765667</td>\n      <td>5.1813</td>\n      <td>0.1952</td>\n      <td>0.8496</td>\n      <td>0.0173</td>\n      <td>2.8866</td>\n      <td>0.1237</td>\n      <td>22.8787</td>\n      <td>...</td>\n      <td>375</td>\n      <td>1.248860</td>\n      <td>0</td>\n      <td>7.98415</td>\n      <td>372</td>\n      <td>1.964558</td>\n      <td>1.960181</td>\n      <td>1.962563</td>\n      <td>NaN</td>\n      <td>NaN</td>\n    </tr>\n    <tr>\n      <th>14</th>\n      <td>735</td>\n      <td>34.425011</td>\n      <td>-3.758034</td>\n      <td>2.7416</td>\n      <td>0.0741</td>\n      <td>0.4809</td>\n      <td>0.0144</td>\n      <td>2.5999</td>\n      <td>0.1981</td>\n      <td>23.2110</td>\n      <td>...</td>\n      <td>735</td>\n      <td>0.940239</td>\n      <td>0</td>\n      <td>7.52125</td>\n      <td>734</td>\n      <td>1.997584</td>\n      <td>1.989537</td>\n      <td>1.995728</td>\n      <td>10.450643</td>\n      <td>0.109411</td>\n    </tr>\n    <tr>\n      <th>15</th>\n      <td>1223</td>\n      <td>34.443347</td>\n      <td>-3.745001</td>\n      <td>1.4219</td>\n      <td>0.0387</td>\n      <td>0.7848</td>\n      <td>0.0211</td>\n      <td>2.1902</td>\n      <td>0.2149</td>\n      <td>23.3667</td>\n      <td>...</td>\n      <td>1223</td>\n      <td>1.701881</td>\n      <td>0</td>\n      <td>7.46657</td>\n      <td>1220</td>\n      <td>1.981801</td>\n      <td>1.972313</td>\n      <td>1.976339</td>\n      <td>10.134020</td>\n      <td>0.167804</td>\n    </tr>\n    <tr>\n      <th>16</th>\n      <td>347</td>\n      <td>34.441846</td>\n      <td>-3.766667</td>\n      <td>4.4635</td>\n      <td>0.2679</td>\n      <td>0.6600</td>\n      <td>0.0185</td>\n      <td>2.0550</td>\n      <td>0.1856</td>\n      <td>23.3954</td>\n      <td>...</td>\n      <td>347</td>\n      <td>1.138281</td>\n      <td>0</td>\n      <td>7.27599</td>\n      <td>345</td>\n      <td>2.013390</td>\n      <td>1.976060</td>\n      <td>1.990672</td>\n      <td>9.983817</td>\n      <td>0.208212</td>\n    </tr>\n    <tr>\n      <th>17</th>\n      <td>146</td>\n      <td>34.444783</td>\n      <td>-3.772856</td>\n      <td>7.0998</td>\n      <td>0.0911</td>\n      <td>0.4877</td>\n      <td>0.0056</td>\n      <td>0.8994</td>\n      <td>0.0270</td>\n      <td>22.8458</td>\n      <td>...</td>\n      <td>146</td>\n      <td>1.819404</td>\n      <td>0</td>\n      <td>6.71464</td>\n      <td>145</td>\n      <td>1.985694</td>\n      <td>1.977880</td>\n      <td>1.981413</td>\n      <td>NaN</td>\n      <td>NaN</td>\n    </tr>\n    <tr>\n      <th>18</th>\n      <td>497</td>\n      <td>34.433001</td>\n      <td>-3.763179</td>\n      <td>2.2093</td>\n      <td>0.0518</td>\n      <td>0.9806</td>\n      <td>0.0231</td>\n      <td>2.4437</td>\n      <td>0.1681</td>\n      <td>23.4293</td>\n      <td>...</td>\n      <td>497</td>\n      <td>0.471112</td>\n      <td>0</td>\n      <td>6.41402</td>\n      <td>493</td>\n      <td>1.973375</td>\n      <td>1.950722</td>\n      <td>1.961873</td>\n      <td>10.249928</td>\n      <td>0.169805</td>\n    </tr>\n    <tr>\n      <th>19</th>\n      <td>604</td>\n      <td>34.439389</td>\n      <td>-3.760298</td>\n      <td>8.4508</td>\n      <td>0.0780</td>\n      <td>0.2357</td>\n      <td>0.0039</td>\n      <td>0.3697</td>\n      <td>0.0212</td>\n      <td>23.3059</td>\n      <td>...</td>\n      <td>604</td>\n      <td>0.564692</td>\n      <td>0</td>\n      <td>5.77452</td>\n      <td>603</td>\n      <td>1.982696</td>\n      <td>1.967911</td>\n      <td>1.978797</td>\n      <td>NaN</td>\n      <td>NaN</td>\n    </tr>\n    <tr>\n      <th>20</th>\n      <td>1147</td>\n      <td>34.433624</td>\n      <td>-3.747747</td>\n      <td>1.6791</td>\n      <td>0.0477</td>\n      <td>0.6084</td>\n      <td>0.0235</td>\n      <td>0.8627</td>\n      <td>0.1467</td>\n      <td>23.8429</td>\n      <td>...</td>\n      <td>1147</td>\n      <td>1.131759</td>\n      <td>0</td>\n      <td>5.76285</td>\n      <td>1141</td>\n      <td>1.963468</td>\n      <td>1.962858</td>\n      <td>1.963307</td>\n      <td>NaN</td>\n      <td>NaN</td>\n    </tr>\n    <tr>\n      <th>21</th>\n      <td>407</td>\n      <td>34.446407</td>\n      <td>-3.765319</td>\n      <td>4.9984</td>\n      <td>0.4288</td>\n      <td>0.4922</td>\n      <td>0.0182</td>\n      <td>2.7526</td>\n      <td>0.3034</td>\n      <td>23.2205</td>\n      <td>...</td>\n      <td>407</td>\n      <td>1.433175</td>\n      <td>0</td>\n      <td>5.39205</td>\n      <td>402</td>\n      <td>1.979679</td>\n      <td>1.964912</td>\n      <td>1.972318</td>\n      <td>NaN</td>\n      <td>NaN</td>\n    </tr>\n    <tr>\n      <th>22</th>\n      <td>731</td>\n      <td>34.439754</td>\n      <td>-3.758259</td>\n      <td>1.4761</td>\n      <td>0.0496</td>\n      <td>0.6853</td>\n      <td>0.0279</td>\n      <td>1.9274</td>\n      <td>0.2479</td>\n      <td>23.7861</td>\n      <td>...</td>\n      <td>731</td>\n      <td>0.581082</td>\n      <td>0</td>\n      <td>5.23932</td>\n      <td>730</td>\n      <td>2.001035</td>\n      <td>1.988322</td>\n      <td>1.993321</td>\n      <td>10.286724</td>\n      <td>0.102102</td>\n    </tr>\n    <tr>\n      <th>23</th>\n      <td>653</td>\n      <td>34.433963</td>\n      <td>-3.759267</td>\n      <td>2.7330</td>\n      <td>0.1905</td>\n      <td>0.7094</td>\n      <td>0.0330</td>\n      <td>4.1513</td>\n      <td>0.5636</td>\n      <td>23.7874</td>\n      <td>...</td>\n      <td>653</td>\n      <td>0.056827</td>\n      <td>0</td>\n      <td>5.04712</td>\n      <td>649</td>\n      <td>2.024208</td>\n      <td>1.961489</td>\n      <td>1.997161</td>\n      <td>10.857841</td>\n      <td>0.102053</td>\n    </tr>\n    <tr>\n      <th>24</th>\n      <td>469</td>\n      <td>34.418647</td>\n      <td>-3.763720</td>\n      <td>2.3689</td>\n      <td>0.2696</td>\n      <td>0.7414</td>\n      <td>0.0356</td>\n      <td>5.1041</td>\n      <td>1.0718</td>\n      <td>23.9247</td>\n      <td>...</td>\n      <td>469</td>\n      <td>1.672436</td>\n      <td>0</td>\n      <td>4.12278</td>\n      <td>466</td>\n      <td>1.978946</td>\n      <td>1.978289</td>\n      <td>1.978762</td>\n      <td>NaN</td>\n      <td>NaN</td>\n    </tr>\n    <tr>\n      <th>25</th>\n      <td>726</td>\n      <td>34.430604</td>\n      <td>-3.757624</td>\n      <td>10.4533</td>\n      <td>0.3099</td>\n      <td>0.7094</td>\n      <td>0.0134</td>\n      <td>1.0001</td>\n      <td>0.0401</td>\n      <td>23.2616</td>\n      <td>...</td>\n      <td>726</td>\n      <td>0.379879</td>\n      <td>0</td>\n      <td>3.96213</td>\n      <td>726</td>\n      <td>1.978192</td>\n      <td>0.557189</td>\n      <td>1.968750</td>\n      <td>10.024899</td>\n      <td>0.282251</td>\n    </tr>\n    <tr>\n      <th>26</th>\n      <td>232</td>\n      <td>34.440507</td>\n      <td>-3.770359</td>\n      <td>4.5455</td>\n      <td>0.1223</td>\n      <td>0.5849</td>\n      <td>0.0161</td>\n      <td>1.0604</td>\n      <td>0.0615</td>\n      <td>23.8700</td>\n      <td>...</td>\n      <td>232</td>\n      <td>1.363620</td>\n      <td>0</td>\n      <td>3.93057</td>\n      <td>229</td>\n      <td>1.980032</td>\n      <td>1.975571</td>\n      <td>1.977933</td>\n      <td>NaN</td>\n      <td>NaN</td>\n    </tr>\n    <tr>\n      <th>27</th>\n      <td>454</td>\n      <td>34.418951</td>\n      <td>-3.763868</td>\n      <td>7.2194</td>\n      <td>0.1299</td>\n      <td>0.6032</td>\n      <td>0.0104</td>\n      <td>0.4462</td>\n      <td>0.0312</td>\n      <td>23.6148</td>\n      <td>...</td>\n      <td>454</td>\n      <td>1.647510</td>\n      <td>0</td>\n      <td>3.90987</td>\n      <td>452</td>\n      <td>1.973529</td>\n      <td>1.967451</td>\n      <td>1.970551</td>\n      <td>NaN</td>\n      <td>NaN</td>\n    </tr>\n    <tr>\n      <th>28</th>\n      <td>808</td>\n      <td>34.447713</td>\n      <td>-3.756092</td>\n      <td>7.1903</td>\n      <td>0.1554</td>\n      <td>0.3752</td>\n      <td>0.0081</td>\n      <td>0.7519</td>\n      <td>0.0476</td>\n      <td>23.8187</td>\n      <td>...</td>\n      <td>808</td>\n      <td>1.423891</td>\n      <td>0</td>\n      <td>3.72453</td>\n      <td>806</td>\n      <td>2.171852</td>\n      <td>1.969750</td>\n      <td>1.981150</td>\n      <td>NaN</td>\n      <td>NaN</td>\n    </tr>\n    <tr>\n      <th>29</th>\n      <td>240</td>\n      <td>34.451580</td>\n      <td>-3.770285</td>\n      <td>6.2574</td>\n      <td>0.1776</td>\n      <td>0.4466</td>\n      <td>0.0109</td>\n      <td>1.2056</td>\n      <td>0.0587</td>\n      <td>22.8880</td>\n      <td>...</td>\n      <td>240</td>\n      <td>2.152620</td>\n      <td>0</td>\n      <td>3.68478</td>\n      <td>236</td>\n      <td>1.979919</td>\n      <td>1.275339</td>\n      <td>1.977349</td>\n      <td>NaN</td>\n      <td>NaN</td>\n    </tr>\n    <tr>\n      <th>30</th>\n      <td>554</td>\n      <td>34.435274</td>\n      <td>-3.762475</td>\n      <td>4.9150</td>\n      <td>0.0798</td>\n      <td>0.2590</td>\n      <td>0.0113</td>\n      <td>0.3558</td>\n      <td>0.0450</td>\n      <td>23.8873</td>\n      <td>...</td>\n      <td>554</td>\n      <td>0.402057</td>\n      <td>0</td>\n      <td>3.64665</td>\n      <td>547</td>\n      <td>1.963626</td>\n      <td>1.961462</td>\n      <td>1.962710</td>\n      <td>NaN</td>\n      <td>NaN</td>\n    </tr>\n    <tr>\n      <th>31</th>\n      <td>334</td>\n      <td>34.427611</td>\n      <td>-3.767412</td>\n      <td>3.2758</td>\n      <td>0.0617</td>\n      <td>0.3407</td>\n      <td>0.0167</td>\n      <td>0.2150</td>\n      <td>0.0596</td>\n      <td>24.2432</td>\n      <td>...</td>\n      <td>334</td>\n      <td>1.115688</td>\n      <td>0</td>\n      <td>3.52634</td>\n      <td>329</td>\n      <td>1.971940</td>\n      <td>1.970820</td>\n      <td>1.971533</td>\n      <td>NaN</td>\n      <td>NaN</td>\n    </tr>\n    <tr>\n      <th>32</th>\n      <td>1127</td>\n      <td>34.438735</td>\n      <td>-3.748219</td>\n      <td>3.0917</td>\n      <td>0.1798</td>\n      <td>0.6689</td>\n      <td>0.0329</td>\n      <td>1.9576</td>\n      <td>0.2922</td>\n      <td>24.2148</td>\n      <td>...</td>\n      <td>1127</td>\n      <td>1.181373</td>\n      <td>1</td>\n      <td>3.05876</td>\n      <td>1125</td>\n      <td>2.001703</td>\n      <td>1.998227</td>\n      <td>2.000137</td>\n      <td>NaN</td>\n      <td>NaN</td>\n    </tr>\n    <tr>\n      <th>33</th>\n      <td>525</td>\n      <td>34.418961</td>\n      <td>-3.762811</td>\n      <td>4.0762</td>\n      <td>0.1191</td>\n      <td>0.3527</td>\n      <td>0.0226</td>\n      <td>0.3243</td>\n      <td>0.0835</td>\n      <td>24.3852</td>\n      <td>...</td>\n      <td>525</td>\n      <td>1.614987</td>\n      <td>1</td>\n      <td>3.05565</td>\n      <td>522</td>\n      <td>1.960900</td>\n      <td>1.956565</td>\n      <td>1.959066</td>\n      <td>NaN</td>\n      <td>NaN</td>\n    </tr>\n    <tr>\n      <th>34</th>\n      <td>434</td>\n      <td>34.446607</td>\n      <td>-3.764467</td>\n      <td>12.1055</td>\n      <td>1.3054</td>\n      <td>0.3985</td>\n      <td>0.0144</td>\n      <td>2.6135</td>\n      <td>0.2527</td>\n      <td>23.4476</td>\n      <td>...</td>\n      <td>434</td>\n      <td>1.412602</td>\n      <td>0</td>\n      <td>3.05189</td>\n      <td>428</td>\n      <td>2.205463</td>\n      <td>1.147973</td>\n      <td>1.977346</td>\n      <td>10.004328</td>\n      <td>0.267618</td>\n    </tr>\n    <tr>\n      <th>35</th>\n      <td>266</td>\n      <td>34.421055</td>\n      <td>-3.769239</td>\n      <td>5.5744</td>\n      <td>0.1587</td>\n      <td>0.2530</td>\n      <td>0.0118</td>\n      <td>0.9472</td>\n      <td>0.0836</td>\n      <td>24.0633</td>\n      <td>...</td>\n      <td>266</td>\n      <td>1.724443</td>\n      <td>0</td>\n      <td>2.77050</td>\n      <td>263</td>\n      <td>1.979784</td>\n      <td>1.973145</td>\n      <td>1.976128</td>\n      <td>NaN</td>\n      <td>NaN</td>\n    </tr>\n    <tr>\n      <th>36</th>\n      <td>1257</td>\n      <td>34.446333</td>\n      <td>-3.743596</td>\n      <td>7.6353</td>\n      <td>0.3014</td>\n      <td>0.6304</td>\n      <td>0.0204</td>\n      <td>0.8331</td>\n      <td>0.0684</td>\n      <td>23.7344</td>\n      <td>...</td>\n      <td>1257</td>\n      <td>2.000670</td>\n      <td>1</td>\n      <td>2.29907</td>\n      <td>1253</td>\n      <td>3.442319</td>\n      <td>1.091318</td>\n      <td>2.018248</td>\n      <td>NaN</td>\n      <td>NaN</td>\n    </tr>\n  </tbody>\n</table>\n<p>37 rows × 48 columns</p>\n</div>",
      "text/plain": [
       "      ID         ra       dec       re   re_err      ar  ar_err       n  \\\n",
       "0    529  34.434215 -3.758796  96.2689  11.8374  0.8192  0.0056  7.5569   \n",
       "1    455  34.422282 -3.763513   4.6240   0.0721  0.9368  0.0087  2.9442   \n",
       "2    661  34.434096 -3.757658   4.4956   0.1854  0.8957  0.0099  3.0743   \n",
       "3   1036  34.432450 -3.749924   7.6350   0.9149  0.5144  0.0085  5.0309   \n",
       "4    300  34.435031 -3.767948   2.2217   0.0403  0.7417  0.0139  2.5740   \n",
       "5    920  34.435628 -3.753143   1.4499   0.0395  0.8452  0.0179  6.3884   \n",
       "6    305  34.447153 -3.768007  11.3433   0.9366  0.4094  0.0070  7.3004   \n",
       "7   1057  34.436886 -3.750173   3.3123   0.0364  0.5120  0.0081  1.6321   \n",
       "8   1065  34.435917 -3.749538   4.5865   0.3128  0.3704  0.0405  0.9374   \n",
       "9    608  34.438450 -3.760699   2.4748   0.0330  0.7395  0.0117  1.2098   \n",
       "10   243  34.422417 -3.770003   2.3622   0.0400  0.5984  0.0127  2.1707   \n",
       "11   644  34.433802 -3.758806   2.5159   0.0001  0.8568  0.0000  2.0915   \n",
       "12   847  34.434697 -3.754887   1.7601   0.0445  0.8436  0.0203  1.9367   \n",
       "13   375  34.444096 -3.765667   5.1813   0.1952  0.8496  0.0173  2.8866   \n",
       "14   735  34.425011 -3.758034   2.7416   0.0741  0.4809  0.0144  2.5999   \n",
       "15  1223  34.443347 -3.745001   1.4219   0.0387  0.7848  0.0211  2.1902   \n",
       "16   347  34.441846 -3.766667   4.4635   0.2679  0.6600  0.0185  2.0550   \n",
       "17   146  34.444783 -3.772856   7.0998   0.0911  0.4877  0.0056  0.8994   \n",
       "18   497  34.433001 -3.763179   2.2093   0.0518  0.9806  0.0231  2.4437   \n",
       "19   604  34.439389 -3.760298   8.4508   0.0780  0.2357  0.0039  0.3697   \n",
       "20  1147  34.433624 -3.747747   1.6791   0.0477  0.6084  0.0235  0.8627   \n",
       "21   407  34.446407 -3.765319   4.9984   0.4288  0.4922  0.0182  2.7526   \n",
       "22   731  34.439754 -3.758259   1.4761   0.0496  0.6853  0.0279  1.9274   \n",
       "23   653  34.433963 -3.759267   2.7330   0.1905  0.7094  0.0330  4.1513   \n",
       "24   469  34.418647 -3.763720   2.3689   0.2696  0.7414  0.0356  5.1041   \n",
       "25   726  34.430604 -3.757624  10.4533   0.3099  0.7094  0.0134  1.0001   \n",
       "26   232  34.440507 -3.770359   4.5455   0.1223  0.5849  0.0161  1.0604   \n",
       "27   454  34.418951 -3.763868   7.2194   0.1299  0.6032  0.0104  0.4462   \n",
       "28   808  34.447713 -3.756092   7.1903   0.1554  0.3752  0.0081  0.7519   \n",
       "29   240  34.451580 -3.770285   6.2574   0.1776  0.4466  0.0109  1.2056   \n",
       "30   554  34.435274 -3.762475   4.9150   0.0798  0.2590  0.0113  0.3558   \n",
       "31   334  34.427611 -3.767412   3.2758   0.0617  0.3407  0.0167  0.2150   \n",
       "32  1127  34.438735 -3.748219   3.0917   0.1798  0.6689  0.0329  1.9576   \n",
       "33   525  34.418961 -3.762811   4.0762   0.1191  0.3527  0.0226  0.3243   \n",
       "34   434  34.446607 -3.764467  12.1055   1.3054  0.3985  0.0144  2.6135   \n",
       "35   266  34.421055 -3.769239   5.5744   0.1587  0.2530  0.0118  0.9472   \n",
       "36  1257  34.446333 -3.743596   7.6353   0.3014  0.6304  0.0204  0.8331   \n",
       "\n",
       "     n_err      mag    ...     phot-id  r_center  silver_cluster       snr  \\\n",
       "0   0.2702  19.7563    ...         529  0.010969               0  34.08530   \n",
       "1   0.0643  21.7323    ...         455  1.313392               0  22.31920   \n",
       "2   0.1384  22.0689    ...         661  0.111208               0  18.51870   \n",
       "3   0.4047  21.9548    ...        1036  0.922889               0  17.43010   \n",
       "4   0.1577  22.4572    ...         300  0.951805               0  16.91640   \n",
       "5   0.4414  22.5358    ...         920  0.595968               0  14.83810   \n",
       "6   0.3759  22.0240    ...         305  1.644519               0  11.84510   \n",
       "7   0.0645  22.7747    ...        1057  0.925692               0  11.80230   \n",
       "8   0.2062  22.7974    ...        1065  0.964151               0  11.22480   \n",
       "9   0.0633  22.8834    ...         608  0.488415               0  10.55160   \n",
       "10  0.1341  22.5412    ...         243  1.671102               0  10.08480   \n",
       "11  0.0001  23.4352    ...         644  0.033934               1   8.42173   \n",
       "12  0.1745  23.3887    ...         847  0.400530               0   8.00614   \n",
       "13  0.1237  22.8787    ...         375  1.248860               0   7.98415   \n",
       "14  0.1981  23.2110    ...         735  0.940239               0   7.52125   \n",
       "15  0.2149  23.3667    ...        1223  1.701881               0   7.46657   \n",
       "16  0.1856  23.3954    ...         347  1.138281               0   7.27599   \n",
       "17  0.0270  22.8458    ...         146  1.819404               0   6.71464   \n",
       "18  0.1681  23.4293    ...         497  0.471112               0   6.41402   \n",
       "19  0.0212  23.3059    ...         604  0.564692               0   5.77452   \n",
       "20  0.1467  23.8429    ...        1147  1.131759               0   5.76285   \n",
       "21  0.3034  23.2205    ...         407  1.433175               0   5.39205   \n",
       "22  0.2479  23.7861    ...         731  0.581082               0   5.23932   \n",
       "23  0.5636  23.7874    ...         653  0.056827               0   5.04712   \n",
       "24  1.0718  23.9247    ...         469  1.672436               0   4.12278   \n",
       "25  0.0401  23.2616    ...         726  0.379879               0   3.96213   \n",
       "26  0.0615  23.8700    ...         232  1.363620               0   3.93057   \n",
       "27  0.0312  23.6148    ...         454  1.647510               0   3.90987   \n",
       "28  0.0476  23.8187    ...         808  1.423891               0   3.72453   \n",
       "29  0.0587  22.8880    ...         240  2.152620               0   3.68478   \n",
       "30  0.0450  23.8873    ...         554  0.402057               0   3.64665   \n",
       "31  0.0596  24.2432    ...         334  1.115688               0   3.52634   \n",
       "32  0.2922  24.2148    ...        1127  1.181373               1   3.05876   \n",
       "33  0.0835  24.3852    ...         525  1.614987               1   3.05565   \n",
       "34  0.2527  23.4476    ...         434  1.412602               0   3.05189   \n",
       "35  0.0836  24.0633    ...         266  1.724443               0   2.77050   \n",
       "36  0.0684  23.7344    ...        1257  2.000670               1   2.29907   \n",
       "\n",
       "    spec-id       zhi       zlo        zz       mass  mass_err  \n",
       "0       526  1.981394  1.975346  1.979632  11.619915  0.040020  \n",
       "1       451  1.981299  1.974240  1.980749  10.755394  0.087396  \n",
       "2       657  1.987677  1.979659  1.982701  11.251713  0.032812  \n",
       "3      1032  1.982618  1.976072  1.981512  10.689293  0.096161  \n",
       "4       295  1.989074  1.984283  1.986897  10.968724  0.013495  \n",
       "5       917  1.963658  1.961974  1.962999        NaN       NaN  \n",
       "6       298  1.995379  1.990165  1.992867  10.822529  0.076894  \n",
       "7      1050  1.982959  1.974407  1.977232  10.581541  0.108340  \n",
       "8      1064  1.996971  1.983367  1.987974  10.741509  0.106439  \n",
       "9       606  1.971139  1.961619  1.965895  10.308117  0.118456  \n",
       "10      240  1.979908  1.974125  1.977416  10.231026  0.137707  \n",
       "11      642  2.055465  1.996587  2.040927        NaN       NaN  \n",
       "12      845  1.983010  1.974247  1.979286  10.347347  0.146519  \n",
       "13      372  1.964558  1.960181  1.962563        NaN       NaN  \n",
       "14      734  1.997584  1.989537  1.995728  10.450643  0.109411  \n",
       "15     1220  1.981801  1.972313  1.976339  10.134020  0.167804  \n",
       "16      345  2.013390  1.976060  1.990672   9.983817  0.208212  \n",
       "17      145  1.985694  1.977880  1.981413        NaN       NaN  \n",
       "18      493  1.973375  1.950722  1.961873  10.249928  0.169805  \n",
       "19      603  1.982696  1.967911  1.978797        NaN       NaN  \n",
       "20     1141  1.963468  1.962858  1.963307        NaN       NaN  \n",
       "21      402  1.979679  1.964912  1.972318        NaN       NaN  \n",
       "22      730  2.001035  1.988322  1.993321  10.286724  0.102102  \n",
       "23      649  2.024208  1.961489  1.997161  10.857841  0.102053  \n",
       "24      466  1.978946  1.978289  1.978762        NaN       NaN  \n",
       "25      726  1.978192  0.557189  1.968750  10.024899  0.282251  \n",
       "26      229  1.980032  1.975571  1.977933        NaN       NaN  \n",
       "27      452  1.973529  1.967451  1.970551        NaN       NaN  \n",
       "28      806  2.171852  1.969750  1.981150        NaN       NaN  \n",
       "29      236  1.979919  1.275339  1.977349        NaN       NaN  \n",
       "30      547  1.963626  1.961462  1.962710        NaN       NaN  \n",
       "31      329  1.971940  1.970820  1.971533        NaN       NaN  \n",
       "32     1125  2.001703  1.998227  2.000137        NaN       NaN  \n",
       "33      522  1.960900  1.956565  1.959066        NaN       NaN  \n",
       "34      428  2.205463  1.147973  1.977346  10.004328  0.267618  \n",
       "35      263  1.979784  1.973145  1.976128        NaN       NaN  \n",
       "36     1253  3.442319  1.091318  2.018248        NaN       NaN  \n",
       "\n",
       "[37 rows x 48 columns]"
      ]
     },
     "metadata": {},
     "execution_count": 64
    }
   ],
   "source": [
    "mass_df = pd.DataFrame(list(zip(ids,masses,stds)),columns=['spec-id','mass','mass_err'])\n",
    "mhst_mdf = hst_mdf.merge(mass_df,on='spec-id',how='outer')\n",
    "print(mhst_mdf.columns.values)\n",
    "mhst_mdf"
   ]
  },
  {
   "cell_type": "code",
   "execution_count": 65,
   "metadata": {},
   "outputs": [],
   "source": [
    "# Save\n",
    "hst_savename = '/data/emiln/XLSSC122_GalPops/Analysis/Results/hst_galfit_full.csv'\n",
    "mhst_mdf.to_csv(hst_savename,index=False)"
   ]
  },
  {
   "source": [
    "### 3DHST"
   ],
   "cell_type": "markdown",
   "metadata": {}
  },
  {
   "cell_type": "code",
   "execution_count": 6,
   "metadata": {},
   "outputs": [
    {
     "output_type": "stream",
     "name": "stdout",
     "text": [
      "Checking if catalog exists at /data/emiln/XLSSC122_GalPops/Data/3DHST/Products/catalogs/magthresh24_z2.0_zthresh0.1.csv\nCatalog already exists, returning DataFrame\n"
     ]
    }
   ],
   "source": [
    "# Load catalogs\n",
    "DHST_cat_root = '/data/emiln/XLSSC122_GalPops/Data/3DHST/Products/catalogs/'\n",
    "DHST_cat_filename = DHST_cat_root+'cosmos_3dhst.v4.1.cats/Catalog/cosmos_3dhst.v4.1.cat'\n",
    "phot_df = gfh.load_3DHST_galaxy_catalog(DHST_cat_filename,  mag='F140W', magthresh=24, z=2.00, z_thresh=0.1, overwrite=False, verbose=True, goodfit=True) \n",
    "\n",
    "galfit_filename = '/data/emiln/XLSSC122_GalPops/Analysis/3DHST/Results/3DHST_z2_full_data_cps_sigma_rms_meanexp_cps_w5HLR_F140W_PSF_5min_CONV64_CONSTR_DYNMAG.csv'\n",
    "galfit_df = pd.read_csv(galfit_filename)\n"
   ]
  },
  {
   "cell_type": "code",
   "execution_count": 9,
   "metadata": {},
   "outputs": [
    {
     "output_type": "stream",
     "name": "stderr",
     "text": [
      "/data/emiln/miniconda2/lib/python2.7/site-packages/ipykernel_launcher.py:3: RuntimeWarning: invalid value encountered in log10\n  This is separate from the ipykernel package so we can avoid doing imports until\n"
     ]
    }
   ],
   "source": [
    "phot_df.columns.values\n",
    "# galfit_df.columns.values\n",
    "phot_df['F814W'] = 25.0 - 2.5 * np.log10(phot_df['f_F814W'])"
   ]
  },
  {
   "cell_type": "code",
   "execution_count": 10,
   "metadata": {},
   "outputs": [
    {
     "output_type": "stream",
     "name": "stdout",
     "text": [
      "['ID' 'ra' 'dec' 're' 're_err' 'ar' 'ar_err' 'n' 'n_err' 'mag' 'mag_err'\n 'sky' 'sky_err' 'chi2nu' 'ErrorValue' 'id' 'x' 'y' 'faper_F160W'\n 'eaper_F160W' 'faper_F140W' 'eaper_F140W' 'f_F160W' 'e_F160W' 'w_F160W'\n 'f_U' 'e_U' 'w_U' 'f_B' 'e_B' 'w_B' 'f_G' 'e_G' 'w_G' 'f_V' 'e_V' 'w_V'\n 'f_F606W' 'e_F606W' 'w_F606W' 'f_R' 'e_R' 'w_R' 'f_Rp' 'e_Rp' 'w_Rp'\n 'f_I' 'e_I' 'w_I' 'f_Ip' 'e_Ip' 'w_Ip' 'f_F814W' 'e_F814W' 'w_F814W'\n 'f_Z' 'e_Z' 'w_Z' 'f_Zp' 'e_Zp' 'w_Zp' 'f_UVISTA_Y' 'e_UVISTA_Y'\n 'w_UVISTA_Y' 'f_F125W' 'e_F125W' 'w_F125W' 'f_J1' 'e_J1' 'w_J1' 'f_J2'\n 'e_J2' 'w_J2' 'f_J3' 'e_J3' 'w_J3' 'f_J' 'e_J' 'w_J' 'f_UVISTA_J'\n 'e_UVISTA_J' 'w_UVISTA_J' 'f_F140W' 'e_F140W' 'w_F140W' 'f_H1' 'e_H1'\n 'w_H1' 'f_H2' 'e_H2' 'w_H2' 'f_H' 'e_H' 'w_H' 'f_UVISTA_H' 'e_UVISTA_H'\n 'w_UVISTA_H' 'f_K' 'e_K' 'w_K' 'f_Ks' 'e_Ks' 'w_Ks' 'f_UVISTA_Ks'\n 'e_UVISTA_Ks' 'w_UVISTA_Ks' 'f_IRAC1' 'e_IRAC1' 'w_IRAC1' 'f_IRAC2'\n 'e_IRAC2' 'w_IRAC2' 'f_IRAC3' 'e_IRAC3' 'w_IRAC3' 'f_IRAC4' 'e_IRAC4'\n 'w_IRAC4' 'f_IA427' 'e_IA427' 'f_IA464' 'e_IA464' 'f_IA484' 'e_IA484'\n 'f_IA505' 'e_IA505' 'f_IA527' 'e_IA527' 'f_IA574' 'e_IA574' 'f_IA624'\n 'e_IA624' 'f_IA679' 'e_IA679' 'f_IA709' 'e_IA709' 'f_IA738' 'e_IA738'\n 'f_IA767' 'e_IA767' 'f_IA827' 'e_IA827' 'tot_cor' 'wmin_ground'\n 'wmin_hst' 'wmin_irac' 'wmin_wfc3' 'z_spec' 'star_flag' 'kron_radius'\n 'a_image' 'b_image' 'theta_J2000' 'class_star' 'flux_radius' 'fwhm_image'\n 'flags' 'IRAC1_contam' 'IRAC2_contam' 'IRAC3_contam' 'IRAC4_contam'\n 'contam_flag' 'f140w_flag' 'use_phot' 'near_star' 'nexp_f125w'\n 'nexp_f140w' 'nexp_f160w' 'F140W' 'F140W_fixed' 'X' 'Y' 'RA' 'DEC' 'z'\n 'ltau' 'metal' 'lage' 'Av' 'lmass' 'lsfr' 'lssfr' 'la2t' 'chi2' 'F814W']\n136\n136\n"
     ]
    }
   ],
   "source": [
    "# Merge\n",
    "# cols_to_use = phot_df.columns.difference(galfit_df.columns)\n",
    "dhst_mdf = galfit_df.merge(phot_df,how='inner',on='ID',suffixes=('','_y'))\n",
    "dhst_mdf.drop(labels=['ra_y','dec_y'],axis=1,inplace=True)\n",
    "print(dhst_mdf.columns.values)\n",
    "print(len(dhst_mdf))\n",
    "print(len(galfit_df))"
   ]
  },
  {
   "cell_type": "code",
   "execution_count": 11,
   "metadata": {},
   "outputs": [],
   "source": [
    "# Save\n",
    "dhst_savename = '/data/emiln/XLSSC122_GalPops/Analysis/Results/3dhst_galfit_full.csv'\n",
    "dhst_mdf.to_csv(dhst_savename,index=False)"
   ]
  },
  {
   "cell_type": "code",
   "execution_count": null,
   "metadata": {},
   "outputs": [],
   "source": []
  }
 ]
}