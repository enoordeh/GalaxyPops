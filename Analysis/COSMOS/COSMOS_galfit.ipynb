{
 "metadata": {
  "language_info": {
   "codemirror_mode": {
    "name": "ipython",
    "version": 3
   },
   "file_extension": ".py",
   "mimetype": "text/x-python",
   "name": "python",
   "nbconvert_exporter": "python",
   "pygments_lexer": "ipython3",
   "version": "2.7.18-final"
  },
  "orig_nbformat": 2,
  "kernelspec": {
   "name": "Python 2.7.18 64-bit ('miniconda2': conda)",
   "display_name": "Python 2.7.18 64-bit ('miniconda2': conda)",
   "metadata": {
    "interpreter": {
     "hash": "00c8b6b64f89aae2e3461d8ff462552bdceb069014f9c4541f5a9a6ad206dba4"
    }
   }
  }
 },
 "nbformat": 4,
 "nbformat_minor": 2,
 "cells": [
  {
   "source": [
    "# Run Galfit on COSMOS galaxies\n",
    "- 10/27/2020: Updated to use galfit_helpers.py module"
   ],
   "cell_type": "markdown",
   "metadata": {}
  },
  {
   "source": [
    "### Load modules"
   ],
   "cell_type": "markdown",
   "metadata": {}
  },
  {
   "cell_type": "code",
   "execution_count": 3,
   "metadata": {},
   "outputs": [
    {
     "output_type": "stream",
     "name": "stderr",
     "text": [
      "/data/emiln/miniconda2/lib/python2.7/site-packages/pyfits/__init__.py:22: PyFITSDeprecationWarning: PyFITS is deprecated, please use astropy.io.fits\n  PyFITSDeprecationWarning)  # noqa\n"
     ]
    }
   ],
   "source": [
    "from __future__ import division\n",
    "import sys\n",
    "sys.path.insert(0,'/data/emiln/XLSSC122_GalPops/Analysis/Modules')\n",
    "from GalfitPyWrap import galfitwrap as gf\n",
    "import os\n",
    "import numpy as np\n",
    "import pandas as pd\n",
    "import matplotlib\n",
    "import matplotlib.pyplot as plt\n",
    "import glob\n",
    "from scipy import ndimage\n",
    "from astropy import units as u\n",
    "from astropy import wcs\n",
    "from astropy.coordinates import SkyCoord\n",
    "from astropy.io import fits, ascii\n",
    "from astropy.table import Table, hstack, join\n",
    "import pickle\n",
    "import fnmatch\n",
    "import multiprocessing as mp\n",
    "%matplotlib inline\n",
    "%load_ext autoreload\n",
    "%autoreload 2"
   ]
  },
  {
   "cell_type": "code",
   "execution_count": 10,
   "metadata": {},
   "outputs": [],
   "source": [
    "import galfit_helpers as gfh"
   ]
  },
  {
   "source": [
    "### Load COSMOS galaxy catalog"
   ],
   "cell_type": "markdown",
   "metadata": {}
  },
  {
   "cell_type": "code",
   "execution_count": 25,
   "metadata": {},
   "outputs": [
    {
     "output_type": "stream",
     "name": "stdout",
     "text": [
      "Checking if catalog exists at /data/emiln/XLSSC122_GalPops/Data/COSMOS/Products/catalogs/magthresh24.csv\nCatalog already exists, returning DataFrame\n"
     ]
    }
   ],
   "source": [
    "COSMOS_cat_root = '/data/emiln/XLSSC122_GalPops/Data/Products/COSMOS/catalogs/'\n",
    "COSMOS_cat_filename = COSMOS_cat_root+'cos_df_all_merged.csv'\n",
    "COSMOS_df = gfh.load_COSMOS_galaxy_catalog(COSMOS_cat_filename,magthresh=24, verbose=True)\n"
   ]
  },
  {
   "source": [
    "### Set Galfit parameters"
   ],
   "cell_type": "markdown",
   "metadata": {}
  },
  {
   "cell_type": "code",
   "execution_count": null,
   "metadata": {},
   "outputs": [],
   "source": []
  },
  {
   "source": [
    "### Run Galfit"
   ],
   "cell_type": "markdown",
   "metadata": {}
  },
  {
   "cell_type": "code",
   "execution_count": null,
   "metadata": {},
   "outputs": [],
   "source": []
  },
  {
   "source": [
    "### Validate results"
   ],
   "cell_type": "markdown",
   "metadata": {}
  },
  {
   "cell_type": "code",
   "execution_count": null,
   "metadata": {},
   "outputs": [],
   "source": []
  },
  {
   "source": [
    "### Save results"
   ],
   "cell_type": "markdown",
   "metadata": {}
  },
  {
   "cell_type": "code",
   "execution_count": null,
   "metadata": {},
   "outputs": [],
   "source": []
  }
 ]
}