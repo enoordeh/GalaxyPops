{
 "metadata": {
  "language_info": {
   "codemirror_mode": {
    "name": "ipython",
    "version": 3
   },
   "file_extension": ".py",
   "mimetype": "text/x-python",
   "name": "python",
   "nbconvert_exporter": "python",
   "pygments_lexer": "ipython3",
   "version": "2.7.18-final"
  },
  "orig_nbformat": 2,
  "kernelspec": {
   "name": "Python 2.7.18 64-bit ('miniconda2': conda)",
   "display_name": "Python 2.7.18 64-bit ('miniconda2': conda)",
   "metadata": {
    "interpreter": {
     "hash": "00c8b6b64f89aae2e3461d8ff462552bdceb069014f9c4541f5a9a6ad206dba4"
    }
   }
  }
 },
 "nbformat": 4,
 "nbformat_minor": 2,
 "cells": [
  {
   "source": [
    "# Run Galfit on COSMOS galaxies\n",
    "- 10/27/2020: Updated to use galfit_helpers.py module"
   ],
   "cell_type": "markdown",
   "metadata": {}
  },
  {
   "source": [
    "### Load modules"
   ],
   "cell_type": "markdown",
   "metadata": {}
  },
  {
   "cell_type": "code",
   "execution_count": 1,
   "metadata": {},
   "outputs": [
    {
     "output_type": "stream",
     "name": "stderr",
     "text": [
      "/data/emiln/miniconda2/lib/python2.7/site-packages/pyfits/__init__.py:22: PyFITSDeprecationWarning: PyFITS is deprecated, please use astropy.io.fits\n  PyFITSDeprecationWarning)  # noqa\n"
     ]
    }
   ],
   "source": [
    "from __future__ import division\n",
    "import sys\n",
    "sys.path.insert(0,'/data/emiln/XLSSC122_GalPops/Analysis/Modules')\n",
    "from GalfitPyWrap import galfitwrap as gf\n",
    "import os\n",
    "import numpy as np\n",
    "import pandas as pd\n",
    "import matplotlib\n",
    "import matplotlib.pyplot as plt\n",
    "import glob\n",
    "from scipy import ndimage\n",
    "from astropy import units as u\n",
    "from astropy import wcs\n",
    "from astropy.coordinates import SkyCoord\n",
    "from astropy.io import fits, ascii\n",
    "from astropy.table import Table, hstack, join\n",
    "import pickle\n",
    "import fnmatch\n",
    "import multiprocessing as mp\n",
    "%matplotlib inline\n",
    "%load_ext autoreload\n",
    "%autoreload 2"
   ]
  },
  {
   "cell_type": "code",
   "execution_count": 2,
   "metadata": {},
   "outputs": [],
   "source": [
    "import galfit_helpers as gfh"
   ]
  },
  {
   "source": [
    "### Load COSMOS galaxy catalog"
   ],
   "cell_type": "markdown",
   "metadata": {}
  },
  {
   "cell_type": "code",
   "execution_count": 11,
   "metadata": {},
   "outputs": [
    {
     "output_type": "stream",
     "name": "stdout",
     "text": [
      "Checking if catalog exists at /data/emiln/XLSSC122_GalPops/Data/COSMOS/Products/catalogs/magthresh30.csv\n",
      "Catalog already exists, returning DataFrame\n",
      "Checking if catalog exists at /data/emiln/XLSSC122_GalPops/Data/COSMOS/Products/catalogs/magthresh24.csv\n",
      "Catalog already exists, returning DataFrame\n"
     ]
    }
   ],
   "source": [
    "COSMOS_cat_root = '/data/emiln/XLSSC122_GalPops/Data/Products/COSMOS/catalogs/'\n",
    "COSMOS_cat_filename = COSMOS_cat_root+'cos_df_all_merged.csv'\n",
    "full_df = gfh.load_COSMOS_galaxy_catalog(COSMOS_cat_filename,magthresh=30, verbose=True)\n",
    "filtered_df = gfh.load_COSMOS_galaxy_catalog(COSMOS_cat_filename,magthresh=24, verbose=True)\n"
   ]
  },
  {
   "cell_type": "code",
   "execution_count": null,
   "metadata": {},
   "outputs": [],
   "source": [
    "filtered_df.co"
   ]
  },
  {
   "cell_type": "code",
   "execution_count": 18,
   "metadata": {},
   "outputs": [
    {
     "output_type": "stream",
     "name": "stdout",
     "text": [
      "('a', 'TEST', 'TEST2')\n{'test1': 'TEST1', 'test': 'TEST', 'test2': 'TEST2'}\n"
     ]
    }
   ],
   "source": [
    "def fun(a,test=None,test2=None,params=None,**kwargs):\n",
    "    print(a,test,test2)\n",
    "    print(params)\n",
    "params = {'test1':'TEST1','test2':'TEST2','test':'TEST'}\n",
    "fun('a',params=params,**params)"
   ]
  },
  {
   "source": [
    "### Set Galfit parameters"
   ],
   "cell_type": "markdown",
   "metadata": {}
  },
  {
   "cell_type": "code",
   "execution_count": 30,
   "metadata": {},
   "outputs": [],
   "source": [
    "fit_df = filtered_df[0:4]\n",
    "df_name = 'TEST_modular_galfit'\n",
    "psf_root = '/data/emiln/XLSSC122_GalPops/Data/Products/COSMOS/PSF/'\n",
    "psf_file = psf_root+'COSMOS/psfJ.fits' # J = F125W, H=F160W\n",
    "PSFf = 1 \n",
    "convbox='40 40'\n",
    "image_width = 200 # 200 for mag<23 objects, 400 for z2 objects\n",
    "timeout=2*60\n",
    "verbose=False\n",
    "width=10\n",
    "HLRwidth=10 # Cutout width = 2*HLwidth\n",
    "PA_INIT = 45\n",
    "AR_INIT = 0.5\n",
    "# zp = -21.1 # From header\n",
    "ZP = 26.2303 # From https://archive.stsci.edu/pub/hlsp/candels/cosmos/cos-tot/v1.0/hlsp_candels_hst_cos-tot_readme_v1.0.pdf\n",
    "MAG_INIT = 21\n",
    "fitMagnitude = True\n",
    "neighbourMagThresh=2\n",
    "DYNMAG = True\n",
    "sky='Default'\n",
    "sky_INIT=0.00001\n",
    "sigma_file = '/sigma_rms_meanexp_cps.fits'\n",
    "data_file = '/data_cps.fits'\n",
    "constraint_file = 'galfit_constr.txt' # Matches van der wel 2012 constraints\n",
    "# constr_file = 'none'\n",
    "badmask='none'\n",
    "save_name = None"
   ]
  },
  {
   "cell_type": "code",
   "execution_count": 39,
   "metadata": {},
   "outputs": [
    {
     "output_type": "execute_result",
     "data": {
      "text/plain": [
       "ID                                                           4\n",
       "IAU_designation       CANDELS_COSMOS_F160W_J100013.49+021027.5\n",
       "RA_x                                                   150.056\n",
       "DEC_x                                                  2.17432\n",
       "APCOR                                                  1.77497\n",
       "CFHT_uS_FLUX                                          0.247256\n",
       "CFHT_uS_FLUXERR                                      0.0207575\n",
       "CFHT_gS_FLUX                                           0.39028\n",
       "CFHT_gS_FLUXERR                                      0.0219568\n",
       "CFHT_rS_FLUX                                          0.447931\n",
       "CFHT_rS_FLUXERR                                      0.0257099\n",
       "CFHT_iS_FLUX                                           0.53651\n",
       "CFHT_iS_FLUXERR                                      0.0338225\n",
       "CFHT_zS_FLUX                                          0.600002\n",
       "CFHT_zS_FLUXERR                                      0.0573503\n",
       "Subaru_B_FLUX                                         0.289819\n",
       "Subaru_B_FLUXERR                                     0.0110337\n",
       "Subaru_gp_FLUX                                        0.350783\n",
       "Subaru_gp_FLUXERR                                    0.0252596\n",
       "Subaru_V_FLUX                                         0.435094\n",
       "Subaru_V_FLUXERR                                     0.0227782\n",
       "Subaru_rp_FLUX                                        0.421139\n",
       "Subaru_rp_FLUXERR                                    0.0224749\n",
       "Subaru_ip_FLUX                                        0.406723\n",
       "Subaru_ip_FLUXERR                                    0.0225428\n",
       "Subaru_zp_FLUX                                        0.609961\n",
       "Subaru_zp_FLUXERR                                    0.0618629\n",
       "ACS_F606W_FLUX                                             -99\n",
       "ACS_F606W_FLUXERR                                          -99\n",
       "ACS_F814W_FLUX                                             -99\n",
       "                                        ...                   \n",
       "zinf95_Gruetzbauch                                       0.004\n",
       "zsup95_Gruetzbauch                                       2.656\n",
       "Photo_z_Salvato                                         1.9773\n",
       "zinf68_Salvato                                          1.8759\n",
       "zsup68_Salvato                                          2.0296\n",
       "zinf95_Salvato                                          1.8193\n",
       "zsup95_Salvato                                           2.054\n",
       "NUMBER                                                       4\n",
       "RA_y                                                   150.056\n",
       "DEC_y                                                  2.17432\n",
       "f                                                            2\n",
       "mag                                                    23.7967\n",
       "dmag                                                  0.114563\n",
       "re                                                    0.117198\n",
       "dre                                                  0.0259817\n",
       "n                                                            8\n",
       "dn                                                     3.51131\n",
       "q                                                       0.4145\n",
       "dq                                                    0.136352\n",
       "pa                                                    -75.8593\n",
       "dpa                                                    15.9388\n",
       "sn                                                     28.0503\n",
       "z_best                                                   2.473\n",
       "F160W_Kron                                             23.8673\n",
       "HLR                                                      5.828\n",
       "RA                                                     150.056\n",
       "DEC                                                    2.17432\n",
       "F125W_Kron                                             22.5105\n",
       "X                                                      11002.4\n",
       "Y                                                      7601.27\n",
       "Name: 1, Length: 408, dtype: object"
      ]
     },
     "metadata": {},
     "execution_count": 39
    }
   ],
   "source": [
    "fit_df.iloc[1]"
   ]
  },
  {
   "cell_type": "code",
   "execution_count": 31,
   "metadata": {},
   "outputs": [],
   "source": [
    "params = {\n",
    "    'fit_df':fit_df, # Dataframe with objects to be fit\n",
    "    'full_df':full_df, # Unfiltered source catalog used for fitting neighbours\n",
    "    'width':width, # Fitting region width in pixels\n",
    "    'HLRwidth':HLRwidth, # Fitting region width in # of HLR\n",
    "    'sigma_file':sigma_file, # Filename of sigma maps for sources\n",
    "    'data_file':data_file, # Filename for data cutouts for each source\n",
    "    'PSF_file':psf_file, # File_name of PSF to be used\n",
    "    'usePSF':True, # Use PSF in fitting?\n",
    "    'timeout':timeout, # Max runtime per object in seconds\n",
    "    'PSFf':PSFf, # Fine sampling factor\n",
    "    'verbose':verbose, # Verbose mode\n",
    "    'PA_INIT':PA_INIT, # Initial position angle\n",
    "    'AR_INIT':AR_INIT, # Initial axis ratio\n",
    "    'MAG_INIT':MAG_INIT, # Initial magnitude\n",
    "    'convbox':convbox, # Region to convolve PSF with in pixels (i.e. '100 100')\n",
    "    'ZP':ZP, # Zeropoint \n",
    "    'constraint_file':constraint_file, # Galfit constraint filename\n",
    "    'image_width':image_width, # Size of data+sigma images being used (200 for COSMOS cutouts)\n",
    "    'useDYNMAG':DYNMAG, # Initialize magnitudes from catalog?\n",
    "    'badmask':badmask, # filename for bad pixel mask\n",
    "    'fitMagnitude':fitMagnitude, # Fit magnitudes?\n",
    "    'sky':sky, # Sky fitting mode for galfit (i.e. 'default')\n",
    "    'sky_INIT':sky_INIT, # Initial sky level\n",
    "    'neighbourMagThresh':neighbourMagThresh, # Additional magnitude threshhold to fit neighbours (i.e. 3 -> only neighbours with mag < source_mag+3 are fit)\n",
    "    'df_name': df_name, # Descriptive name of catalog being fit\n",
    "    'save_name':save_name # Filename to save results to, overrides default\n",
    "}"
   ]
  },
  {
   "cell_type": "code",
   "execution_count": 36,
   "metadata": {},
   "outputs": [
    {
     "output_type": "stream",
     "name": "stdout",
     "text": [
      "SAVE_NAME:TEST_modular_galfit_data_cps_sigma_rms_meanexp_cps_w10HLR_/data/emiln/XLSSC122_GalPops/Data/Products/COSMOS/PSF/COSMOS/psfJ_2min_CONV40_CONSTR_DYNMAG\n",
      "Initializing 1 with F125W Kron magnitude: 21.16\n",
      "ID 1\n",
      "RA: 150.0568177\n",
      "DEC: 2.173421\n",
      "Initial X: 10968.1486249\n",
      "Initial Y: 7547.44464024\n",
      "Cutout X: 200\n",
      "Cutout Y: 200\n",
      "Cutout width: 200\n",
      "Cutoutwidth (pixels) for ID 1 : 116\n",
      "Cutoutwidth (arcsec) for ID 1 : 6.96\n",
      "Bounds: [142, 258, 142, 258]\n",
      "4 NEIGHBOURS FOUND\n",
      "Adding additional model components for neighbours...\n",
      "NEIGHBOUR initialized with F125W Kron magnitude: 22.51\n",
      "NEIGHBOUR initialized with F125W Kron magnitude: 29.21\n",
      "Neighbour mag too faint, not being fit\n",
      "NEIGHBOUR initialized with F125W Kron magnitude: 23.76\n",
      "Neighbour mag too faint, not being fit\n",
      "NEIGHBOUR initialized with F125W Kron magnitude: 24.76\n",
      "Neighbour mag too faint, not being fit\n",
      "Using PSF\n"
     ]
    },
    {
     "output_type": "error",
     "ename": "IOError",
     "evalue": "[Errno 2] No such file or directory: '/data/emiln/XLSSC122_GalPops/Data/Products/COSMOS/galfit_results/1/input.feedme'",
     "traceback": [
      "\u001b[0;31m\u001b[0m",
      "\u001b[0;31mIOError\u001b[0mTraceback (most recent call last)",
      "\u001b[0;32m<ipython-input-36-6741b18251da>\u001b[0m in \u001b[0;36m<module>\u001b[0;34m()\u001b[0m\n\u001b[0;32m----> 1\u001b[0;31m \u001b[0mgfh\u001b[0m\u001b[0;34m.\u001b[0m\u001b[0mrun_galfit_parallel\u001b[0m\u001b[0;34m(\u001b[0m\u001b[0mparams\u001b[0m\u001b[0;34m,\u001b[0m\u001b[0;34m**\u001b[0m\u001b[0mparams\u001b[0m\u001b[0;34m)\u001b[0m \u001b[0;31m# Feeds in unwrapped params as well as a copy to be passed as kwargs to sub functions\u001b[0m\u001b[0;34m\u001b[0m\u001b[0m\n\u001b[0m",
      "\u001b[0;32m/data/emiln/XLSSC122_GalPops/Analysis/Modules/galfit_helpers.py\u001b[0m in \u001b[0;36mrun_galfit_parallel\u001b[0;34m(params, fit_df, full_df, zp, width, HLRwidth, PSFf, usePSF, timeout, verbose, PSF_file, sigma_file, data_file, save_name, PA_INIT, AR_INIT, MAG_INIT, useDYNMAG, convbox, constraint_file, image_width, badmask, fitMagnitude, neighbourMagThresh, sky, sky_INIT, N, df_name, **kwargs)\u001b[0m\n\u001b[1;32m    120\u001b[0m \u001b[0;34m\u001b[0m\u001b[0m\n\u001b[1;32m    121\u001b[0m     \u001b[0mresults\u001b[0m \u001b[0;34m=\u001b[0m \u001b[0;34m[\u001b[0m\u001b[0mpool\u001b[0m\u001b[0;34m.\u001b[0m\u001b[0mapply_async\u001b[0m\u001b[0;34m(\u001b[0m\u001b[0mrun_galfit\u001b[0m\u001b[0;34m,\u001b[0m \u001b[0margs\u001b[0m\u001b[0;34m=\u001b[0m\u001b[0;34m(\u001b[0m\u001b[0;34m[\u001b[0m\u001b[0mr\u001b[0m\u001b[0;34m]\u001b[0m\u001b[0;34m)\u001b[0m\u001b[0;34m,\u001b[0m \u001b[0mkwds\u001b[0m\u001b[0;34m=\u001b[0m\u001b[0mparams\u001b[0m\u001b[0;34m)\u001b[0m \u001b[0;32mfor\u001b[0m \u001b[0midx\u001b[0m\u001b[0;34m,\u001b[0m \u001b[0mr\u001b[0m \u001b[0;32min\u001b[0m \u001b[0mfit_df\u001b[0m\u001b[0;34m.\u001b[0m\u001b[0miterrows\u001b[0m\u001b[0;34m(\u001b[0m\u001b[0;34m)\u001b[0m\u001b[0;34m]\u001b[0m\u001b[0;34m\u001b[0m\u001b[0m\n\u001b[0;32m--> 122\u001b[0;31m     \u001b[0moutput\u001b[0m \u001b[0;34m=\u001b[0m \u001b[0;34m[\u001b[0m\u001b[0mp\u001b[0m\u001b[0;34m.\u001b[0m\u001b[0mget\u001b[0m\u001b[0;34m(\u001b[0m\u001b[0;34m)\u001b[0m \u001b[0;32mfor\u001b[0m \u001b[0mp\u001b[0m \u001b[0;32min\u001b[0m \u001b[0mresults\u001b[0m\u001b[0;34m]\u001b[0m\u001b[0;34m\u001b[0m\u001b[0m\n\u001b[0m\u001b[1;32m    123\u001b[0m     \u001b[0mpool\u001b[0m\u001b[0;34m.\u001b[0m\u001b[0mclose\u001b[0m\u001b[0;34m(\u001b[0m\u001b[0;34m)\u001b[0m\u001b[0;34m\u001b[0m\u001b[0m\n\u001b[1;32m    124\u001b[0m \u001b[0;34m\u001b[0m\u001b[0m\n",
      "\u001b[0;32m/data/emiln/miniconda2/lib/python2.7/multiprocessing/pool.pyc\u001b[0m in \u001b[0;36mget\u001b[0;34m(self, timeout)\u001b[0m\n\u001b[1;32m    570\u001b[0m             \u001b[0;32mreturn\u001b[0m \u001b[0mself\u001b[0m\u001b[0;34m.\u001b[0m\u001b[0m_value\u001b[0m\u001b[0;34m\u001b[0m\u001b[0m\n\u001b[1;32m    571\u001b[0m         \u001b[0;32melse\u001b[0m\u001b[0;34m:\u001b[0m\u001b[0;34m\u001b[0m\u001b[0m\n\u001b[0;32m--> 572\u001b[0;31m             \u001b[0;32mraise\u001b[0m \u001b[0mself\u001b[0m\u001b[0;34m.\u001b[0m\u001b[0m_value\u001b[0m\u001b[0;34m\u001b[0m\u001b[0m\n\u001b[0m\u001b[1;32m    573\u001b[0m \u001b[0;34m\u001b[0m\u001b[0m\n\u001b[1;32m    574\u001b[0m     \u001b[0;32mdef\u001b[0m \u001b[0m_set\u001b[0m\u001b[0;34m(\u001b[0m\u001b[0mself\u001b[0m\u001b[0;34m,\u001b[0m \u001b[0mi\u001b[0m\u001b[0;34m,\u001b[0m \u001b[0mobj\u001b[0m\u001b[0;34m)\u001b[0m\u001b[0;34m:\u001b[0m\u001b[0;34m\u001b[0m\u001b[0m\n",
      "\u001b[0;31mIOError\u001b[0m: [Errno 2] No such file or directory: '/data/emiln/XLSSC122_GalPops/Data/Products/COSMOS/galfit_results/1/input.feedme'"
     ]
    }
   ],
   "source": [
    "gfh.run_galfit_parallel(params,**params) # Feeds in unwrapped params as well as a copy to be passed as kwargs to sub functions"
   ]
  },
  {
   "cell_type": "code",
   "execution_count": null,
   "metadata": {},
   "outputs": [],
   "source": [
    "tdf = cos_df_highz[4:8]\n",
    "\n",
    "df_name = 'cos_highz_mag24'\n",
    "\n",
    "print len(tdf)\n",
    "\n",
    "print 'FINAL ID:', max(tdf['NUMBER'])\n",
    "\n",
    "pool = mp.Pool(4) \n",
    "\n",
    "psf_root = '/data/emiln/XLSSC122_GalPops/Data/Products/COSMOS/PSF/'\n",
    "psf_file = psf_root+'COSMOS/psfJ.fits' # J = F125W, H=F160W\n",
    "psf_name = 'cosmosPSFJ'\n",
    "\n",
    "PSFf = 1 # Fine sampling factor of PSF (integer). COSMOS image is 0.06''/pixel. If PSF is 0.03''/pixel -> PSFf = 2\n",
    "convbox='40 40'\n",
    "cutout_width = 400 # 200 for mag<23 objects, 400 for z2 objects\n",
    "# convbox='200 200'\n",
    "# timeout=2*300 # maximum fit run time, test 30min runtime, if running on 8 threads, 4 processes will idle --> set timeout to 2* normal\n",
    "timeout=5*60\n",
    "verb=False\n",
    "\n",
    "w=10\n",
    "HLwidth=10 # Cutout width = 2*HLwidth\n",
    "# HLwidth=False\n",
    "\n",
    "PA_INIT = 45\n",
    "AR_INIT = 0.5\n",
    "# zp = -21.1 # From header\n",
    "zp = 26.2303 # From https://archive.stsci.edu/pub/hlsp/candels/cosmos/cos-tot/v1.0/hlsp_candels_hst_cos-tot_readme_v1.0.pdf\n",
    "MAG_INIT = 21\n",
    "MAGFIT = True\n",
    "mag_thresh=2\n",
    "DYNMAG = True\n",
    "sky='Default' # {'Default','None'} : Default = {0: 'sky', 1: str(skyINIT)+' 1', 2: '0 0', 3: '0 0', 'Z': 0, 'Comment': 'StandardSky'}\n",
    "# sky = 'None'\n",
    "skyINIT=0.00001\n",
    "\n",
    "# sigma_file = '/sigma_meanexp_cutout.fits'\n",
    "sigma_file = '/sigma_rms_meanexp_cps.fits'\n",
    "# sigma_file = '/sigma_meanexp_counts.fits'\n",
    "# sigma_file = '/sigma_meanexp_counts_ADU_exp_adjusted.fits' #exposure header adjusted to 1900s --> https://archive.stsci.edu/pub/hlsp/candels/cosmos/cos-tot/v1.0/hlsp_candels_hst_cos-tot_readme_v1.0.pdf\n",
    "\n",
    "# cutout_file = '/cutout.fits'\n",
    "cutout_file = '/data_cps.fits'\n",
    "\n",
    "constr_file = 'galfit_constr.txt' # Matches van der wel 2012 constraints\n",
    "# constr_file = 'none'\n",
    "test = True\n",
    "\n",
    "badmask='none'\n",
    "# badmask='/20p_mask.fits'\n",
    "\n",
    "save_name = df_name+'_'+cutout_file[1:-5]+'_'+sigma_file[1:-5]+'_w'+\\\n",
    "            [str(HLwidth)+'HLR' if HLwidth!=False else str(w)][0]+'_'+psf_name+'_'+\\\n",
    "            str(int(timeout/60))+'min_CONV'+convbox.split(' ')[0]+\\\n",
    "            ['_CONSTR' if constr_file !='none' else ''][0]+['_DYNMAG' if DYNMAG else ''][0]+\\\n",
    "            ['_TEST' if test else ''][0]\n",
    "\n",
    "print 'SAVE_NAME:', save_name\n",
    "\n",
    "\n",
    "# results = [pool.apply_async(run_galfit_cosmos_parallel, args=([r])) for idx, r in tdf.iterrows()]\n",
    "\n",
    "results = [pool.apply_async(run_galfit_parallel, args=([r]), kwds={'OG_df':cos_df_OG,'width':w,\\\n",
    "            'sigma_file':sigma_file,'cutout_file':cutout_file,\\\n",
    "            'save_name':save_name,'psf_file':psf_file,\\\n",
    "            'use_psf':True,'timeout':timeout,'PSFf':PSFf,'verb':verb,'HLwidth':HLwidth,\\\n",
    "             'PA_INIT':PA_INIT, 'AR_INIT':AR_INIT, 'MAG_INIT':MAG_INIT, 'convbox':convbox,\\\n",
    "            'zp':zp,'constr':constr_file,'cutout_width':cutout_width,'DYNMAG':DYNMAG,\\\n",
    "             'badmask':badmask,'MAGFIT':MAGFIT, 'sky':sky,'skyINIT':skyINIT, 'mag_thresh':mag_thresh}) for idx, r in tdf.iterrows()]\n",
    "\n",
    "output = [p.get() for p in results]\n",
    "pool.close()\n",
    "print output\n",
    "\n",
    "new_df = pd.DataFrame(output,columns=['ID','ra','dec','re','ar','n','mag','sky','chi2nu','ErrorValue']) \n",
    "# ErrorValue of 124 = process timeout, 1 = GALFIT exception\n",
    "results_root = '/data/emiln/XLSSC122_GalPops/Analysis/COSMOS/Results/'\n",
    "new_df.to_csv(results_root+save_name+'.csv',index=False)\n",
    "new_df"
   ]
  },
  {
   "source": [
    "### Run Galfit"
   ],
   "cell_type": "markdown",
   "metadata": {}
  },
  {
   "cell_type": "code",
   "execution_count": null,
   "metadata": {},
   "outputs": [],
   "source": []
  },
  {
   "source": [
    "### Validate results"
   ],
   "cell_type": "markdown",
   "metadata": {}
  },
  {
   "cell_type": "code",
   "execution_count": null,
   "metadata": {},
   "outputs": [],
   "source": []
  },
  {
   "source": [
    "### Save results"
   ],
   "cell_type": "markdown",
   "metadata": {}
  },
  {
   "cell_type": "code",
   "execution_count": null,
   "metadata": {},
   "outputs": [],
   "source": []
  }
 ]
}